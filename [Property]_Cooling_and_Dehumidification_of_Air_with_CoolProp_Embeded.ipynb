{
  "nbformat": 4,
  "nbformat_minor": 0,
  "metadata": {
    "colab": {
      "name": "[Property] Cooling and Dehumidification of Air with CoolProp Embeded.ipynb",
      "provenance": [],
      "include_colab_link": true
    },
    "kernelspec": {
      "name": "python3",
      "display_name": "Python 3"
    }
  },
  "cells": [
    {
      "cell_type": "markdown",
      "metadata": {
        "id": "view-in-github",
        "colab_type": "text"
      },
      "source": [
        "<a href=\"https://colab.research.google.com/github/BingHungLee/Heat_Transfer/blob/master/%5BProperty%5D_Cooling_and_Dehumidification_of_Air_with_CoolProp_Embeded.ipynb\" target=\"_parent\"><img src=\"https://colab.research.google.com/assets/colab-badge.svg\" alt=\"Open In Colab\"/></a>"
      ]
    },
    {
      "cell_type": "markdown",
      "metadata": {
        "id": "15LG7aSVqJkv",
        "colab_type": "text"
      },
      "source": [
        "* Air enters at 1 atm, 30C and 80%RH at a rate of 10m3/min.\n",
        "* It leaves as saturated air at 14C, part of the air condensed.\n",
        "\n",
        "What is the rates of heat and moisture removal from the air ?"
      ]
    },
    {
      "cell_type": "markdown",
      "metadata": {
        "id": "GnbVrdMYqLxm",
        "colab_type": "text"
      },
      "source": [
        "### http://www.coolprop.org/fluid_properties/HumidAir.html"
      ]
    },
    {
      "cell_type": "markdown",
      "metadata": {
        "id": "NvrUFeABqM3X",
        "colab_type": "text"
      },
      "source": [
        "* Dry air mass balance  \n",
        " * ma1 = ma2 = ma\n",
        "* Water mass balance \n",
        " * ma1*w1 = ma2*w2 + mw\n",
        "* Energy balance\n",
        " * Qout  = ma(h1-h2) - mwhw"
      ]
    },
    {
      "cell_type": "code",
      "metadata": {
        "id": "rZz-38KsqJvb",
        "colab_type": "code",
        "colab": {
          "base_uri": "https://localhost:8080/",
          "height": 102
        },
        "outputId": "d9ec9891-1fbb-48aa-8408-b6d1d7354c49"
      },
      "source": [
        "!pip install CoolProp"
      ],
      "execution_count": 1,
      "outputs": [
        {
          "output_type": "stream",
          "text": [
            "Collecting CoolProp\n",
            "\u001b[?25l  Downloading https://files.pythonhosted.org/packages/03/d8/6cbeeb68464c7811a9d48f800618746d3415bf84d545add04eb4290f83c5/CoolProp-6.3.0-cp36-cp36m-manylinux1_x86_64.whl (4.0MB)\n",
            "\u001b[K     |████████████████████████████████| 4.0MB 2.8MB/s \n",
            "\u001b[?25hInstalling collected packages: CoolProp\n",
            "Successfully installed CoolProp-6.3.0\n"
          ],
          "name": "stdout"
        }
      ]
    },
    {
      "cell_type": "markdown",
      "metadata": {
        "id": "Ikt0aQ8IqR4T",
        "colab_type": "text"
      },
      "source": [
        "## Preporcess - Properties"
      ]
    },
    {
      "cell_type": "code",
      "metadata": {
        "id": "VT97Gxd5qPuL",
        "colab_type": "code",
        "colab": {
          "base_uri": "https://localhost:8080/",
          "height": 68
        },
        "outputId": "3d16c3c5-5065-4b9b-ce9c-b47bf82e61d9"
      },
      "source": [
        "from CoolProp.HumidAirProp import HAPropsSI\n",
        "from CoolProp.CoolProp import PhaseSI, PropsSI, get_global_param_string\n",
        "\n",
        "T1 = 30+273.15 #K\n",
        "P1 = 101325 #Pa\n",
        "RH1 = 0.8\n",
        "FR1 = 10 # m3/min\n",
        "\n",
        "h1 = HAPropsSI('H','T',T1,'P',P1,'R',RH1)/1000; print(h1) #85.4 kJ/kg\n",
        "W1 = HAPropsSI(\"W\", \"T\", T1, \"P\", P1, \"R\",RH1); print(W1) #0.0216 kg H2O/kg dry air\n",
        "v1 = HAPropsSI(\"Vha\", \"T\", T1, \"P\", P1, \"R\",RH1); print(v1)\n"
      ],
      "execution_count": 2,
      "outputs": [
        {
          "output_type": "stream",
          "text": [
            "85.56484884913536\n",
            "0.021675772036644517\n",
            "0.8695227397969099\n"
          ],
          "name": "stdout"
        }
      ]
    },
    {
      "cell_type": "code",
      "metadata": {
        "id": "WYa37L3kqTIy",
        "colab_type": "code",
        "colab": {
          "base_uri": "https://localhost:8080/",
          "height": 51
        },
        "outputId": "9fde8332-ebe5-4866-8879-c1852b497e5c"
      },
      "source": [
        "T2 = 14+273.15\n",
        "P2 = 101325\n",
        "RH2 = 1\n",
        "\n",
        "h2 = HAPropsSI('H','T',T2,'P',P2,'R',RH2)/1000; print(h2)\n",
        "W2 = HAPropsSI(\"W\", \"T\", T2, \"P\", P2, \"R\",RH2); print(W2)"
      ],
      "execution_count": 3,
      "outputs": [
        {
          "output_type": "stream",
          "text": [
            "39.37130717600509\n",
            "0.010013322796086114\n"
          ],
          "name": "stdout"
        }
      ]
    },
    {
      "cell_type": "code",
      "metadata": {
        "id": "6iXcflkdqUaL",
        "colab_type": "code",
        "colab": {
          "base_uri": "https://localhost:8080/",
          "height": 34
        },
        "outputId": "9d49659d-637e-49f3-cd03-124919b6c408"
      },
      "source": [
        "T3 = 14+273.15\n",
        "h3 = PropsSI('H','T',T3,'Q',0,'water')/1000;print(h3)"
      ],
      "execution_count": 4,
      "outputs": [
        {
          "output_type": "stream",
          "text": [
            "58.79198513454781\n"
          ],
          "name": "stdout"
        }
      ]
    },
    {
      "cell_type": "markdown",
      "metadata": {
        "id": "2SrexrUOqXCX",
        "colab_type": "text"
      },
      "source": [
        "## Dehumidification Process"
      ]
    },
    {
      "cell_type": "code",
      "metadata": {
        "id": "1AJBh5i5qVVz",
        "colab_type": "code",
        "colab": {
          "base_uri": "https://localhost:8080/",
          "height": 34
        },
        "outputId": "a94dfd83-6cb8-4e1d-afa9-51163d350335"
      },
      "source": [
        "ma = FR1/v1 ; print(ma) #kg/min"
      ],
      "execution_count": 5,
      "outputs": [
        {
          "output_type": "stream",
          "text": [
            "11.500561793629055\n"
          ],
          "name": "stdout"
        }
      ]
    },
    {
      "cell_type": "code",
      "metadata": {
        "id": "b2oqxZXQqYAD",
        "colab_type": "code",
        "colab": {
          "base_uri": "https://localhost:8080/",
          "height": 34
        },
        "outputId": "5a7d2d10-f3ba-4e71-b31c-6cd9ec31f3b6"
      },
      "source": [
        "mw = ma*(W1-W2) ; print(mw) #kg/min"
      ],
      "execution_count": 6,
      "outputs": [
        {
          "output_type": "stream",
          "text": [
            "0.13412471815610416\n"
          ],
          "name": "stdout"
        }
      ]
    },
    {
      "cell_type": "code",
      "metadata": {
        "id": "quZ47MKNqY7L",
        "colab_type": "code",
        "colab": {
          "base_uri": "https://localhost:8080/",
          "height": 34
        },
        "outputId": "c1deba64-3393-489f-c7cc-c1b5d42c5241"
      },
      "source": [
        "Qout = ma*(h1-h2)-mw*h3 ; print(Qout) #kJ/min"
      ],
      "execution_count": 8,
      "outputs": [
        {
          "output_type": "stream",
          "text": [
            "523.3662220424044\n"
          ],
          "name": "stdout"
        }
      ]
    },
    {
      "cell_type": "code",
      "metadata": {
        "id": "10axkZ39qZpb",
        "colab_type": "code",
        "colab": {}
      },
      "source": [
        ""
      ],
      "execution_count": 0,
      "outputs": []
    }
  ]
}