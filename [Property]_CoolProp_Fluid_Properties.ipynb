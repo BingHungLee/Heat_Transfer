{
  "nbformat": 4,
  "nbformat_minor": 0,
  "metadata": {
    "colab": {
      "name": "[Property] CoolProp Fluid Properties.ipynb",
      "provenance": [],
      "include_colab_link": true
    },
    "kernelspec": {
      "name": "python3",
      "display_name": "Python 3"
    }
  },
  "cells": [
    {
      "cell_type": "markdown",
      "metadata": {
        "id": "view-in-github",
        "colab_type": "text"
      },
      "source": [
        "<a href=\"https://colab.research.google.com/github/BingHungLee/Heat_Transfer/blob/master/%5BProperty%5D_CoolProp_Fluid_Properties.ipynb\" target=\"_parent\"><img src=\"https://colab.research.google.com/assets/colab-badge.svg\" alt=\"Open In Colab\"/></a>"
      ]
    },
    {
      "cell_type": "markdown",
      "metadata": {
        "id": "v48DW9Y4oE-G",
        "colab_type": "text"
      },
      "source": [
        "## Project Reference Site\n",
        "* http://www.coolprop.org/coolprop/HighLevelAPI.html\n",
        "### Table of string inputs to PropsSI function\n",
        "* http://www.coolprop.org/coolprop/HighLevelAPI.html#parameter-table\n",
        "### More examples of the high-level API\n",
        "* http://www.coolprop.org/coolprop/HighLevelAPI.html#props-sample"
      ]
    },
    {
      "cell_type": "code",
      "metadata": {
        "id": "7ip3Cua2oHX9",
        "colab_type": "code",
        "colab": {
          "base_uri": "https://localhost:8080/",
          "height": 102
        },
        "outputId": "aa01709d-d43d-40f1-e000-f2f4571da8e9"
      },
      "source": [
        "!pip install CoolProp"
      ],
      "execution_count": 1,
      "outputs": [
        {
          "output_type": "stream",
          "text": [
            "Collecting CoolProp\n",
            "\u001b[?25l  Downloading https://files.pythonhosted.org/packages/03/d8/6cbeeb68464c7811a9d48f800618746d3415bf84d545add04eb4290f83c5/CoolProp-6.3.0-cp36-cp36m-manylinux1_x86_64.whl (4.0MB)\n",
            "\r\u001b[K     |                                | 10kB 15.9MB/s eta 0:00:01\r\u001b[K     |▏                               | 20kB 6.4MB/s eta 0:00:01\r\u001b[K     |▎                               | 30kB 9.1MB/s eta 0:00:01\r\u001b[K     |▎                               | 40kB 5.8MB/s eta 0:00:01\r\u001b[K     |▍                               | 51kB 7.0MB/s eta 0:00:01\r\u001b[K     |▌                               | 61kB 8.3MB/s eta 0:00:01\r\u001b[K     |▋                               | 71kB 9.4MB/s eta 0:00:01\r\u001b[K     |▋                               | 81kB 10.5MB/s eta 0:00:01\r\u001b[K     |▊                               | 92kB 11.7MB/s eta 0:00:01\r\u001b[K     |▉                               | 102kB 9.3MB/s eta 0:00:01\r\u001b[K     |█                               | 112kB 9.3MB/s eta 0:00:01\r\u001b[K     |█                               | 122kB 9.3MB/s eta 0:00:01\r\u001b[K     |█                               | 133kB 9.3MB/s eta 0:00:01\r\u001b[K     |█▏                              | 143kB 9.3MB/s eta 0:00:01\r\u001b[K     |█▎                              | 153kB 9.3MB/s eta 0:00:01\r\u001b[K     |█▎                              | 163kB 9.3MB/s eta 0:00:01\r\u001b[K     |█▍                              | 174kB 9.3MB/s eta 0:00:01\r\u001b[K     |█▌                              | 184kB 9.3MB/s eta 0:00:01\r\u001b[K     |█▌                              | 194kB 9.3MB/s eta 0:00:01\r\u001b[K     |█▋                              | 204kB 9.3MB/s eta 0:00:01\r\u001b[K     |█▊                              | 215kB 9.3MB/s eta 0:00:01\r\u001b[K     |█▉                              | 225kB 9.3MB/s eta 0:00:01\r\u001b[K     |█▉                              | 235kB 9.3MB/s eta 0:00:01\r\u001b[K     |██                              | 245kB 9.3MB/s eta 0:00:01\r\u001b[K     |██                              | 256kB 9.3MB/s eta 0:00:01\r\u001b[K     |██▏                             | 266kB 9.3MB/s eta 0:00:01\r\u001b[K     |██▏                             | 276kB 9.3MB/s eta 0:00:01\r\u001b[K     |██▎                             | 286kB 9.3MB/s eta 0:00:01\r\u001b[K     |██▍                             | 296kB 9.3MB/s eta 0:00:01\r\u001b[K     |██▌                             | 307kB 9.3MB/s eta 0:00:01\r\u001b[K     |██▌                             | 317kB 9.3MB/s eta 0:00:01\r\u001b[K     |██▋                             | 327kB 9.3MB/s eta 0:00:01\r\u001b[K     |██▊                             | 337kB 9.3MB/s eta 0:00:01\r\u001b[K     |██▉                             | 348kB 9.3MB/s eta 0:00:01\r\u001b[K     |██▉                             | 358kB 9.3MB/s eta 0:00:01\r\u001b[K     |███                             | 368kB 9.3MB/s eta 0:00:01\r\u001b[K     |███                             | 378kB 9.3MB/s eta 0:00:01\r\u001b[K     |███                             | 389kB 9.3MB/s eta 0:00:01\r\u001b[K     |███▏                            | 399kB 9.3MB/s eta 0:00:01\r\u001b[K     |███▎                            | 409kB 9.3MB/s eta 0:00:01\r\u001b[K     |███▍                            | 419kB 9.3MB/s eta 0:00:01\r\u001b[K     |███▍                            | 430kB 9.3MB/s eta 0:00:01\r\u001b[K     |███▌                            | 440kB 9.3MB/s eta 0:00:01\r\u001b[K     |███▋                            | 450kB 9.3MB/s eta 0:00:01\r\u001b[K     |███▊                            | 460kB 9.3MB/s eta 0:00:01\r\u001b[K     |███▊                            | 471kB 9.3MB/s eta 0:00:01\r\u001b[K     |███▉                            | 481kB 9.3MB/s eta 0:00:01\r\u001b[K     |████                            | 491kB 9.3MB/s eta 0:00:01\r\u001b[K     |████                            | 501kB 9.3MB/s eta 0:00:01\r\u001b[K     |████                            | 512kB 9.3MB/s eta 0:00:01\r\u001b[K     |████▏                           | 522kB 9.3MB/s eta 0:00:01\r\u001b[K     |████▎                           | 532kB 9.3MB/s eta 0:00:01\r\u001b[K     |████▍                           | 542kB 9.3MB/s eta 0:00:01\r\u001b[K     |████▍                           | 552kB 9.3MB/s eta 0:00:01\r\u001b[K     |████▌                           | 563kB 9.3MB/s eta 0:00:01\r\u001b[K     |████▋                           | 573kB 9.3MB/s eta 0:00:01\r\u001b[K     |████▋                           | 583kB 9.3MB/s eta 0:00:01\r\u001b[K     |████▊                           | 593kB 9.3MB/s eta 0:00:01\r\u001b[K     |████▉                           | 604kB 9.3MB/s eta 0:00:01\r\u001b[K     |█████                           | 614kB 9.3MB/s eta 0:00:01\r\u001b[K     |█████                           | 624kB 9.3MB/s eta 0:00:01\r\u001b[K     |█████                           | 634kB 9.3MB/s eta 0:00:01\r\u001b[K     |█████▏                          | 645kB 9.3MB/s eta 0:00:01\r\u001b[K     |█████▎                          | 655kB 9.3MB/s eta 0:00:01\r\u001b[K     |█████▎                          | 665kB 9.3MB/s eta 0:00:01\r\u001b[K     |█████▍                          | 675kB 9.3MB/s eta 0:00:01\r\u001b[K     |█████▌                          | 686kB 9.3MB/s eta 0:00:01\r\u001b[K     |█████▋                          | 696kB 9.3MB/s eta 0:00:01\r\u001b[K     |█████▋                          | 706kB 9.3MB/s eta 0:00:01\r\u001b[K     |█████▊                          | 716kB 9.3MB/s eta 0:00:01\r\u001b[K     |█████▉                          | 727kB 9.3MB/s eta 0:00:01\r\u001b[K     |█████▉                          | 737kB 9.3MB/s eta 0:00:01\r\u001b[K     |██████                          | 747kB 9.3MB/s eta 0:00:01\r\u001b[K     |██████                          | 757kB 9.3MB/s eta 0:00:01\r\u001b[K     |██████▏                         | 768kB 9.3MB/s eta 0:00:01\r\u001b[K     |██████▏                         | 778kB 9.3MB/s eta 0:00:01\r\u001b[K     |██████▎                         | 788kB 9.3MB/s eta 0:00:01\r\u001b[K     |██████▍                         | 798kB 9.3MB/s eta 0:00:01\r\u001b[K     |██████▌                         | 808kB 9.3MB/s eta 0:00:01\r\u001b[K     |██████▌                         | 819kB 9.3MB/s eta 0:00:01\r\u001b[K     |██████▋                         | 829kB 9.3MB/s eta 0:00:01\r\u001b[K     |██████▊                         | 839kB 9.3MB/s eta 0:00:01\r\u001b[K     |██████▉                         | 849kB 9.3MB/s eta 0:00:01\r\u001b[K     |██████▉                         | 860kB 9.3MB/s eta 0:00:01\r\u001b[K     |███████                         | 870kB 9.3MB/s eta 0:00:01\r\u001b[K     |███████                         | 880kB 9.3MB/s eta 0:00:01\r\u001b[K     |███████▏                        | 890kB 9.3MB/s eta 0:00:01\r\u001b[K     |███████▏                        | 901kB 9.3MB/s eta 0:00:01\r\u001b[K     |███████▎                        | 911kB 9.3MB/s eta 0:00:01\r\u001b[K     |███████▍                        | 921kB 9.3MB/s eta 0:00:01\r\u001b[K     |███████▍                        | 931kB 9.3MB/s eta 0:00:01\r\u001b[K     |███████▌                        | 942kB 9.3MB/s eta 0:00:01\r\u001b[K     |███████▋                        | 952kB 9.3MB/s eta 0:00:01\r\u001b[K     |███████▊                        | 962kB 9.3MB/s eta 0:00:01\r\u001b[K     |███████▊                        | 972kB 9.3MB/s eta 0:00:01\r\u001b[K     |███████▉                        | 983kB 9.3MB/s eta 0:00:01\r\u001b[K     |████████                        | 993kB 9.3MB/s eta 0:00:01\r\u001b[K     |████████                        | 1.0MB 9.3MB/s eta 0:00:01\r\u001b[K     |████████                        | 1.0MB 9.3MB/s eta 0:00:01\r\u001b[K     |████████▏                       | 1.0MB 9.3MB/s eta 0:00:01\r\u001b[K     |████████▎                       | 1.0MB 9.3MB/s eta 0:00:01\r\u001b[K     |████████▍                       | 1.0MB 9.3MB/s eta 0:00:01\r\u001b[K     |████████▍                       | 1.1MB 9.3MB/s eta 0:00:01\r\u001b[K     |████████▌                       | 1.1MB 9.3MB/s eta 0:00:01\r\u001b[K     |████████▋                       | 1.1MB 9.3MB/s eta 0:00:01\r\u001b[K     |████████▊                       | 1.1MB 9.3MB/s eta 0:00:01\r\u001b[K     |████████▊                       | 1.1MB 9.3MB/s eta 0:00:01\r\u001b[K     |████████▉                       | 1.1MB 9.3MB/s eta 0:00:01\r\u001b[K     |█████████                       | 1.1MB 9.3MB/s eta 0:00:01\r\u001b[K     |█████████                       | 1.1MB 9.3MB/s eta 0:00:01\r\u001b[K     |█████████                       | 1.1MB 9.3MB/s eta 0:00:01\r\u001b[K     |█████████▏                      | 1.1MB 9.3MB/s eta 0:00:01\r\u001b[K     |█████████▎                      | 1.2MB 9.3MB/s eta 0:00:01\r\u001b[K     |█████████▎                      | 1.2MB 9.3MB/s eta 0:00:01\r\u001b[K     |█████████▍                      | 1.2MB 9.3MB/s eta 0:00:01\r\u001b[K     |█████████▌                      | 1.2MB 9.3MB/s eta 0:00:01\r\u001b[K     |█████████▋                      | 1.2MB 9.3MB/s eta 0:00:01\r\u001b[K     |█████████▋                      | 1.2MB 9.3MB/s eta 0:00:01\r\u001b[K     |█████████▊                      | 1.2MB 9.3MB/s eta 0:00:01\r\u001b[K     |█████████▉                      | 1.2MB 9.3MB/s eta 0:00:01\r\u001b[K     |██████████                      | 1.2MB 9.3MB/s eta 0:00:01\r\u001b[K     |██████████                      | 1.2MB 9.3MB/s eta 0:00:01\r\u001b[K     |██████████                      | 1.3MB 9.3MB/s eta 0:00:01\r\u001b[K     |██████████▏                     | 1.3MB 9.3MB/s eta 0:00:01\r\u001b[K     |██████████▏                     | 1.3MB 9.3MB/s eta 0:00:01\r\u001b[K     |██████████▎                     | 1.3MB 9.3MB/s eta 0:00:01\r\u001b[K     |██████████▍                     | 1.3MB 9.3MB/s eta 0:00:01\r\u001b[K     |██████████▌                     | 1.3MB 9.3MB/s eta 0:00:01\r\u001b[K     |██████████▌                     | 1.3MB 9.3MB/s eta 0:00:01\r\u001b[K     |██████████▋                     | 1.3MB 9.3MB/s eta 0:00:01\r\u001b[K     |██████████▊                     | 1.3MB 9.3MB/s eta 0:00:01\r\u001b[K     |██████████▉                     | 1.4MB 9.3MB/s eta 0:00:01\r\u001b[K     |██████████▉                     | 1.4MB 9.3MB/s eta 0:00:01\r\u001b[K     |███████████                     | 1.4MB 9.3MB/s eta 0:00:01\r\u001b[K     |███████████                     | 1.4MB 9.3MB/s eta 0:00:01\r\u001b[K     |███████████▏                    | 1.4MB 9.3MB/s eta 0:00:01\r\u001b[K     |███████████▏                    | 1.4MB 9.3MB/s eta 0:00:01\r\u001b[K     |███████████▎                    | 1.4MB 9.3MB/s eta 0:00:01\r\u001b[K     |███████████▍                    | 1.4MB 9.3MB/s eta 0:00:01\r\u001b[K     |███████████▌                    | 1.4MB 9.3MB/s eta 0:00:01\r\u001b[K     |███████████▌                    | 1.4MB 9.3MB/s eta 0:00:01\r\u001b[K     |███████████▋                    | 1.5MB 9.3MB/s eta 0:00:01\r\u001b[K     |███████████▊                    | 1.5MB 9.3MB/s eta 0:00:01\r\u001b[K     |███████████▊                    | 1.5MB 9.3MB/s eta 0:00:01\r\u001b[K     |███████████▉                    | 1.5MB 9.3MB/s eta 0:00:01\r\u001b[K     |████████████                    | 1.5MB 9.3MB/s eta 0:00:01\r\u001b[K     |████████████                    | 1.5MB 9.3MB/s eta 0:00:01\r\u001b[K     |████████████                    | 1.5MB 9.3MB/s eta 0:00:01\r\u001b[K     |████████████▏                   | 1.5MB 9.3MB/s eta 0:00:01\r\u001b[K     |████████████▎                   | 1.5MB 9.3MB/s eta 0:00:01\r\u001b[K     |████████████▍                   | 1.5MB 9.3MB/s eta 0:00:01\r\u001b[K     |████████████▍                   | 1.6MB 9.3MB/s eta 0:00:01\r\u001b[K     |████████████▌                   | 1.6MB 9.3MB/s eta 0:00:01\r\u001b[K     |████████████▋                   | 1.6MB 9.3MB/s eta 0:00:01\r\u001b[K     |████████████▊                   | 1.6MB 9.3MB/s eta 0:00:01\r\u001b[K     |████████████▊                   | 1.6MB 9.3MB/s eta 0:00:01\r\u001b[K     |████████████▉                   | 1.6MB 9.3MB/s eta 0:00:01\r\u001b[K     |█████████████                   | 1.6MB 9.3MB/s eta 0:00:01\r\u001b[K     |█████████████                   | 1.6MB 9.3MB/s eta 0:00:01\r\u001b[K     |█████████████                   | 1.6MB 9.3MB/s eta 0:00:01\r\u001b[K     |█████████████▏                  | 1.6MB 9.3MB/s eta 0:00:01\r\u001b[K     |█████████████▎                  | 1.7MB 9.3MB/s eta 0:00:01\r\u001b[K     |█████████████▎                  | 1.7MB 9.3MB/s eta 0:00:01\r\u001b[K     |█████████████▍                  | 1.7MB 9.3MB/s eta 0:00:01\r\u001b[K     |█████████████▌                  | 1.7MB 9.3MB/s eta 0:00:01\r\u001b[K     |█████████████▋                  | 1.7MB 9.3MB/s eta 0:00:01\r\u001b[K     |█████████████▋                  | 1.7MB 9.3MB/s eta 0:00:01\r\u001b[K     |█████████████▊                  | 1.7MB 9.3MB/s eta 0:00:01\r\u001b[K     |█████████████▉                  | 1.7MB 9.3MB/s eta 0:00:01\r\u001b[K     |██████████████                  | 1.7MB 9.3MB/s eta 0:00:01\r\u001b[K     |██████████████                  | 1.8MB 9.3MB/s eta 0:00:01\r\u001b[K     |██████████████                  | 1.8MB 9.3MB/s eta 0:00:01\r\u001b[K     |██████████████▏                 | 1.8MB 9.3MB/s eta 0:00:01\r\u001b[K     |██████████████▎                 | 1.8MB 9.3MB/s eta 0:00:01\r\u001b[K     |██████████████▎                 | 1.8MB 9.3MB/s eta 0:00:01\r\u001b[K     |██████████████▍                 | 1.8MB 9.3MB/s eta 0:00:01\r\u001b[K     |██████████████▌                 | 1.8MB 9.3MB/s eta 0:00:01\r\u001b[K     |██████████████▌                 | 1.8MB 9.3MB/s eta 0:00:01\r\u001b[K     |██████████████▋                 | 1.8MB 9.3MB/s eta 0:00:01\r\u001b[K     |██████████████▊                 | 1.8MB 9.3MB/s eta 0:00:01\r\u001b[K     |██████████████▉                 | 1.9MB 9.3MB/s eta 0:00:01\r\u001b[K     |██████████████▉                 | 1.9MB 9.3MB/s eta 0:00:01\r\u001b[K     |███████████████                 | 1.9MB 9.3MB/s eta 0:00:01\r\u001b[K     |███████████████                 | 1.9MB 9.3MB/s eta 0:00:01\r\u001b[K     |███████████████▏                | 1.9MB 9.3MB/s eta 0:00:01\r\u001b[K     |███████████████▏                | 1.9MB 9.3MB/s eta 0:00:01\r\u001b[K     |███████████████▎                | 1.9MB 9.3MB/s eta 0:00:01\r\u001b[K     |███████████████▍                | 1.9MB 9.3MB/s eta 0:00:01\r\u001b[K     |███████████████▌                | 1.9MB 9.3MB/s eta 0:00:01\r\u001b[K     |███████████████▌                | 1.9MB 9.3MB/s eta 0:00:01\r\u001b[K     |███████████████▋                | 2.0MB 9.3MB/s eta 0:00:01\r\u001b[K     |███████████████▊                | 2.0MB 9.3MB/s eta 0:00:01\r\u001b[K     |███████████████▉                | 2.0MB 9.3MB/s eta 0:00:01\r\u001b[K     |███████████████▉                | 2.0MB 9.3MB/s eta 0:00:01\r\u001b[K     |████████████████                | 2.0MB 9.3MB/s eta 0:00:01\r\u001b[K     |████████████████                | 2.0MB 9.3MB/s eta 0:00:01\r\u001b[K     |████████████████                | 2.0MB 9.3MB/s eta 0:00:01\r\u001b[K     |████████████████▏               | 2.0MB 9.3MB/s eta 0:00:01\r\u001b[K     |████████████████▎               | 2.0MB 9.3MB/s eta 0:00:01\r\u001b[K     |████████████████▍               | 2.0MB 9.3MB/s eta 0:00:01\r\u001b[K     |████████████████▍               | 2.1MB 9.3MB/s eta 0:00:01\r\u001b[K     |████████████████▌               | 2.1MB 9.3MB/s eta 0:00:01\r\u001b[K     |████████████████▋               | 2.1MB 9.3MB/s eta 0:00:01\r\u001b[K     |████████████████▊               | 2.1MB 9.3MB/s eta 0:00:01\r\u001b[K     |████████████████▊               | 2.1MB 9.3MB/s eta 0:00:01\r\u001b[K     |████████████████▉               | 2.1MB 9.3MB/s eta 0:00:01\r\u001b[K     |█████████████████               | 2.1MB 9.3MB/s eta 0:00:01\r\u001b[K     |█████████████████               | 2.1MB 9.3MB/s eta 0:00:01\r\u001b[K     |█████████████████               | 2.1MB 9.3MB/s eta 0:00:01\r\u001b[K     |█████████████████▏              | 2.2MB 9.3MB/s eta 0:00:01\r\u001b[K     |█████████████████▎              | 2.2MB 9.3MB/s eta 0:00:01\r\u001b[K     |█████████████████▍              | 2.2MB 9.3MB/s eta 0:00:01\r\u001b[K     |█████████████████▍              | 2.2MB 9.3MB/s eta 0:00:01\r\u001b[K     |█████████████████▌              | 2.2MB 9.3MB/s eta 0:00:01\r\u001b[K     |█████████████████▋              | 2.2MB 9.3MB/s eta 0:00:01\r\u001b[K     |█████████████████▋              | 2.2MB 9.3MB/s eta 0:00:01\r\u001b[K     |█████████████████▊              | 2.2MB 9.3MB/s eta 0:00:01\r\u001b[K     |█████████████████▉              | 2.2MB 9.3MB/s eta 0:00:01\r\u001b[K     |██████████████████              | 2.2MB 9.3MB/s eta 0:00:01\r\u001b[K     |██████████████████              | 2.3MB 9.3MB/s eta 0:00:01\r\u001b[K     |██████████████████              | 2.3MB 9.3MB/s eta 0:00:01\r\u001b[K     |██████████████████▏             | 2.3MB 9.3MB/s eta 0:00:01\r\u001b[K     |██████████████████▎             | 2.3MB 9.3MB/s eta 0:00:01\r\u001b[K     |██████████████████▎             | 2.3MB 9.3MB/s eta 0:00:01\r\u001b[K     |██████████████████▍             | 2.3MB 9.3MB/s eta 0:00:01\r\u001b[K     |██████████████████▌             | 2.3MB 9.3MB/s eta 0:00:01\r\u001b[K     |██████████████████▋             | 2.3MB 9.3MB/s eta 0:00:01\r\u001b[K     |██████████████████▋             | 2.3MB 9.3MB/s eta 0:00:01\r\u001b[K     |██████████████████▊             | 2.3MB 9.3MB/s eta 0:00:01\r\u001b[K     |██████████████████▉             | 2.4MB 9.3MB/s eta 0:00:01\r\u001b[K     |██████████████████▉             | 2.4MB 9.3MB/s eta 0:00:01\r\u001b[K     |███████████████████             | 2.4MB 9.3MB/s eta 0:00:01\r\u001b[K     |███████████████████             | 2.4MB 9.3MB/s eta 0:00:01\r\u001b[K     |███████████████████▏            | 2.4MB 9.3MB/s eta 0:00:01\r\u001b[K     |███████████████████▏            | 2.4MB 9.3MB/s eta 0:00:01\r\u001b[K     |███████████████████▎            | 2.4MB 9.3MB/s eta 0:00:01\r\u001b[K     |███████████████████▍            | 2.4MB 9.3MB/s eta 0:00:01\r\u001b[K     |███████████████████▌            | 2.4MB 9.3MB/s eta 0:00:01\r\u001b[K     |███████████████████▌            | 2.4MB 9.3MB/s eta 0:00:01\r\u001b[K     |███████████████████▋            | 2.5MB 9.3MB/s eta 0:00:01\r\u001b[K     |███████████████████▊            | 2.5MB 9.3MB/s eta 0:00:01\r\u001b[K     |███████████████████▉            | 2.5MB 9.3MB/s eta 0:00:01\r\u001b[K     |███████████████████▉            | 2.5MB 9.3MB/s eta 0:00:01\r\u001b[K     |████████████████████            | 2.5MB 9.3MB/s eta 0:00:01\r\u001b[K     |████████████████████            | 2.5MB 9.3MB/s eta 0:00:01\r\u001b[K     |████████████████████▏           | 2.5MB 9.3MB/s eta 0:00:01\r\u001b[K     |████████████████████▏           | 2.5MB 9.3MB/s eta 0:00:01\r\u001b[K     |████████████████████▎           | 2.5MB 9.3MB/s eta 0:00:01\r\u001b[K     |████████████████████▍           | 2.5MB 9.3MB/s eta 0:00:01\r\u001b[K     |████████████████████▍           | 2.6MB 9.3MB/s eta 0:00:01\r\u001b[K     |████████████████████▌           | 2.6MB 9.3MB/s eta 0:00:01\r\u001b[K     |████████████████████▋           | 2.6MB 9.3MB/s eta 0:00:01\r\u001b[K     |████████████████████▊           | 2.6MB 9.3MB/s eta 0:00:01\r\u001b[K     |████████████████████▊           | 2.6MB 9.3MB/s eta 0:00:01\r\u001b[K     |████████████████████▉           | 2.6MB 9.3MB/s eta 0:00:01\r\u001b[K     |█████████████████████           | 2.6MB 9.3MB/s eta 0:00:01\r\u001b[K     |█████████████████████           | 2.6MB 9.3MB/s eta 0:00:01\r\u001b[K     |█████████████████████           | 2.6MB 9.3MB/s eta 0:00:01\r\u001b[K     |█████████████████████▏          | 2.7MB 9.3MB/s eta 0:00:01\r\u001b[K     |█████████████████████▎          | 2.7MB 9.3MB/s eta 0:00:01\r\u001b[K     |█████████████████████▍          | 2.7MB 9.3MB/s eta 0:00:01\r\u001b[K     |█████████████████████▍          | 2.7MB 9.3MB/s eta 0:00:01\r\u001b[K     |█████████████████████▌          | 2.7MB 9.3MB/s eta 0:00:01\r\u001b[K     |█████████████████████▋          | 2.7MB 9.3MB/s eta 0:00:01\r\u001b[K     |█████████████████████▊          | 2.7MB 9.3MB/s eta 0:00:01\r\u001b[K     |█████████████████████▊          | 2.7MB 9.3MB/s eta 0:00:01\r\u001b[K     |█████████████████████▉          | 2.7MB 9.3MB/s eta 0:00:01\r\u001b[K     |██████████████████████          | 2.7MB 9.3MB/s eta 0:00:01\r\u001b[K     |██████████████████████          | 2.8MB 9.3MB/s eta 0:00:01\r\u001b[K     |██████████████████████          | 2.8MB 9.3MB/s eta 0:00:01\r\u001b[K     |██████████████████████▏         | 2.8MB 9.3MB/s eta 0:00:01\r\u001b[K     |██████████████████████▎         | 2.8MB 9.3MB/s eta 0:00:01\r\u001b[K     |██████████████████████▎         | 2.8MB 9.3MB/s eta 0:00:01\r\u001b[K     |██████████████████████▍         | 2.8MB 9.3MB/s eta 0:00:01\r\u001b[K     |██████████████████████▌         | 2.8MB 9.3MB/s eta 0:00:01\r\u001b[K     |██████████████████████▋         | 2.8MB 9.3MB/s eta 0:00:01\r\u001b[K     |██████████████████████▋         | 2.8MB 9.3MB/s eta 0:00:01\r\u001b[K     |██████████████████████▊         | 2.8MB 9.3MB/s eta 0:00:01\r\u001b[K     |██████████████████████▉         | 2.9MB 9.3MB/s eta 0:00:01\r\u001b[K     |███████████████████████         | 2.9MB 9.3MB/s eta 0:00:01\r\u001b[K     |███████████████████████         | 2.9MB 9.3MB/s eta 0:00:01\r\u001b[K     |███████████████████████         | 2.9MB 9.3MB/s eta 0:00:01\r\u001b[K     |███████████████████████▏        | 2.9MB 9.3MB/s eta 0:00:01\r\u001b[K     |███████████████████████▏        | 2.9MB 9.3MB/s eta 0:00:01\r\u001b[K     |███████████████████████▎        | 2.9MB 9.3MB/s eta 0:00:01\r\u001b[K     |███████████████████████▍        | 2.9MB 9.3MB/s eta 0:00:01\r\u001b[K     |███████████████████████▌        | 2.9MB 9.3MB/s eta 0:00:01\r\u001b[K     |███████████████████████▌        | 2.9MB 9.3MB/s eta 0:00:01\r\u001b[K     |███████████████████████▋        | 3.0MB 9.3MB/s eta 0:00:01\r\u001b[K     |███████████████████████▊        | 3.0MB 9.3MB/s eta 0:00:01\r\u001b[K     |███████████████████████▉        | 3.0MB 9.3MB/s eta 0:00:01\r\u001b[K     |███████████████████████▉        | 3.0MB 9.3MB/s eta 0:00:01\r\u001b[K     |████████████████████████        | 3.0MB 9.3MB/s eta 0:00:01\r\u001b[K     |████████████████████████        | 3.0MB 9.3MB/s eta 0:00:01\r\u001b[K     |████████████████████████▏       | 3.0MB 9.3MB/s eta 0:00:01\r\u001b[K     |████████████████████████▏       | 3.0MB 9.3MB/s eta 0:00:01\r\u001b[K     |████████████████████████▎       | 3.0MB 9.3MB/s eta 0:00:01\r\u001b[K     |████████████████████████▍       | 3.1MB 9.3MB/s eta 0:00:01\r\u001b[K     |████████████████████████▌       | 3.1MB 9.3MB/s eta 0:00:01\r\u001b[K     |████████████████████████▌       | 3.1MB 9.3MB/s eta 0:00:01\r\u001b[K     |████████████████████████▋       | 3.1MB 9.3MB/s eta 0:00:01\r\u001b[K     |████████████████████████▊       | 3.1MB 9.3MB/s eta 0:00:01\r\u001b[K     |████████████████████████▊       | 3.1MB 9.3MB/s eta 0:00:01\r\u001b[K     |████████████████████████▉       | 3.1MB 9.3MB/s eta 0:00:01\r\u001b[K     |█████████████████████████       | 3.1MB 9.3MB/s eta 0:00:01\r\u001b[K     |█████████████████████████       | 3.1MB 9.3MB/s eta 0:00:01\r\u001b[K     |█████████████████████████       | 3.1MB 9.3MB/s eta 0:00:01\r\u001b[K     |█████████████████████████▏      | 3.2MB 9.3MB/s eta 0:00:01\r\u001b[K     |█████████████████████████▎      | 3.2MB 9.3MB/s eta 0:00:01\r\u001b[K     |█████████████████████████▍      | 3.2MB 9.3MB/s eta 0:00:01\r\u001b[K     |█████████████████████████▍      | 3.2MB 9.3MB/s eta 0:00:01\r\u001b[K     |█████████████████████████▌      | 3.2MB 9.3MB/s eta 0:00:01\r\u001b[K     |█████████████████████████▋      | 3.2MB 9.3MB/s eta 0:00:01\r\u001b[K     |█████████████████████████▊      | 3.2MB 9.3MB/s eta 0:00:01\r\u001b[K     |█████████████████████████▊      | 3.2MB 9.3MB/s eta 0:00:01\r\u001b[K     |█████████████████████████▉      | 3.2MB 9.3MB/s eta 0:00:01\r\u001b[K     |██████████████████████████      | 3.2MB 9.3MB/s eta 0:00:01\r\u001b[K     |██████████████████████████      | 3.3MB 9.3MB/s eta 0:00:01\r\u001b[K     |██████████████████████████      | 3.3MB 9.3MB/s eta 0:00:01\r\u001b[K     |██████████████████████████▏     | 3.3MB 9.3MB/s eta 0:00:01\r\u001b[K     |██████████████████████████▎     | 3.3MB 9.3MB/s eta 0:00:01\r\u001b[K     |██████████████████████████▎     | 3.3MB 9.3MB/s eta 0:00:01\r\u001b[K     |██████████████████████████▍     | 3.3MB 9.3MB/s eta 0:00:01\r\u001b[K     |██████████████████████████▌     | 3.3MB 9.3MB/s eta 0:00:01\r\u001b[K     |██████████████████████████▋     | 3.3MB 9.3MB/s eta 0:00:01\r\u001b[K     |██████████████████████████▋     | 3.3MB 9.3MB/s eta 0:00:01\r\u001b[K     |██████████████████████████▊     | 3.3MB 9.3MB/s eta 0:00:01\r\u001b[K     |██████████████████████████▉     | 3.4MB 9.3MB/s eta 0:00:01\r\u001b[K     |███████████████████████████     | 3.4MB 9.3MB/s eta 0:00:01\r\u001b[K     |███████████████████████████     | 3.4MB 9.3MB/s eta 0:00:01\r\u001b[K     |███████████████████████████     | 3.4MB 9.3MB/s eta 0:00:01\r\u001b[K     |███████████████████████████▏    | 3.4MB 9.3MB/s eta 0:00:01\r\u001b[K     |███████████████████████████▎    | 3.4MB 9.3MB/s eta 0:00:01\r\u001b[K     |███████████████████████████▎    | 3.4MB 9.3MB/s eta 0:00:01\r\u001b[K     |███████████████████████████▍    | 3.4MB 9.3MB/s eta 0:00:01\r\u001b[K     |███████████████████████████▌    | 3.4MB 9.3MB/s eta 0:00:01\r\u001b[K     |███████████████████████████▌    | 3.5MB 9.3MB/s eta 0:00:01\r\u001b[K     |███████████████████████████▋    | 3.5MB 9.3MB/s eta 0:00:01\r\u001b[K     |███████████████████████████▊    | 3.5MB 9.3MB/s eta 0:00:01\r\u001b[K     |███████████████████████████▉    | 3.5MB 9.3MB/s eta 0:00:01\r\u001b[K     |███████████████████████████▉    | 3.5MB 9.3MB/s eta 0:00:01\r\u001b[K     |████████████████████████████    | 3.5MB 9.3MB/s eta 0:00:01\r\u001b[K     |████████████████████████████    | 3.5MB 9.3MB/s eta 0:00:01\r\u001b[K     |████████████████████████████▏   | 3.5MB 9.3MB/s eta 0:00:01\r\u001b[K     |████████████████████████████▏   | 3.5MB 9.3MB/s eta 0:00:01\r\u001b[K     |████████████████████████████▎   | 3.5MB 9.3MB/s eta 0:00:01\r\u001b[K     |████████████████████████████▍   | 3.6MB 9.3MB/s eta 0:00:01\r\u001b[K     |████████████████████████████▌   | 3.6MB 9.3MB/s eta 0:00:01\r\u001b[K     |████████████████████████████▌   | 3.6MB 9.3MB/s eta 0:00:01\r\u001b[K     |████████████████████████████▋   | 3.6MB 9.3MB/s eta 0:00:01\r\u001b[K     |████████████████████████████▊   | 3.6MB 9.3MB/s eta 0:00:01\r\u001b[K     |████████████████████████████▉   | 3.6MB 9.3MB/s eta 0:00:01\r\u001b[K     |████████████████████████████▉   | 3.6MB 9.3MB/s eta 0:00:01\r\u001b[K     |█████████████████████████████   | 3.6MB 9.3MB/s eta 0:00:01\r\u001b[K     |█████████████████████████████   | 3.6MB 9.3MB/s eta 0:00:01\r\u001b[K     |█████████████████████████████   | 3.6MB 9.3MB/s eta 0:00:01\r\u001b[K     |█████████████████████████████▏  | 3.7MB 9.3MB/s eta 0:00:01\r\u001b[K     |█████████████████████████████▎  | 3.7MB 9.3MB/s eta 0:00:01\r\u001b[K     |█████████████████████████████▍  | 3.7MB 9.3MB/s eta 0:00:01\r\u001b[K     |█████████████████████████████▍  | 3.7MB 9.3MB/s eta 0:00:01\r\u001b[K     |█████████████████████████████▌  | 3.7MB 9.3MB/s eta 0:00:01\r\u001b[K     |█████████████████████████████▋  | 3.7MB 9.3MB/s eta 0:00:01\r\u001b[K     |█████████████████████████████▊  | 3.7MB 9.3MB/s eta 0:00:01\r\u001b[K     |█████████████████████████████▊  | 3.7MB 9.3MB/s eta 0:00:01\r\u001b[K     |█████████████████████████████▉  | 3.7MB 9.3MB/s eta 0:00:01\r\u001b[K     |██████████████████████████████  | 3.7MB 9.3MB/s eta 0:00:01\r\u001b[K     |██████████████████████████████  | 3.8MB 9.3MB/s eta 0:00:01\r\u001b[K     |██████████████████████████████  | 3.8MB 9.3MB/s eta 0:00:01\r\u001b[K     |██████████████████████████████▏ | 3.8MB 9.3MB/s eta 0:00:01\r\u001b[K     |██████████████████████████████▎ | 3.8MB 9.3MB/s eta 0:00:01\r\u001b[K     |██████████████████████████████▍ | 3.8MB 9.3MB/s eta 0:00:01\r\u001b[K     |██████████████████████████████▍ | 3.8MB 9.3MB/s eta 0:00:01\r\u001b[K     |██████████████████████████████▌ | 3.8MB 9.3MB/s eta 0:00:01\r\u001b[K     |██████████████████████████████▋ | 3.8MB 9.3MB/s eta 0:00:01\r\u001b[K     |██████████████████████████████▋ | 3.8MB 9.3MB/s eta 0:00:01\r\u001b[K     |██████████████████████████████▊ | 3.9MB 9.3MB/s eta 0:00:01\r\u001b[K     |██████████████████████████████▉ | 3.9MB 9.3MB/s eta 0:00:01\r\u001b[K     |███████████████████████████████ | 3.9MB 9.3MB/s eta 0:00:01\r\u001b[K     |███████████████████████████████ | 3.9MB 9.3MB/s eta 0:00:01\r\u001b[K     |███████████████████████████████ | 3.9MB 9.3MB/s eta 0:00:01\r\u001b[K     |███████████████████████████████▏| 3.9MB 9.3MB/s eta 0:00:01\r\u001b[K     |███████████████████████████████▎| 3.9MB 9.3MB/s eta 0:00:01\r\u001b[K     |███████████████████████████████▎| 3.9MB 9.3MB/s eta 0:00:01\r\u001b[K     |███████████████████████████████▍| 3.9MB 9.3MB/s eta 0:00:01\r\u001b[K     |███████████████████████████████▌| 3.9MB 9.3MB/s eta 0:00:01\r\u001b[K     |███████████████████████████████▋| 4.0MB 9.3MB/s eta 0:00:01\r\u001b[K     |███████████████████████████████▋| 4.0MB 9.3MB/s eta 0:00:01\r\u001b[K     |███████████████████████████████▊| 4.0MB 9.3MB/s eta 0:00:01\r\u001b[K     |███████████████████████████████▉| 4.0MB 9.3MB/s eta 0:00:01\r\u001b[K     |███████████████████████████████▉| 4.0MB 9.3MB/s eta 0:00:01\r\u001b[K     |████████████████████████████████| 4.0MB 9.3MB/s eta 0:00:01\r\u001b[K     |████████████████████████████████| 4.0MB 9.3MB/s \n",
            "\u001b[?25hInstalling collected packages: CoolProp\n",
            "Successfully installed CoolProp-6.3.0\n"
          ],
          "name": "stdout"
        }
      ]
    },
    {
      "cell_type": "code",
      "metadata": {
        "id": "Ln8v15MBoFSJ",
        "colab_type": "code",
        "colab": {
          "base_uri": "https://localhost:8080/",
          "height": 34
        },
        "outputId": "e72759be-937b-4af6-889f-133de7fb9f09"
      },
      "source": [
        "import CoolProp as CP\n",
        "print(CP.__version__)"
      ],
      "execution_count": 2,
      "outputs": [
        {
          "output_type": "stream",
          "text": [
            "6.3.0\n"
          ],
          "name": "stdout"
        }
      ]
    },
    {
      "cell_type": "markdown",
      "metadata": {
        "id": "1-nugtSeoLi9",
        "colab_type": "text"
      },
      "source": [
        "## Saturated Properties"
      ]
    },
    {
      "cell_type": "code",
      "metadata": {
        "id": "FOBQmuSloJHS",
        "colab_type": "code",
        "colab": {}
      },
      "source": [
        "# Import the PropsSI function\n",
        "from CoolProp.CoolProp import PropsSI"
      ],
      "execution_count": 0,
      "outputs": []
    },
    {
      "cell_type": "code",
      "metadata": {
        "id": "aHfmVFgDoMxx",
        "colab_type": "code",
        "colab": {
          "base_uri": "https://localhost:8080/",
          "height": 68
        },
        "outputId": "119ddd39-be0b-4f8c-e3ec-90d6df14c187"
      },
      "source": [
        "# Saturated Properties\n",
        "\n",
        "# Saturated vapor enthalpy of Water at 1 atm in J/kg-K\n",
        "H_V = PropsSI('H','P',101325,'Q',1,'Water'); print(H_V)\n",
        "# Saturated liquid enthalpy of Water at 1 atm in J/kg-K\n",
        "H_L = PropsSI('H','P',101325,'Q',0,'Water'); print(H_L)\n",
        "# Latent heat of vaporization of Water at 1 atm in J/kg-K\n",
        "print(H_V - H_L)"
      ],
      "execution_count": 4,
      "outputs": [
        {
          "output_type": "stream",
          "text": [
            "2675529.3255007486\n",
            "419057.7330940691\n",
            "2256471.5924066794\n"
          ],
          "name": "stdout"
        }
      ]
    },
    {
      "cell_type": "markdown",
      "metadata": {
        "id": "VEejL9Z-oPhi",
        "colab_type": "text"
      },
      "source": [
        "## Imposing the Phase"
      ]
    },
    {
      "cell_type": "code",
      "metadata": {
        "id": "84cRSdTboN2C",
        "colab_type": "code",
        "colab": {
          "base_uri": "https://localhost:8080/",
          "height": 51
        },
        "outputId": "dc00f8f8-75a1-45d3-a56d-818d03cd182e"
      },
      "source": [
        "# Imposing the Phase\n",
        "# Get the density of Water at T = 461.1 K and P = 5.0e6 Pa, imposing the liquid phase\n",
        "print(PropsSI('D','T|liquid',461.1,'P',5e6,'Water'))\n",
        "# Get the density of Water at T = 597.9 K and P = 5.0e6 Pa, imposing the gas phase\n",
        "print(PropsSI('D','T',597.9,'P|gas',5e6,'Water'))"
      ],
      "execution_count": 5,
      "outputs": [
        {
          "output_type": "stream",
          "text": [
            "881.000853334732\n",
            "20.508496070580005\n"
          ],
          "name": "stdout"
        }
      ]
    },
    {
      "cell_type": "markdown",
      "metadata": {
        "id": "rZxVTPF9oSNw",
        "colab_type": "text"
      },
      "source": [
        "## Trivial Inputs"
      ]
    },
    {
      "cell_type": "code",
      "metadata": {
        "id": "MkHCBQJCoQi6",
        "colab_type": "code",
        "colab": {
          "base_uri": "https://localhost:8080/",
          "height": 34
        },
        "outputId": "85eb590f-acd9-42c7-d6a4-23272760e9f3"
      },
      "source": [
        "import CoolProp.CoolProp as CP\n",
        "#n order to obtain trivial inputs that do not depend on the thermodynamic state\n",
        "CP.PropsSI(\"Tcrit\",\"Water\")"
      ],
      "execution_count": 6,
      "outputs": [
        {
          "output_type": "execute_result",
          "data": {
            "text/plain": [
              "647.096"
            ]
          },
          "metadata": {
            "tags": []
          },
          "execution_count": 6
        }
      ]
    },
    {
      "cell_type": "markdown",
      "metadata": {
        "id": "-vw4C_CwoUJv",
        "colab_type": "text"
      },
      "source": [
        "## PhaseSI Function"
      ]
    },
    {
      "cell_type": "code",
      "metadata": {
        "id": "tggaiMbZoTmq",
        "colab_type": "code",
        "colab": {
          "base_uri": "https://localhost:8080/",
          "height": 34
        },
        "outputId": "34c3f7e1-87c4-4633-8eb6-0ba9f90ac80a"
      },
      "source": [
        "import CoolProp.CoolProp as CP\n",
        "#PhaseSI Function\n",
        "CP.PhaseSI('P',101325,'Q',0,'Water')\n"
      ],
      "execution_count": 7,
      "outputs": [
        {
          "output_type": "execute_result",
          "data": {
            "text/plain": [
              "'twophase'"
            ]
          },
          "metadata": {
            "tags": []
          },
          "execution_count": 7
        }
      ]
    },
    {
      "cell_type": "code",
      "metadata": {
        "id": "J4QwKOmpoWC-",
        "colab_type": "code",
        "colab": {
          "base_uri": "https://localhost:8080/",
          "height": 441
        },
        "outputId": "e5cd3e97-a4b4-4409-9bdb-5cf94c4c064c"
      },
      "source": [
        "import matplotlib\n",
        "import numpy as np\n",
        "import CoolProp as CP\n",
        "import matplotlib.pyplot as plt\n",
        "import scipy.interpolate\n",
        "\n",
        "Water = CP.AbstractState(\"HEOS\", \"Water\")\n",
        "pc = Water.keyed_output(CP.iP_critical)\n",
        "Tc = Water.keyed_output(CP.iT_critical)\n",
        "Tmin = 200\n",
        "Tmax = 1000\n",
        "pmax = Water.keyed_output(CP.iP_max)\n",
        "pt = 611.657\n",
        "Tt = 273.16\n",
        "fillcolor = 'g'\n",
        "\n",
        "fig = plt.figure(figsize = (6,6))\n",
        "ax = fig.add_subplot(111)\n",
        "lw = 3\n",
        "\n",
        "# --------------\n",
        "# Melting curve\n",
        "# --------------\n",
        "melt_args = dict(lw = lw, solid_capstyle = 'round')\n",
        "TT = []\n",
        "PP = list(np.logspace(np.log10(pt), np.log10(pmax),1000))\n",
        "for p in PP:\n",
        "    TT.append(Water.melting_line(CP.iT, CP.iP, p))\n",
        "\n",
        "#Zone VI\n",
        "for T in np.linspace(max(TT), 355):\n",
        "    TT.append(T)\n",
        "    theta = T/273.31\n",
        "    pi = 1-1.07476*(1-theta**4.6)\n",
        "    p = pi*632.4e6\n",
        "    PP.append(p)\n",
        "\n",
        "plt.plot(TT,PP,'darkblue',**melt_args)\n",
        "\n",
        "# ----------------\n",
        "# Saturation curve\n",
        "# ----------------\n",
        "Ts = np.linspace(273.16, Tc, 1000)\n",
        "ps = CP.CoolProp.PropsSI('P','T',Ts,'Q',0,'Water')\n",
        "\n",
        "# ------\n",
        "# Labels\n",
        "# ------\n",
        "\n",
        "plt.plot(Ts,ps,'orange',lw = lw, solid_capstyle = 'round')\n",
        "\n",
        "# Critical lines\n",
        "plt.axvline(Tc, dashes = [2, 2])\n",
        "plt.axhline(pc, dashes = [2, 2])\n",
        "\n",
        "# Labels\n",
        "plt.text(850, 1e8, 'supercritical',ha= 'center')\n",
        "plt.text(850, 1e5, 'supercritical_gas', rotation = 90)\n",
        "plt.text(450, 1e8, 'supercritical_liquid', rotation = 0, ha = 'center')\n",
        "plt.text(350, 3e6, 'liquid', rotation = 45)\n",
        "plt.text(450, 5e4, 'gas', rotation = 45)\n",
        "\n",
        "plt.ylim(611,1e9)\n",
        "plt.gca().set_yscale('log')\n",
        "plt.gca().set_xlim(240, 1000)\n",
        "plt.ylabel('Pressure [Pa]')\n",
        "plt.xlabel('Temperature [K]')\n",
        "plt.tight_layout()"
      ],
      "execution_count": 8,
      "outputs": [
        {
          "output_type": "display_data",
          "data": {
            "image/png": "[encoded data removed]",
            "text/plain": [
              "<Figure size 432x432 with 1 Axes>"
            ]
          },
          "metadata": {
            "tags": []
          }
        }
      ]
    },
    {
      "cell_type": "markdown",
      "metadata": {
        "id": "Na9VBmGaobH8",
        "colab_type": "text"
      },
      "source": [
        "## Partial Derivatives"
      ]
    },
    {
      "cell_type": "code",
      "metadata": {
        "id": "StTN92sgoZWS",
        "colab_type": "code",
        "colab": {
          "base_uri": "https://localhost:8080/",
          "height": 51
        },
        "outputId": "5b29921e-dc2f-4802-8de7-3070837048e1"
      },
      "source": [
        "#Partial Derivatives\n",
        "import CoolProp.CoolProp as CP\n",
        "# c_p using c_p\n",
        "print(CP.PropsSI('C','P',101325,'T',300,'Water'))\n",
        "# c_p using derivative\n",
        "print(CP.PropsSI('d(Hmass)/d(T)|P','P',101325,'T',300,'Water'))"
      ],
      "execution_count": 9,
      "outputs": [
        {
          "output_type": "stream",
          "text": [
            "4180.6357765560715\n",
            "4180.6357765560715\n"
          ],
          "name": "stdout"
        }
      ]
    },
    {
      "cell_type": "markdown",
      "metadata": {
        "id": "JyeE2BaCoecT",
        "colab_type": "text"
      },
      "source": [
        "## Predefined Mixtures"
      ]
    },
    {
      "cell_type": "code",
      "metadata": {
        "id": "JsvC_YOloc5K",
        "colab_type": "code",
        "colab": {
          "base_uri": "https://localhost:8080/",
          "height": 357
        },
        "outputId": "0fd70ad7-528c-44d3-b275-13bfca22f617"
      },
      "source": [
        "import CoolProp.CoolProp as CP\n",
        "CP.get_global_param_string('predefined_mixtures').split(',')[0:20]"
      ],
      "execution_count": 10,
      "outputs": [
        {
          "output_type": "execute_result",
          "data": {
            "text/plain": [
              "['AIR.MIX',\n",
              " 'AMARILLO.MIX',\n",
              " 'Air.mix',\n",
              " 'Amarillo.mix',\n",
              " 'EKOFISK.MIX',\n",
              " 'Ekofisk.mix',\n",
              " 'GULFCOAST.MIX',\n",
              " 'GULFCOASTGAS(NIST1).MIX',\n",
              " 'GulfCoast.mix',\n",
              " 'GulfCoastGas(NIST1).mix',\n",
              " 'HIGHCO2.MIX',\n",
              " 'HIGHN2.MIX',\n",
              " 'HighCO2.mix',\n",
              " 'HighN2.mix',\n",
              " 'NATURALGASSAMPLE.MIX',\n",
              " 'NaturalGasSample.mix',\n",
              " 'R401A.MIX',\n",
              " 'R401A.mix',\n",
              " 'R401B.MIX',\n",
              " 'R401B.mix']"
            ]
          },
          "metadata": {
            "tags": []
          },
          "execution_count": 10
        }
      ]
    },
    {
      "cell_type": "code",
      "metadata": {
        "id": "fIVmmxTuogBq",
        "colab_type": "code",
        "colab": {
          "base_uri": "https://localhost:8080/",
          "height": 34
        },
        "outputId": "c0a32e24-b19a-4327-da2a-a3e6618fd4eb"
      },
      "source": [
        "CP.PropsSI('D','P',101325,'T',300,'Air.mix')"
      ],
      "execution_count": 11,
      "outputs": [
        {
          "output_type": "execute_result",
          "data": {
            "text/plain": [
              "1.1766922904316655"
            ]
          },
          "metadata": {
            "tags": []
          },
          "execution_count": 11
        }
      ]
    },
    {
      "cell_type": "markdown",
      "metadata": {
        "id": "oXj1jaZ8oi_X",
        "colab_type": "text"
      },
      "source": [
        "## User-Defined Mixtures"
      ]
    },
    {
      "cell_type": "code",
      "metadata": {
        "id": "uZKJyKEVohja",
        "colab_type": "code",
        "colab": {
          "base_uri": "https://localhost:8080/",
          "height": 34
        },
        "outputId": "d19857fa-1e56-4837-a682-a9f7af8b556a"
      },
      "source": [
        "import CoolProp.CoolProp as CP\n",
        "CP.PropsSI('D','T',300,'P',101325,'HEOS::R32[0.697615]&R125[0.302385]')"
      ],
      "execution_count": 12,
      "outputs": [
        {
          "output_type": "execute_result",
          "data": {
            "text/plain": [
              "2.986886779635724"
            ]
          },
          "metadata": {
            "tags": []
          },
          "execution_count": 12
        }
      ]
    },
    {
      "cell_type": "markdown",
      "metadata": {
        "id": "SVR_y6ZQooEr",
        "colab_type": "text"
      },
      "source": [
        "## Reference States\n",
        "* IIR: h = 200 kJ/kg, s=1 kJ/kg/K at 0C saturated liquid\n",
        "* ASHRAE: h = 0, s = 0 @ -40C saturated liquid\n",
        "* NBP: h=0, s=0 for saturated liquid at 1 atmosphere\n",
        "* DEF: Go back to the default reference state for the fluid"
      ]
    },
    {
      "cell_type": "code",
      "metadata": {
        "id": "ZT7Lg0WMol-i",
        "colab_type": "code",
        "colab": {
          "base_uri": "https://localhost:8080/",
          "height": 34
        },
        "outputId": "6f06a109-ae87-4816-c8fb-ced6b5200098"
      },
      "source": [
        "import CoolProp.CoolProp as CP\n",
        "CP.set_reference_state('n-Propane','ASHRAE')\n",
        "\n",
        "# Should be zero (or very close to it)\n",
        "CP.PropsSI('H', 'T', 233.15, 'Q', 0, 'n-Propane')"
      ],
      "execution_count": 13,
      "outputs": [
        {
          "output_type": "execute_result",
          "data": {
            "text/plain": [
              "2.928438593838672e-11"
            ]
          },
          "metadata": {
            "tags": []
          },
          "execution_count": 13
        }
      ]
    },
    {
      "cell_type": "code",
      "metadata": {
        "id": "SAQuMIxdopVC",
        "colab_type": "code",
        "colab": {
          "base_uri": "https://localhost:8080/",
          "height": 34
        },
        "outputId": "48472221-a739-46d8-e165-708f16cff524"
      },
      "source": [
        "# Back to the original value\n",
        "CP.set_reference_state('n-Propane','DEF')\n",
        "# Should not be zero\n",
        "CP.PropsSI('H', 'T', 233.15, 'Q', 0, 'n-Propane')"
      ],
      "execution_count": 14,
      "outputs": [
        {
          "output_type": "execute_result",
          "data": {
            "text/plain": [
              "105123.27213761522"
            ]
          },
          "metadata": {
            "tags": []
          },
          "execution_count": 14
        }
      ]
    },
    {
      "cell_type": "markdown",
      "metadata": {
        "id": "1QxOHsGkos6g",
        "colab_type": "text"
      },
      "source": [
        "## Water Properties Summary\n",
        "* http://www.coolprop.org/coolprop/HighLevelAPI.html#table-of-string-inputs-to-propssi-function"
      ]
    },
    {
      "cell_type": "code",
      "metadata": {
        "id": "f43zEsp6oqki",
        "colab_type": "code",
        "colab": {
          "base_uri": "https://localhost:8080/",
          "height": 221
        },
        "outputId": "2f581c94-e430-4bd3-d79d-322e08148fc5"
      },
      "source": [
        "import CoolProp.CoolProp as CP\n",
        "from CoolProp.CoolProp import PropsSI\n",
        "\n",
        "print('Density of Water at standard atmosphere in kg/m^3 --- ',PropsSI('D','T',323.15,'P',101325,'Water'))\n",
        "print('Enthalpy of Water at standard atmosphere in J/kg --- ',PropsSI('H','T',323.15,'P',101325,'Water'))\n",
        "print('Thermal conductivity of Water at standard atmosphere in W/m/K --- ',PropsSI('CONDUCTIVITY','T',(273.15+50),'P',101325,'Water'))\n",
        "print('Viscosity of Water at standard atmosphere in Pa s --- ',PropsSI('V','T',323.15,'P',101325,'Water'))\n",
        "#print('Surface Tension of Water at standard atmosphere in N/m --- ',PropsSI('I','T',323.15,'P',101325,'Water'))\n",
        "print('Critical Temperature of Water K --- ',CP.PropsSI(\"Tcrit\",\"Water\"))\n",
        "print('Mass specific constant pressure specific heat of Water at standard atmosphere in J/kg/K --- ',PropsSI('CPMASS','T',323.15,'P',101325,'Water'))\n",
        "print('Mass specific constant volume specific heat of Water at standard atmosphere in J/kg/K --- ',PropsSI('CVMASS','T',323.15,'P',101325,'Water'))\n",
        "print('Entropy of Water at standard atmosphere in J/kg/K --- ',PropsSI('S','T',323.15,'P',101325,'Water'))\n",
        "\n",
        "#Saturated State based on Perssure\n",
        "print('Saturated vapor enthalpy of Water at 1 atm in J/kg-K --- ',PropsSI('H','P',101325,'Q',1,'Water') )\n",
        "print('Saturated liquid enthalpy of Water at 1 atm in J/kg-K --- ', PropsSI('H','P',101325,'Q',0,'Water'))\n",
        "\n",
        "#Saturated State based on Temperature\n",
        "print('Saturated vapor enthalpy of Water at 323.15K in J/kg-K --- ',PropsSI('H','T',323.15,'Q',1,'Water') )\n",
        "print('Saturated liquid enthalpy of Water at 323.15K in J/kg-K --- ', PropsSI('H','T',323.15,'Q',0,'Water'))"
      ],
      "execution_count": 16,
      "outputs": [
        {
          "output_type": "stream",
          "text": [
            "Density of Water at standard atmosphere in kg/m^3 ---  988.0350462371343\n",
            "Enthalpy of Water at standard atmosphere in J/kg ---  209418.49199515805\n",
            "Thermal conductivity of Water at standard atmosphere in W/m/K ---  0.6406210822524908\n",
            "Viscosity of Water at standard atmosphere in Pa s ---  0.0005465162633828624\n",
            "Critical Temperature of Water K ---  647.096\n",
            "Mass specific constant pressure specific heat of Water at standard atmosphere in J/kg/K ---  4181.342303430865\n",
            "Mass specific constant volume specific heat of Water at standard atmosphere in J/kg/K ---  4026.1824440671226\n",
            "Entropy of Water at standard atmosphere in J/kg/K ---  703.7674017163721\n",
            "Saturated vapor enthalpy of Water at 1 atm in J/kg-K ---  2675529.3255007486\n",
            "Saturated liquid enthalpy of Water at 1 atm in J/kg-K ---  419057.7330940691\n",
            "Saturated vapor enthalpy of Water at 323.15K in J/kg-K ---  2591288.887867202\n",
            "Saturated liquid enthalpy of Water at 323.15K in J/kg-K ---  209341.76132667644\n"
          ],
          "name": "stdout"
        }
      ]
    },
    {
      "cell_type": "code",
      "metadata": {
        "id": "OAqcb8TtovA5",
        "colab_type": "code",
        "colab": {}
      },
      "source": [
        ""
      ],
      "execution_count": 0,
      "outputs": []
    }
  ]
}