{
  "nbformat": 4,
  "nbformat_minor": 0,
  "metadata": {
    "colab": {
      "name": "[03112019-4] Forced Circulation Reboilers.ipynb",
      "version": "0.3.2",
      "provenance": [],
      "collapsed_sections": [],
      "include_colab_link": true
    },
    "kernelspec": {
      "name": "python3",
      "display_name": "Python 3"
    }
  },
  "cells": [
    {
      "cell_type": "markdown",
      "metadata": {
        "id": "view-in-github",
        "colab_type": "text"
      },
      "source": [
        "<a href=\"https://colab.research.google.com/github/BingHungLee/Heat_Transfer/blob/master/%5B03112019_4%5D_Forced_Circulation_Reboilers.ipynb\" target=\"_parent\"><img src=\"https://colab.research.google.com/assets/colab-badge.svg\" alt=\"Open In Colab\"/></a>"
      ]
    },
    {
      "metadata": {
        "id": "VnmNqRRFVZBN",
        "colab_type": "text"
      },
      "cell_type": "markdown",
      "source": [
        "* Pumps are used to circulate the feed through the reboiler.\n",
        "* Higher circulation rates can be maintained so that the fouling is low\n",
        "* The boiling may occur either inside or outside the tubes.\n",
        "* It is preferred for fouling services,viscious liquids, liquids containing suspend solids, and low pressure systems (These are also used with viscious and solid-bearing liquids.)\n",
        "* Boiling on the outside of the tube bundle is preferred.\n"
      ]
    }
  ]
}