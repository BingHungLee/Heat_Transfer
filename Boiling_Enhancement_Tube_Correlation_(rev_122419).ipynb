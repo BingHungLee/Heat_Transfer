{
  "nbformat": 4,
  "nbformat_minor": 0,
  "metadata": {
    "colab": {
      "name": "Boiling Enhancement Tube Correlation (rev.122419)",
      "provenance": [],
      "include_colab_link": true
    },
    "kernelspec": {
      "name": "python3",
      "display_name": "Python 3"
    }
  },
  "cells": [
    {
      "cell_type": "markdown",
      "metadata": {
        "id": "view-in-github",
        "colab_type": "text"
      },
      "source": [
        "<a href=\"https://colab.research.google.com/github/BingHungLee/Heat_Transfer/blob/master/Boiling_Enhancement_Tube_Correlation_(rev_122419).ipynb\" target=\"_parent\"><img src=\"https://colab.research.google.com/assets/colab-badge.svg\" alt=\"Open In Colab\"/></a>"
      ]
    },
    {
      "cell_type": "code",
      "metadata": {
        "id": "MG-P6n3FJKuM",
        "colab_type": "code",
        "colab": {}
      },
      "source": [
        "# Design Data\n",
        "Q = 65940990.75 #[W]\n",
        "A = 998.3 #[m2]\n",
        "M_dot = 169.07 #[kg/s]\n",
        "NTube = 1727\n",
        "DiTube = 0.02621 #[m]\n",
        "ViscL = 0.00014 #[N.s/m2]\n",
        "ViscV = 0.000016 #[N.s/m2]\n",
        "CpL = 4329.15 #[J/kg.K]\n",
        "CpV = 1942.68 #[J/kg.K]\n",
        "kL = 0.604 #[W/m.K]\n",
        "kV = 0.034 #[W/m.K]\n",
        "Pa = 1461.69 #[kPa]\n",
        "Pc = 8200 #[kPa]\n",
        "wt = 0.12"
      ],
      "execution_count": 0,
      "outputs": []
    },
    {
      "cell_type": "code",
      "metadata": {
        "id": "KBdS2llTKaRz",
        "colab_type": "code",
        "colab": {
          "base_uri": "https://localhost:8080/",
          "height": 136
        },
        "outputId": "235fe192-fb7d-40e7-fbef-8d3d38f607c4"
      },
      "source": [
        "q_flux = Q / A #[W/m2]\n",
        "M_dot_each_tube = M_dot/NTube #[kg/s]\n",
        "\n",
        "print(\"q_flux\", q_flux)\n",
        "print(\"M_dot_each_tube\", M_dot_each_tube)\n",
        "\n",
        "import math\n",
        "def Reynold(M_dot_each_tube,DiTube,ViscL):\n",
        "  return 4*M_dot_each_tube/(math.pi*DiTube*ViscL)\n",
        "\n",
        "def Pr(Visc,Cp,k):\n",
        "  return Visc*Cp/k \n",
        "\n",
        "Re = Reynold(M_dot_each_tube,DiTube,ViscL)\n",
        "PrL = Pr(ViscL,CpL,kL)\n",
        "PrV = Pr(ViscV,CpV,kV)\n",
        "Preduce = Pa/Pc\n",
        "\n",
        "print(\"Re\", Re)\n",
        "print(\"PrL\", PrL)\n",
        "print(\"PrV\", PrV)\n",
        "print(\"PReduce\", Preduce)\n",
        "\n",
        "def h_hft(q_flux,Re,PrL,PrV,Preduce,wt):\n",
        "  return 2.05*math.pow(q_flux,0.542)*math.pow(Re,0.14)*math.pow(PrL,-0.345)*math.pow(PrV,-0.448)*math.pow(Preduce,-0.255)*math.pow(wt,-0.11) #[W/m2.K]\n",
        "\n",
        "hhft = h_hft(q_flux,Re,PrL,PrV,Preduce,wt)\n",
        "print(\"hhft\", hhft)\n",
        "\n"
      ],
      "execution_count": 5,
      "outputs": [
        {
          "output_type": "stream",
          "text": [
            "q_flux 66053.28132825805\n",
            "M_dot_each_tube 0.09789808917197451\n",
            "Re 33969.50958951523\n",
            "PrL 1.0034453642384105\n",
            "PrV 0.9142023529411765\n",
            "PReduce 0.17825487804878049\n",
            "hhft 7373.9692090764975\n"
          ],
          "name": "stdout"
        }
      ]
    },
    {
      "cell_type": "code",
      "metadata": {
        "id": "0F6bhcs6OFy2",
        "colab_type": "code",
        "colab": {}
      },
      "source": [
        ""
      ],
      "execution_count": 0,
      "outputs": []
    }
  ]
}