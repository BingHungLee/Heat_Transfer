{
  "nbformat": 4,
  "nbformat_minor": 0,
  "metadata": {
    "colab": {
      "name": "Double Pipe HX (rev.122419).ipynb",
      "provenance": [],
      "include_colab_link": true
    },
    "kernelspec": {
      "name": "python3",
      "display_name": "Python 3"
    }
  },
  "cells": [
    {
      "cell_type": "markdown",
      "metadata": {
        "id": "view-in-github",
        "colab_type": "text"
      },
      "source": [
        "<a href=\"https://colab.research.google.com/github/BingHungLee/Heat_Transfer/blob/master/Double_Pipe_HX_(rev_122419).ipynb\" target=\"_parent\"><img src=\"https://colab.research.google.com/assets/colab-badge.svg\" alt=\"Open In Colab\"/></a>"
      ]
    },
    {
      "cell_type": "code",
      "metadata": {
        "id": "PdLdoaiYkXYF",
        "colab_type": "code",
        "colab": {}
      },
      "source": [
        "'''\n",
        "Pipe_Out\n",
        "  Fluid: Oil\n",
        "  M_dot: 1 kg/s\n",
        "  T_in: 370K\n",
        "  T_out: 340K\n",
        "  do = 0.0483 m\n",
        "  di = 0.0409 m\n",
        "\n",
        "Pipe_In\n",
        "  Fluid: Water\n",
        "  M_dot: 0.767 kg/s\n",
        "  T_in: 303K\n",
        "  Do = 0.089 m\n",
        "  Di = 0.075 m \n",
        "\n",
        "Pipe Material\n",
        "  C ~ 0.5%\n",
        "  kw = 53 W/m.K\n",
        "'''\n",
        "\n",
        "Oil_m_dot = 1\n",
        "Oil_Tin = 370\n",
        "Oil_Tout = 340\n",
        "Oil_do = 0.0483\n",
        "Oil_di = 0.0409\n",
        "\n",
        "Water_m_dot = 0.767\n",
        "Water_Tin = 303\n",
        "Water_Do = 0.089\n",
        "Water_Di = 0.075"
      ],
      "execution_count": 0,
      "outputs": []
    },
    {
      "cell_type": "code",
      "metadata": {
        "id": "sqXa8gkGliy5",
        "colab_type": "code",
        "colab": {}
      },
      "source": [
        "Cpoil_avg = (2200+2080)/2 #J/kg.K\n",
        "Cpwater_avg = 4180\n",
        "\n",
        "Qtotal = Oil_m_dot * Cpoil_avg * (Oil_Tin-Oil_Tout)\n",
        "Water_Tout = Water_Tin + Qtotal/(Water_m_dot*Cpwater_avg)\n",
        "\n"
      ],
      "execution_count": 0,
      "outputs": []
    },
    {
      "cell_type": "code",
      "metadata": {
        "id": "0LcG8d73mV-9",
        "colab_type": "code",
        "colab": {}
      },
      "source": [
        ""
      ],
      "execution_count": 0,
      "outputs": []
    }
  ]
}