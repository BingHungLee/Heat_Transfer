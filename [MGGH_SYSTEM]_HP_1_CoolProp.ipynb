{
  "nbformat": 4,
  "nbformat_minor": 0,
  "metadata": {
    "colab": {
      "name": "[MGGH SYSTEM] HP#1 CoolProp.ipynb",
      "provenance": [],
      "collapsed_sections": [],
      "include_colab_link": true
    },
    "kernelspec": {
      "name": "python3",
      "display_name": "Python 3"
    }
  },
  "cells": [
    {
      "cell_type": "markdown",
      "metadata": {
        "id": "view-in-github",
        "colab_type": "text"
      },
      "source": [
        "<a href=\"https://colab.research.google.com/github/BingHungLee/Heat_Transfer/blob/master/%5BMGGH_SYSTEM%5D_HP_1_CoolProp.ipynb\" target=\"_parent\"><img src=\"https://colab.research.google.com/assets/colab-badge.svg\" alt=\"Open In Colab\"/></a>"
      ]
    },
    {
      "cell_type": "code",
      "metadata": {
        "id": "WKsL7ljla5zH",
        "colab_type": "code",
        "outputId": "a30cdb50-7b8e-4297-b702-cde7023c98dc",
        "colab": {
          "base_uri": "https://localhost:8080/",
          "height": 54
        }
      },
      "source": [
        "'''\n",
        "Cooler\n",
        "Tma_in = (154.6+142.7)/2 [C]\n",
        "Tma_out = (117.6+111.3)/2 [C]\n",
        "Tw_in = 85.6 [C]\n",
        "Tw_out = 117.7 [C]\n",
        "Mw = 149 [m3/h] \n",
        "\n",
        "Reheater\n",
        "Tma_in = (54.5+54.2)/2 [C]\n",
        "Tma_out = (88.5+89.1)/2 [C]\n",
        "Mma = 508239 Nm3/hr @83.4C\n",
        "Tw_in = 117.7 [C]\n",
        "Tw_out = 85.4 [C]\n",
        "'''"
      ],
      "execution_count": 53,
      "outputs": [
        {
          "output_type": "execute_result",
          "data": {
            "text/plain": [
              "'\\nCooler\\nTma_in = (154.6+142.7)/2 [C]\\nTma_out = (117.6+111.3)/2 [C]\\nTw_in = 85.6 [C]\\nTw_out = 117.7 [C]\\nMw = 149 [m3/h] \\n\\nReheater\\nTma_in = (54.5+54.2)/2 [C]\\nTma_out = (88.5+89.1)/2 [C]\\nMma = 508239 Nm3/hr @83.4C\\nTw_in = 117.7 [C]\\nTw_out = 85.4 [C]\\n'"
            ]
          },
          "metadata": {
            "tags": []
          },
          "execution_count": 53
        }
      ]
    },
    {
      "cell_type": "code",
      "metadata": {
        "id": "66ggjC5yc8cQ",
        "colab_type": "code",
        "outputId": "fd0e48aa-cb0f-45b9-b7a0-312ca5a67972",
        "colab": {
          "base_uri": "https://localhost:8080/",
          "height": 34
        }
      },
      "source": [
        "!pip install CoolProp\n",
        "from CoolProp.HumidAirProp import HAPropsSI\n",
        "from CoolProp.CoolProp import PropsSI"
      ],
      "execution_count": 54,
      "outputs": [
        {
          "output_type": "stream",
          "text": [
            "Requirement already satisfied: CoolProp in /usr/local/lib/python3.6/dist-packages (6.3.0)\n"
          ],
          "name": "stdout"
        }
      ]
    },
    {
      "cell_type": "code",
      "metadata": {
        "id": "QApEsoplcgmm",
        "colab_type": "code",
        "colab": {}
      },
      "source": [
        "#[Dry Air and Water Properties]\n",
        "class PROP():\n",
        "\n",
        "  Enthalpy = 0.0        #[J/kg] \n",
        "  Desnity =0.0          #[kg/m^3]\n",
        "  Viscosity = 0.0       #[Pa s]\n",
        "  Heat_Capacity = 0.0   #[J/kg/K]\n",
        "  Thermal_Cond = 0.0    #[W/m/K]\n",
        "\n",
        "  def __init__(self,T,P,Fluid):\n",
        "    self.Tdb = T+273.15\n",
        "    self.P = P \n",
        "    self.Enthalpy = PropsSI(\"H\", \"P\", P , \"T\", self.Tdb, Fluid)/1000\n",
        "    self.Desnity = PropsSI(\"D\", \"P\", P , \"T\", self.Tdb, Fluid)\n",
        "    self.Viscosity = PropsSI(\"viscosity\", \"P\", P , \"T\", self.Tdb, Fluid)*1000\n",
        "    self.Heat_Capacity = PropsSI(\"Cpmass\", \"P\", P , \"T\", self.Tdb, Fluid)/1000\n",
        "    self.Thermal_Cond = PropsSI(\"conductivity\", \"P\", P , \"T\", self.Tdb, Fluid)\n"
      ],
      "execution_count": 0,
      "outputs": []
    },
    {
      "cell_type": "code",
      "metadata": {
        "id": "ZQWi6rwWxo_i",
        "colab_type": "code",
        "outputId": "f97998f7-ffe1-4cf0-c79d-d2b1203b99fa",
        "colab": {
          "base_uri": "https://localhost:8080/",
          "height": 275
        }
      },
      "source": [
        "\n",
        "State = PROP(25,101325,\"Water\")\n",
        "print(\"---------WATER PROPERTY---------\")\n",
        "print('Enthalpy',State.Enthalpy, \"kJ/kg\")\n",
        "print('Desnity',State.Desnity, \"kg/m^3\")\n",
        "print(\"Viscosity\",State.Viscosity, \"mN-s/m2\")\n",
        "print('Heat_Capacity',State.Heat_Capacity, \"kJ/kg-C\")\n",
        "print('Thermal_Cond',State.Thermal_Cond, \"W/m-C\")\n",
        "\n",
        "'''\n",
        "[Water Properties from HTRI]\n",
        "Liquid Phase Model: Steam97\n",
        "Vapor Phase Model: Steam97\n",
        "Bulk liquid-liquid properties: VMG mixing rules\n",
        "T= 25C\n",
        "Enthalpy= 104.929 kJ/kg\n",
        "Density= 997.063 kg/m3\n",
        "Viscoisty= 0.8901 mN-s/m2\n",
        "Heat Capacity= 4.1819 kJ/kg-C\n",
        "Thermal Conductivity= 0.6075 W/m-C\n",
        "Surface Tension= 71.9722 mN/m\n",
        "Critical Pressure= 22064 kPa\n",
        "Critical Temperature= 373.95 C\n",
        "Mole Weight= 18.02\n",
        "'''\n",
        "\n",
        "print()\n",
        "\n",
        "State = PROP(25,101325,\"Air.mix\")\n",
        "print(\"---------DRY AIR PROPERTY---------\")\n",
        "print('Enthalpy',State.Enthalpy, \"kJ/kg\")\n",
        "print('Desnity',State.Desnity, \"kg/m^3\")\n",
        "print(\"Viscosity\",State.Viscosity, \"mN-s/m2\")\n",
        "print('Heat_Capacity',State.Heat_Capacity, \"kJ/kg-C\")\n",
        "print('Thermal_Cond',State.Thermal_Cond, \"W/m-C\")\n",
        "\n",
        "'''\n",
        "[Dry Air Properties from HTRI]\n",
        "Liquid Phase Model: Advanced Peng-Robinson\n",
        "Vapor Phase Model: Advanced Peng-Robinson\n",
        "Bulk liquid-liquid properties: VMG mixing rules\n",
        "T= 25C\n",
        "Enthalpy= 297.005 kJ/kg\n",
        "Density= 1.1840 kg/m3\n",
        "Viscoisty= 0.0173 mN-s/m2\n",
        "Heat Capacity= 1.0100 kJ/kg-C\n",
        "Thermal Conductivity= 0.0247 W/m-C\n",
        "Mole Weight= 28.95\n",
        "'''"
      ],
      "execution_count": 56,
      "outputs": [
        {
          "output_type": "stream",
          "text": [
            "---------WATER PROPERTY---------\n",
            "Enthalpy 104.92011980935509 kJ/kg\n",
            "Desnity 997.047636760347 kg/m^3\n",
            "Viscosity 0.8900224890776964 mN-s/m2\n",
            "Heat_Capacity 4.181314990770664 kJ/kg-C\n",
            "Thermal_Cond 0.6065160802197994 W/m-C\n",
            "\n",
            "---------DRY AIR PROPERTY---------\n",
            "Enthalpy 298.446509910863 kJ/kg\n",
            "Desnity 1.1840132869164148 kg/m^3\n",
            "Viscosity 0.01838851921573831 mN-s/m2\n",
            "Heat_Capacity 1.006561522458271 kJ/kg-C\n",
            "Thermal_Cond 0.0258666072482297 W/m-C\n"
          ],
          "name": "stdout"
        },
        {
          "output_type": "execute_result",
          "data": {
            "text/plain": [
              "'\\n[Dry Air Properties from HTRI]\\nLiquid Phase Model: Advanced Peng-Robinson\\nVapor Phase Model: Advanced Peng-Robinson\\nBulk liquid-liquid properties: VMG mixing rules\\nT= 25C\\nEnthalpy= 297.005 kJ/kg\\nDensity= 1.1840 kg/m3\\nViscoisty= 0.0173 mN-s/m2\\nHeat Capacity= 1.0100 kJ/kg-C\\nThermal Conductivity= 0.0247 W/m-C\\nMole Weight= 28.95\\n'"
            ]
          },
          "metadata": {
            "tags": []
          },
          "execution_count": 56
        }
      ]
    },
    {
      "cell_type": "code",
      "metadata": {
        "id": "k12ltyOzcotk",
        "colab_type": "code",
        "colab": {}
      },
      "source": [
        "#[Moist Air Properties]\n",
        "class HAP():\n",
        "     \n",
        "    Enthalpy = 0.0\n",
        "    Humidity_Ratio = 0.0                    #kg-water/kg-da\n",
        "    Specific_Volume = 0.0                   #m3/kg\n",
        "    Wet_Bulb_Temperature = 0.0\n",
        "    Dew_Point_Temperature = 0.0\n",
        "    Partial_pressure_of_water_vapor = 0.0\n",
        "     \n",
        "    def __init__(self,T,P,RH):\n",
        "        self.Tdb = T+273.15\n",
        "        self.P = P\n",
        "        self.RH = RH\n",
        "\n",
        "        self.Enthalpy = HAPropsSI('H','T',self.Tdb,'P',self.P,'R',self.RH)/1000\n",
        "        self.Humidity_Ratio = HAPropsSI(\"W\", \"T\", self.Tdb, \"P\", self.P, \"R\",self.RH)\n",
        "        self.Specific_Volume = HAPropsSI(\"V\", \"T\", self.Tdb, \"P\",self.P, \"R\",self.RH)\n",
        "        self.Wet_Bulb_Temperature = HAPropsSI(\"Twb\", \"T\", self.Tdb, \"P\", self.P, \"R\",self.RH)-273.15\n",
        "        self.Dew_Point_Temperature = HAPropsSI(\"Tdp\", \"T\", self.Tdb, \"P\", self.P, \"R\",self.RH)-273.15\n",
        "        self.Partial_pressure_of_water_vapor = HAPropsSI(\"P_w\", \"T\", self.Tdb, \"P\", self.P, \"R\",self.RH)\n",
        "        "
      ],
      "execution_count": 0,
      "outputs": []
    },
    {
      "cell_type": "code",
      "metadata": {
        "id": "SJ8hZPiwwL-I",
        "colab_type": "code",
        "outputId": "9d02ddbf-726e-4f48-974b-c6f830a3ab98",
        "colab": {
          "base_uri": "https://localhost:8080/",
          "height": 102
        }
      },
      "source": [
        "State = HAP(80,101325,1)\n",
        "print('Enthalpy',State.Enthalpy, \"kJ/kg\")\n",
        "print('Humidity_Ratio',State.Humidity_Ratio, \"kg-water/kg-da\")\n",
        "print(\"Specific_Volume\",State.Specific_Volume, \"m3/kg\")\n",
        "print('Wet_Bulb_Temperature',State.Wet_Bulb_Temperature, \"C\")\n",
        "print('Dew_Point_Temperature',State.Dew_Point_Temperature, \"C\")"
      ],
      "execution_count": 58,
      "outputs": [
        {
          "output_type": "stream",
          "text": [
            "Enthalpy 1541.7945329114111 kJ/kg\n",
            "Humidity_Ratio 0.5529259271424659 kg-water/kg-da\n",
            "Specific_Volume 1.880912206506531 m3/kg\n",
            "Wet_Bulb_Temperature 79.9999999999996 C\n",
            "Dew_Point_Temperature 80.0000000000689 C\n"
          ],
          "name": "stdout"
        }
      ]
    }
  ]
}