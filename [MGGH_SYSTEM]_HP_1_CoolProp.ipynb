{
  "nbformat": 4,
  "nbformat_minor": 0,
  "metadata": {
    "colab": {
      "name": "[MGGH SYSTEM] HP#1 CoolProp.ipynb",
      "provenance": [],
      "include_colab_link": true
    },
    "kernelspec": {
      "name": "python3",
      "display_name": "Python 3"
    }
  },
  "cells": [
    {
      "cell_type": "markdown",
      "metadata": {
        "id": "view-in-github",
        "colab_type": "text"
      },
      "source": [
        "<a href=\"https://colab.research.google.com/github/BingHungLee/Heat_Transfer/blob/master/%5BMGGH_SYSTEM%5D_HP_1_CoolProp.ipynb\" target=\"_parent\"><img src=\"https://colab.research.google.com/assets/colab-badge.svg\" alt=\"Open In Colab\"/></a>"
      ]
    },
    {
      "cell_type": "code",
      "metadata": {
        "id": "WKsL7ljla5zH",
        "colab_type": "code",
        "colab": {
          "base_uri": "https://localhost:8080/",
          "height": 54
        },
        "outputId": "817fec31-4570-48f3-f2b0-904b16af7e73"
      },
      "source": [
        "'''\n",
        "Cooler\n",
        "Tma_in = (154.6+142.7)/2 [C]\n",
        "Tma_out = (117.6+111.3)/2 [C]\n",
        "Tw_in = 85.6 [C]\n",
        "Tw_out = 117.7 [C]\n",
        "Mw = 149 [m3/h] \n",
        "\n",
        "Reheater\n",
        "Tma_in = (54.5+54.2)/2 [C]\n",
        "Tma_out = (88.5+89.1)/2 [C]\n",
        "Mma = 508239 Nm3/hr @83.4C\n",
        "Tw_in = 117.7 [C]\n",
        "Tw_out = 85.4 [C]\n",
        "'''"
      ],
      "execution_count": 29,
      "outputs": [
        {
          "output_type": "execute_result",
          "data": {
            "text/plain": [
              "'\\nCooler\\nTma_in = (154.6+142.7)/2 [C]\\nTma_out = (117.6+111.3)/2 [C]\\nTw_in = 85.6 [C]\\nTw_out = 117.7 [C]\\nMw = 149 [m3/h] \\n\\nReheater\\nTma_in = (54.5+54.2)/2 [C]\\nTma_out = (88.5+89.1)/2 [C]\\nMma = 508239 Nm3/hr @83.4C\\nTw_in = 117.7 [C]\\nTw_out = 85.4 [C]\\n'"
            ]
          },
          "metadata": {
            "tags": []
          },
          "execution_count": 29
        }
      ]
    },
    {
      "cell_type": "code",
      "metadata": {
        "id": "66ggjC5yc8cQ",
        "colab_type": "code",
        "colab": {
          "base_uri": "https://localhost:8080/",
          "height": 34
        },
        "outputId": "2ff12914-4f64-44f5-d48e-9b8afc02a1ba"
      },
      "source": [
        "!pip install CoolProp\n",
        "from CoolProp.HumidAirProp import HAPropsSI\n",
        "from CoolProp.CoolProp import PropsSI"
      ],
      "execution_count": 30,
      "outputs": [
        {
          "output_type": "stream",
          "text": [
            "Requirement already satisfied: CoolProp in /usr/local/lib/python3.6/dist-packages (6.3.0)\n"
          ],
          "name": "stdout"
        }
      ]
    },
    {
      "cell_type": "code",
      "metadata": {
        "id": "QApEsoplcgmm",
        "colab_type": "code",
        "colab": {}
      },
      "source": [
        "#[Dry Air and Water Properties]\n",
        "class PROP():\n",
        "\n",
        "  Enthalpy = 0.0        #[J/kg] \n",
        "  Desnity =0.0          #[kg/m^3]\n",
        "  Viscosity = 0.0       #[Pa s]\n",
        "  Heat_Capacity = 0.0   #[J/kg/K]\n",
        "  Thermal_Cond = 0.0    #[W/m/K]\n",
        "\n",
        "  def __init__(self,T,P,Fluid):\n",
        "    self.Tdb = T+273.15\n",
        "    self.P = P \n",
        "    self.Enthalpy = PropsSI(\"H\", \"P\", 101325, \"T\", 298.15, Fluid)/1000\n",
        "    self.Desnity = PropsSI(\"D\", \"P\", 101325, \"T\", 298.15, Fluid)\n",
        "    self.Viscosity = PropsSI(\"viscosity\", \"P\", 101325, \"T\", 298.15, Fluid)*1000\n",
        "    self.Heat_Capacity = PropsSI(\"Cpmass\", \"P\", 101325, \"T\", 298.15, Fluid)/1000\n",
        "    self.Thermal_Cond = PropsSI(\"conductivity\", \"P\", 101325, \"T\", 298.15, Fluid)\n"
      ],
      "execution_count": 0,
      "outputs": []
    },
    {
      "cell_type": "code",
      "metadata": {
        "id": "ZQWi6rwWxo_i",
        "colab_type": "code",
        "colab": {
          "base_uri": "https://localhost:8080/",
          "height": 238
        },
        "outputId": "9d7eabf0-ef61-4eb3-907b-50e279f2dd84"
      },
      "source": [
        "\n",
        "State = PROP(25,101325,\"Water\")\n",
        "print(\"---------WATER PROPERTY---------\")\n",
        "print('Enthalpy',State.Enthalpy, \"kJ/kg\")\n",
        "print('Desnity',State.Desnity, \"kg/m^3\")\n",
        "print(\"Viscosity\",State.Viscosity, \"mN-s/m2\")\n",
        "print('Heat_Capacity',State.Heat_Capacity, \"kJ/kg-C\")\n",
        "print('Thermal_Cond',State.Thermal_Cond, \"W/m-C\")\n",
        "\n",
        "print()\n",
        "\n",
        "State = PROP(25,101325,\"Air.mix\")\n",
        "print(\"---------DRY AIR PROPERTY---------\")\n",
        "print('Enthalpy',State.Enthalpy, \"kJ/kg\")\n",
        "print('Desnity',State.Desnity, \"kg/m^3\")\n",
        "print(\"Viscosity\",State.Viscosity, \"mN-s/m2\")\n",
        "print('Heat_Capacity',State.Heat_Capacity, \"kJ/kg-C\")\n",
        "print('Thermal_Cond',State.Thermal_Cond, \"W/m-C\")"
      ],
      "execution_count": 32,
      "outputs": [
        {
          "output_type": "stream",
          "text": [
            "---------WATER PROPERTY---------\n",
            "Enthalpy 104.92011980935509 kJ/kg\n",
            "Desnity 997.047636760347 kg/m^3\n",
            "Viscosity 0.8900224890776964 mN-s/m2\n",
            "Heat_Capacity 4.181314990770664 kJ/kg-C\n",
            "Thermal_Cond 0.6065160802197994 W/m-C\n",
            "\n",
            "---------DRY AIR PROPERTY---------\n",
            "Enthalpy 298.446509910863 kJ/kg\n",
            "Desnity 1.1840132869164148 kg/m^3\n",
            "Viscosity 0.01838851921573831 mN-s/m2\n",
            "Heat_Capacity 1.006561522458271 kJ/kg-C\n",
            "Thermal_Cond 0.0258666072482297 W/m-C\n"
          ],
          "name": "stdout"
        }
      ]
    },
    {
      "cell_type": "code",
      "metadata": {
        "id": "k12ltyOzcotk",
        "colab_type": "code",
        "colab": {}
      },
      "source": [
        "#[Moist Air Properties]\n",
        "class HAP():\n",
        "     \n",
        "    Enthalpy = 0.0\n",
        "    Humidity_Ratio = 0.0                    #kg-water/kg-da\n",
        "    Specific_Volume = 0.0                   #m3/kg\n",
        "    Wet_Bulb_Temperature = 0.0\n",
        "    Dew_Point_Temperature = 0.0\n",
        "    Partial_pressure_of_water_vapor = 0.0\n",
        "     \n",
        "    def __init__(self,T,P,RH):\n",
        "        self.Tdb = T+273.15\n",
        "        self.P = P\n",
        "        self.RH = RH\n",
        "\n",
        "        self.Enthalpy = HAPropsSI('H','T',self.Tdb,'P',self.P,'R',self.RH)/1000\n",
        "        self.Humidity_Ratio = HAPropsSI(\"W\", \"T\", self.Tdb, \"P\", self.P, \"R\",self.RH)\n",
        "        self.Specific_Volume = HAPropsSI(\"V\", \"T\", self.Tdb, \"P\",self.P, \"R\",self.RH)\n",
        "        self.Wet_Bulb_Temperature = HAPropsSI(\"Twb\", \"T\", self.Tdb, \"P\", self.P, \"R\",self.RH)-273.15\n",
        "        self.Dew_Point_Temperature = HAPropsSI(\"Tdp\", \"T\", self.Tdb, \"P\", self.P, \"R\",self.RH)-273.15\n",
        "        self.Partial_pressure_of_water_vapor = HAPropsSI(\"P_w\", \"T\", self.Tdb, \"P\", self.P, \"R\",self.RH)\n",
        "        "
      ],
      "execution_count": 0,
      "outputs": []
    },
    {
      "cell_type": "code",
      "metadata": {
        "id": "SJ8hZPiwwL-I",
        "colab_type": "code",
        "colab": {
          "base_uri": "https://localhost:8080/",
          "height": 102
        },
        "outputId": "413cdbae-56e1-4294-f71c-bea1324767e4"
      },
      "source": [
        "State = HAP(80,101325,1)\n",
        "print('Enthalpy',State.Enthalpy, \"kJ/kg\")\n",
        "print('Humidity_Ratio',State.Humidity_Ratio, \"kg-water/kg-da\")\n",
        "print(\"Specific_Volume\",State.Specific_Volume, \"m3/kg\")\n",
        "print('Wet_Bulb_Temperature',State.Wet_Bulb_Temperature, \"C\")\n",
        "print('Dew_Point_Temperature',State.Dew_Point_Temperature, \"C\")"
      ],
      "execution_count": 34,
      "outputs": [
        {
          "output_type": "stream",
          "text": [
            "Enthalpy 1541.7945329114111 kJ/kg\n",
            "Humidity_Ratio 0.5529259271424659 kg-water/kg-da\n",
            "Specific_Volume 1.880912206506531 m3/kg\n",
            "Wet_Bulb_Temperature 79.9999999999996 C\n",
            "Dew_Point_Temperature 80.0000000000689 C\n"
          ],
          "name": "stdout"
        }
      ]
    }
  ]
}