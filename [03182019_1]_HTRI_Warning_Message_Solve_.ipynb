{
  "nbformat": 4,
  "nbformat_minor": 0,
  "metadata": {
    "colab": {
      "name": "[03182019-1] HTRI Warning Message Solve .ipynb",
      "version": "0.3.2",
      "provenance": [],
      "include_colab_link": true
    },
    "kernelspec": {
      "name": "python3",
      "display_name": "Python 3"
    }
  },
  "cells": [
    {
      "cell_type": "markdown",
      "metadata": {
        "id": "view-in-github",
        "colab_type": "text"
      },
      "source": [
        "<a href=\"https://colab.research.google.com/github/BingHungLee/Heat_Transfer/blob/master/%5B03182019_1%5D_HTRI_Warning_Message_Solve_.ipynb\" target=\"_parent\"><img src=\"https://colab.research.google.com/assets/colab-badge.svg\" alt=\"Open In Colab\"/></a>"
      ]
    },
    {
      "metadata": {
        "id": "xDecIVfbyO1y",
        "colab_type": "text"
      },
      "cell_type": "markdown",
      "source": [
        "## Critical Flow Velocity in I/O Nozzle\n",
        "- Shell exit velocity exceeds 80% of critical velocity, indicating that fluidelastic instability and flow-induced vibration\tdamage are possible. Fluidelastic instability can lead to large amplitude vibration and tube damage.\t\n",
        "*  **Reduction the tubes located near the I/O nozzle **\n",
        "*  Input Summary/ Geometry/ Tube Layout/ Tuberows removed under nozzles\n"
      ]
    },
    {
      "metadata": {
        "id": "JN3wO8CM2Qk0",
        "colab_type": "text"
      },
      "cell_type": "markdown",
      "source": [
        "## Acoustic Vibration \n",
        "* WARNING-First mode acoustic vibration is probable. A maximum Chen number of 7611.25 is calculated for the\tregions with a frequency ratio between 0.8 and 1.2. Consider adding deresonating baffles. Careful positioning of deresonating baffles eliminates noise.\t\t\t\t\n",
        "*  Enlarge I/O nozzle size \n",
        "* Input Summary/ Geometry/ Nozzles"
      ]
    },
    {
      "metadata": {
        "id": "EvVVyFi82gJD",
        "colab_type": "code",
        "colab": {}
      },
      "cell_type": "code",
      "source": [
        ""
      ],
      "execution_count": 0,
      "outputs": []
    }
  ]
}