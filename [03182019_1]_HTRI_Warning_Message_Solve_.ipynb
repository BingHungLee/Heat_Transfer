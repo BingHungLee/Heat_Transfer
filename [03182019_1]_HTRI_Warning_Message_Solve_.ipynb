{
  "nbformat": 4,
  "nbformat_minor": 0,
  "metadata": {
    "colab": {
      "name": "[03182019-1] HTRI Warning Message Solve .ipynb",
      "version": "0.3.2",
      "provenance": [],
      "collapsed_sections": [],
      "include_colab_link": true
    },
    "kernelspec": {
      "name": "python3",
      "display_name": "Python 3"
    }
  },
  "cells": [
    {
      "cell_type": "markdown",
      "metadata": {
        "id": "view-in-github",
        "colab_type": "text"
      },
      "source": [
        "<a href=\"https://colab.research.google.com/github/BingHungLee/Heat_Transfer/blob/master/%5B03182019_1%5D_HTRI_Warning_Message_Solve_.ipynb\" target=\"_parent\"><img src=\"https://colab.research.google.com/assets/colab-badge.svg\" alt=\"Open In Colab\"/></a>"
      ]
    },
    {
      "metadata": {
        "id": "xDecIVfbyO1y",
        "colab_type": "text"
      },
      "cell_type": "markdown",
      "source": [
        "# Vibration\n",
        "\n",
        "## Critical Flow Velocity in I/O Nozzle\n",
        "- Shell exit velocity exceeds 80% of critical velocity, indicating that fluidelastic instability and flow-induced vibration\tdamage are possible. Fluidelastic instability can lead to large amplitude vibration and tube damage.\t\n",
        "*  **Reduction the tubes located near the I/O nozzle **\n",
        "*  **Change tube pattern**\n",
        "*  Input Summary/ Geometry/ Tube Layout/ Tuberows removed under nozzles\n",
        "\n",
        "## Acoustic Vibration \n",
        "* WARNING-First mode acoustic vibration is probable. A maximum Chen number of 7611.25 is calculated for the\tregions with a frequency ratio between 0.8 and 1.2. Consider adding deresonating baffles. Careful positioning of deresonating baffles eliminates noise.\t\t\t\t\n",
        "*  **Enlarge I/O nozzle size **\n",
        "*  **Change tube pattern**\n",
        "* Input Summary/ Geometry/ Nozzles\n",
        "\n"
      ]
    },
    {
      "metadata": {
        "id": "w4wmI0cc4USF",
        "colab_type": "text"
      },
      "cell_type": "markdown",
      "source": [
        "# Case[1]\n",
        "\n",
        "## Problems \n",
        "1. WARNING-First mode acoustic vibration is probable. A maximum Chen number of 7611.25 is calculated for the\tregions with a frequency ratio between 0.8 and 1.2. Consider adding deresonating baffles. Careful positioning of deresonating baffles eliminates noise.\t\t\t\t\t\t\t\t\n",
        "\n",
        "2. Shell exit velocity exceeds 80% of critical velocity, indicating that fluidelastic instability and flow-induced vibration damage are possible. Fluidelastic instability can lead to large amplitude vibration and tube damage.\t\t\t\t\t\t\t\t\n",
        "\n",
        "## Solve\n",
        "* By adding deresonating baffles we can solve problem-1 but we have to use user specific tubelayout to remove the tubes let the deresonating baffles have enough space to install.\n",
        "   *  Deresonating baffles placed at 0.45*Shell ID will resolve the first fundamental transverse mode for acoustic vibration.\tTwo deresonating baffles placed at 0.18*Shell ID and 0.45*Shell ID will resolve up to 5 transverse modes for acoustic\tvibration. User must ensure that the proper number of tubes are removed for placement of deresonating baffles and\tthat excessive bypass cannot occur through the lanes between the tubes and deresonating baffles. Xist HAS NOT\t\t\t\ttaken reduction in heat transfer surface area into account and Xist stream analysis EXCLUDES bypass streams\tthrough deresonating baffle lanes.\t\t\t\t\t\t\t\t\n",
        "\n",
        "* By reducting the tubes row near the inlet and outlet nozzle, we can reduce the critical velocity and solve problem-2.\n",
        "\n",
        "* If we want to solve problem-1 and 2 at the same time, we can change the tube pattern from 30 to 60."
      ]
    }
  ]
}