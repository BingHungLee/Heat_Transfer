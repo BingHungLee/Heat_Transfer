{
  "nbformat": 4,
  "nbformat_minor": 0,
  "metadata": {
    "colab": {
      "name": "[03112019-1] Natural Circulation and Thermosiphon Reboilers.ipynb",
      "version": "0.3.2",
      "provenance": [],
      "collapsed_sections": [],
      "include_colab_link": true
    },
    "kernelspec": {
      "name": "python3",
      "display_name": "Python 3"
    }
  },
  "cells": [
    {
      "cell_type": "markdown",
      "metadata": {
        "id": "view-in-github",
        "colab_type": "text"
      },
      "source": [
        "<a href=\"https://colab.research.google.com/github/BingHungLee/Heat_Transfer/blob/master/%5B03112019_1%5D_Natural_Circulation_and_Thermosiphon_Reboilers.ipynb\" target=\"_parent\"><img src=\"https://colab.research.google.com/assets/colab-badge.svg\" alt=\"Open In Colab\"/></a>"
      ]
    },
    {
      "metadata": {
        "id": "XAmCTM-OW4l3",
        "colab_type": "text"
      },
      "cell_type": "markdown",
      "source": [
        "# Natural Circulation and Thermosiphon Reboilers\n",
        "\n",
        "## Vertical Units\n",
        "* Usually **E-type** HX with boiling in the tubes.\n",
        "* **Only part of the feed is vaporized**.\n",
        "* Hence **the circulation rate is high (low residence time)**.\n",
        "* Therefore, **fouling is less and heat-sensitive materials can be processed**.\n",
        "* It **occupies less ground space**.\n",
        "* The** distillation tower has to be elevated to provide enough head for the flow**.\n",
        "* **Valves (restrictions) are incorporated in the inlet pipe** to make the operation stable.\n",
        "* Design of the in and exit nozzle is important so that the pressure drop is minimal.\n",
        "* **Liquid level is maintained equal to the top tubesheet**.\n",
        "* **dT should be <= 50C(90F), or else film boiling might result**.\n",
        "* These can be** falling film or rising film type**.\n",
        "  *  The heat transfer coefficient fot the falling film type is higher than that for the rising film type.\n",
        "  *  Their performance can be predicted better than that of the horizontal units and these are better controlled too.\n",
        "  *  These are also **eaiser to clean **if the liquid is a fouling type since the** fouling is on the tube side**.\n",
        "  * The flow distribution is **more uniform**, and **the pressure drop is lower** compared to that in the horizontal units.\n",
        "  * These can also provide **more hydraulic head** and **higher circulation rate.**\n",
        "  * Capital and operating costs are lower too.\n",
        "\n",
        "## Horizontal Units\n",
        "* Usually **G-type** HX with boiling in the shell.\n",
        "* **Only part of the feed is vaporized**.\n",
        "* Hence **the circulation rate is high (low residence time)**.\n",
        "* A horizontal unit is preferred when :\n",
        "  *  The area requirement is large.\n",
        "  * Low boiling point elevation due to hydrostatic head is desired (vaccum operation).\n",
        "  * The tower cannot be elevated to provide enough head\n",
        "* In the horizontal units,** seal strips should be installed** in order to reduce by-passing and phase separation within the unit.\n",
        "* **More than one inlet and outlet are provided for good distribution and high velocities** .\n",
        "* Aim should be to have** bubbly flow **within the reboiler.\n",
        "\n",
        "## Long & Short Tubes Guide\n",
        "* With small temperature difference, short tubes should be used.\n",
        "* WIth large temperature difference, long tubes give better heat transfer.\n",
        "\n",
        "## The advantages of using thermosiphon reboilers ?\n",
        "* General services can be used.\n",
        "* Do not reuire any circulation pumps\n",
        "\n",
        "## What are the recommended heat transfer coefficient (Btu/hr.ft2 oF) for the thermosiphone reboilers ?\n",
        "* Heavy organics : 100-160\n",
        "* Light Hydrocarbons : 150-220\n",
        "* Aqueous Solutions : 200-350\n",
        "\n",
        "## What factors limit the heat flux in a **vertical, in-tube thermosiphone reboiler**?\n",
        "* Film boiling\n",
        "  * Cause by high reduced pressure.\n",
        "  * The impact is the bubble layer retardation. Wll temperature exceeds Leidenfrost point.\n",
        "* Mist flow\n",
        "  *  Cause by high exit vapor fraction.\n",
        "  *  The impact is the destruction of liquid annular film.\n",
        "* Flow instability\n",
        "  *  Cause by low exit vapor fraction and low reduced pressure.\n",
        "  *  The impact is choking and density wave oscillations.\n",
        "\n",
        "A combination of vapor fractionand frictional pressure drop may produce one or the other of the above limitations.\n",
        "\n",
        "## What is the usual pressure drop permitted in a natural circulation (thermosiphon) reboiler ? How does it affect the column operation ?\n",
        "\n",
        "* A low pressure drop of approximately 0.25psi(1.72kPa) is allowed in a natural circulation reboiler.\n",
        "* The higher the pressure drop, the higher the hydrostatic head has to be. This will require elevating entire distillation column to provide the necessary head.\n",
        "* The pressure drop in the piping should be minimized.\n",
        "\n",
        "## How does a horizontal thermosiphone reboiler differ from a kettle reboiler?\n",
        "* The disengagement of the entrapped droplets occurs in the distillation column and not in the reboiler shell, as in the case of the kettle reboiler. The thermosiphone reboiler is smaller in diameter since no disengagement space is provided in its shell\n",
        "* The heat transfer are of the same order of magnitude.\n",
        "\n",
        "\n",
        "\n",
        "\n",
        "\n",
        "\n",
        "\n"
      ]
    }
  ]
}