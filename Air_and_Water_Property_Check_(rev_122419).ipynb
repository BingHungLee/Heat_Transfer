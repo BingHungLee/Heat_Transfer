{
  "nbformat": 4,
  "nbformat_minor": 0,
  "metadata": {
    "colab": {
      "name": "Air and Water Property Check (rev.122419).ipynb",
      "provenance": [],
      "collapsed_sections": [],
      "include_colab_link": true
    },
    "kernelspec": {
      "name": "python3",
      "display_name": "Python 3"
    }
  },
  "cells": [
    {
      "cell_type": "markdown",
      "metadata": {
        "id": "view-in-github",
        "colab_type": "text"
      },
      "source": [
        "<a href=\"https://colab.research.google.com/github/BingHungLee/Heat_Transfer/blob/master/Air_and_Water_Property_Check_(rev_122419).ipynb\" target=\"_parent\"><img src=\"https://colab.research.google.com/assets/colab-badge.svg\" alt=\"Open In Colab\"/></a>"
      ]
    },
    {
      "cell_type": "code",
      "metadata": {
        "id": "5t1n1meMijHx",
        "colab_type": "code",
        "colab": {
          "base_uri": "https://localhost:8080/",
          "height": 54
        },
        "outputId": "2874d5da-88f9-4603-ee60-cfeef063bd57"
      },
      "source": [
        "'''\n",
        "[Water Properties]\n",
        "Liquid Phase Model: Advanced Peng-Robinson\n",
        "Vapor Phase Model: Advanced Peng-Robinson\n",
        "Bulk liquid-liquid properties: VMG mixing rules\n",
        "T= 25C\n",
        "Enthalpy= -1914.9 kJ/kg\n",
        "Density= 996.247 kg/m3\n",
        "Viscoisty= 0.8901 mN-s/m2\n",
        "Heat Capacity= 4.2201 kJ/kg-C\n",
        "Thermal Conductivity= 0.6075 W/m-C\n",
        "Surface Tension= 71.9722 mN/m\n",
        "Critical Pressure= 22055 kPa\n",
        "Critical Temperature= 373.98 C\n",
        "Mole Weight= 18.02\n",
        "\n",
        "Liquid Phase Model: Advanced Peng-Robinson\n",
        "Vapor Phase Model: Advanced Peng-Robinson\n",
        "Bulk liquid-liquid properties: VMG mixing rules\n",
        "T= 25C\n",
        "Enthalpy= 104.929 kJ/kg\n",
        "Density= 997.063 kg/m3\n",
        "Viscoisty= 0.8901 mN-s/m2\n",
        "Heat Capacity= 4.1819 kJ/kg-C\n",
        "Thermal Conductivity= 0.6075 W/m-C\n",
        "Surface Tension= 71.9722 mN/m\n",
        "Critical Pressure= 22064 kPa\n",
        "Critical Temperature= 373.95 C\n",
        "Mole Weight= 18.02\n",
        "\n",
        "[Dry Air Properties]\n",
        "Liquid Phase Model: Advanced Peng-Robinson\n",
        "Vapor Phase Model: Advanced Peng-Robinson\n",
        "Bulk liquid-liquid properties: VMG mixing rules\n",
        "T= 25C\n",
        "Enthalpy= 297.005 kJ/kg\n",
        "Density= 1.1840 kg/m3\n",
        "Viscoisty= 0.0173 mN-s/m2\n",
        "Heat Capacity= 1.0100 kJ/kg-C\n",
        "Thermal Conductivity= 0.0247 W/m-C\n",
        "Mole Weight= 28.95\n",
        "\n",
        "Reference[CoolProp]: http://www.coolprop.org/coolprop/wrappers/Python/index.html#python\n",
        "Reference[PropSI]: http://www.coolprop.org/coolprop/HighLevelAPI.html\n",
        "'''"
      ],
      "execution_count": 15,
      "outputs": [
        {
          "output_type": "execute_result",
          "data": {
            "text/plain": [
              "'\\n[Water Properties]\\nLiquid Phase Model: Advanced Peng-Robinson\\nVapor Phase Model: Advanced Peng-Robinson\\nBulk liquid-liquid properties: VMG mixing rules\\nT= 25C\\nEnthalpy= -1914.9 kJ/kg\\nDensity= 996.247 kg/m3\\nViscoisty= 0.8901 mN-s/m2\\nHeat Capacity= 4.2201 kJ/kg-C\\nThermal Conductivity= 0.6075 W/m-C\\nSurface Tension= 71.9722 mN/m\\nCritical Pressure= 22055 kPa\\nCritical Temperature= 373.98 C\\nMole Weight= 18.02\\n\\nLiquid Phase Model: Advanced Peng-Robinson\\nVapor Phase Model: Advanced Peng-Robinson\\nBulk liquid-liquid properties: VMG mixing rules\\nT= 25C\\nEnthalpy= 104.929 kJ/kg\\nDensity= 997.063 kg/m3\\nViscoisty= 0.8901 mN-s/m2\\nHeat Capacity= 4.1819 kJ/kg-C\\nThermal Conductivity= 0.6075 W/m-C\\nSurface Tension= 71.9722 mN/m\\nCritical Pressure= 22064 kPa\\nCritical Temperature= 373.95 C\\nMole Weight= 18.02\\n\\n[Dry Air Properties]\\n\\nReference[CoolProp]: http://www.coolprop.org/coolprop/wrappers/Python/index.html#python\\nReference[PropSI]: http://www.coolprop.org/coolprop/HighLevelAPI.html\\n\\n\\n'"
            ]
          },
          "metadata": {
            "tags": []
          },
          "execution_count": 15
        }
      ]
    },
    {
      "cell_type": "code",
      "metadata": {
        "id": "zNkEUVEtvx7Y",
        "colab_type": "code",
        "colab": {
          "base_uri": "https://localhost:8080/",
          "height": 102
        },
        "outputId": "3c778b1e-80bf-4fdb-b09d-9bd3d677c22c"
      },
      "source": [
        "pip install CoolProp"
      ],
      "execution_count": 2,
      "outputs": [
        {
          "output_type": "stream",
          "text": [
            "Collecting CoolProp\n",
            "\u001b[?25l  Downloading https://files.pythonhosted.org/packages/03/d8/6cbeeb68464c7811a9d48f800618746d3415bf84d545add04eb4290f83c5/CoolProp-6.3.0-cp36-cp36m-manylinux1_x86_64.whl (4.0MB)\n",
            "\u001b[K     |████████████████████████████████| 4.0MB 9.6MB/s \n",
            "\u001b[?25hInstalling collected packages: CoolProp\n",
            "Successfully installed CoolProp-6.3.0\n"
          ],
          "name": "stdout"
        }
      ]
    },
    {
      "cell_type": "code",
      "metadata": {
        "id": "V9M3gOC7vzxi",
        "colab_type": "code",
        "colab": {
          "base_uri": "https://localhost:8080/",
          "height": 391
        },
        "outputId": "7f8fecb6-15f4-4e80-d6f3-42809d0a6294"
      },
      "source": [
        "from CoolProp.CoolProp import PhaseSI, PropsSI, get_global_param_string\n",
        "print(\"*********** HIGH LEVEL INTERFACE *****************\")\n",
        "print(\"[Tcr] Critical temperature of water:\", PropsSI(\"Water\", \"Tcrit\"), \"K\")\n",
        "print(\"[Tboiling] Boiling temperature of water at 101325 Pa:\", PropsSI(\"T\", \"P\", 101325, \"Q\", 0, \"Water\"), \"K\")\n",
        "print(\"[Phase] Phase of water at 101325 Pa and 300 K:\", PhaseSI(\"P\", 101325, \"T\", 300, \"Water\"))\n",
        "print(\"[cp] c_p of water at 101325 Pa and 300 K:\", PropsSI(\"C\", \"P\", 101325, \"T\", 300, \"Water\"), \"J/kg/K\")\n",
        "print(\"[cp] c_p of water (using derivatives) at 101325 Pa and 300 K:\", PropsSI(\"d(H)/d(T)|P\", \"P\", 101325, \"T\", 300, \"Water\"), \"J/kg/K\")\n",
        "print(\"[isatV] Saturated vapor enthalpy of Water at 1 atm in J/kg-K:\", PropsSI('H','P',101325,'Q',1,'Water'), \"J/kg-K\")\n",
        "print(\"[isatL] Saturated liquid enthalpy of Water at 1 atm in J/kg-K:\", PropsSI('H','P',101325,'Q',0,'Water'), \"J/kg-K\")\n",
        "print(\"[Hlatent] Latent heat of vaporization of Water at 1 atm in J/kg-K:\", (PropsSI('H','P',101325,'Q',1,'Water') - PropsSI('H','P',101325,'Q',0,'Water')), \"J/kg-K\")\n",
        "print()\n",
        "print(\"*********** Predefined Mixtures *****************\")\n",
        "import CoolProp.CoolProp as CP\n",
        "print(\"a comma-separated list of predefined mixtures.\",CP.get_global_param_string('predefined_mixtures').split(',')[0:10])\n",
        "print(\"calculate the density of air using the mixture model at 1 atmosphere (=101325 Pa) and 300 K:\",CP.PropsSI('D','P',101325,'T',300,'Air.mix'))\n",
        "print(\"User-Defined Mixtures\", CP.PropsSI('D','T',300,'P',101325,'HEOS::R32[0.697615]&R125[0.302385]'))\n",
        "print()\n",
        "print(\"*********** Sample Code *****************\")\n",
        "print(\"Specific heat (J/kg/K) of 20% ethylene glycol as a function of T\",PropsSI('C','T',298.15,'P',101325,'INCOMP::MEG-20%'))\n",
        "print(\"Density of Air at standard atmosphere in kg/m^3\",PropsSI('D','T',298.15,'P',101325,'Air'))\n",
        "print(\"Saturation temperature of Water at 1 atm\",PropsSI('T','P',101325,'Q',0,'Water'))\n",
        "print(\"Saturated vapor enthalpy of R134a at 0C (Q=1)\",PropsSI('H','T',273.15,'Q',1,'R134a'))\n",
        "print(\"Saturated liquid enthalpy of R134a at 0C (Q=0)\",PropsSI('H','T',273.15,'Q',0,'R134a'))\n",
        "print(\"Using properties from CoolProp to get R410A density\",PropsSI('D','T',300,'P',101325,'HEOS::R32[0.697615]&R125[0.302385]'))"
      ],
      "execution_count": 14,
      "outputs": [
        {
          "output_type": "stream",
          "text": [
            "*********** HIGH LEVEL INTERFACE *****************\n",
            "[Tcr] Critical temperature of water: 647.096 K\n",
            "[Tboiling] Boiling temperature of water at 101325 Pa: 373.1242958476844 K\n",
            "[Phase] Phase of water at 101325 Pa and 300 K: liquid\n",
            "[cp] c_p of water at 101325 Pa and 300 K: 4180.6357765560715 J/kg/K\n",
            "[cp] c_p of water (using derivatives) at 101325 Pa and 300 K: 4180.6357765560715 J/kg/K\n",
            "[isatV] Saturated vapor enthalpy of Water at 1 atm in J/kg-K: 2675529.3255007486 J/kg-K\n",
            "[isatL] Saturated liquid enthalpy of Water at 1 atm in J/kg-K: 419057.7330940691 J/kg-K\n",
            "[Hlatent] Latent heat of vaporization of Water at 1 atm in J/kg-K: 2256471.5924066794 J/kg-K\n",
            "\n",
            "*********** Predefined Mixtures *****************\n",
            "a comma-separated list of predefined mixtures. ['AIR.MIX', 'AMARILLO.MIX', 'Air.mix', 'Amarillo.mix', 'EKOFISK.MIX', 'Ekofisk.mix', 'GULFCOAST.MIX', 'GULFCOASTGAS(NIST1).MIX', 'GulfCoast.mix', 'GulfCoastGas(NIST1).mix']\n",
            "calculate the density of air using the mixture model at 1 atmosphere (=101325 Pa) and 300 K: 1.1766922904316655\n",
            "User-Defined Mixtures 2.986886779635724\n",
            "\n",
            "*********** Sample Code *****************\n",
            "Specific heat (J/kg/K) of 20% ethylene glycol as a function of T 3905.2706242925874\n",
            "Density of Air at standard atmosphere in kg/m^3 1.1843184839089664\n",
            "Saturation temperature of Water at 1 atm 373.1242958476844\n",
            "Saturated vapor enthalpy of R134a at 0C (Q=1) 398603.45362765493\n",
            "Saturated liquid enthalpy of R134a at 0C (Q=0) 199999.98852614488\n",
            "Using properties from CoolProp to get R410A density 2.986886779635724\n"
          ],
          "name": "stdout"
        }
      ]
    },
    {
      "cell_type": "code",
      "metadata": {
        "id": "2w3QtrWgv4Ur",
        "colab_type": "code",
        "colab": {
          "base_uri": "https://localhost:8080/",
          "height": 173
        },
        "outputId": "7b4e3cb1-4546-49db-e07a-ad9d648aec29"
      },
      "source": [
        "#[Water Properties]\n",
        "print(\"Mass specific enthalpy :\", PropsSI(\"H\", \"P\", 101325, \"T\", 298.15, \"Water\") ,\"J/kg\")\n",
        "print(\"Mass density :\", PropsSI(\"D\", \"P\", 101325, \"T\", 298.15, \"Water\") ,\"kg/m^3\")\n",
        "print(\"Viscosity :\", PropsSI(\"viscosity\", \"P\", 101325, \"T\", 298.15, \"Water\") ,\"\tPa s\")\n",
        "print(\"Mass specific constant pressure specific heat :\", PropsSI(\"Cpmass\", \"P\", 101325, \"T\", 298.15, \"Water\") ,\"J/kg/K\")\n",
        "print(\"Thermal conductivity :\", PropsSI(\"conductivity\", \"P\", 101325, \"T\", 298.15, \"Water\") ,\"W/m/K\")\n",
        "#print(\"Surface tension :\", PropsSI(\"surface_tension\", \"P\", 101325, \"T\", 298.15, \"Water\") ,\"N/m\")\n",
        "print(\"Pressure at the critical point :\", PropsSI(\"Pcrit\", \"P\", 101325, \"T\", 298.15, \"Water\") ,\"Pa\")\n",
        "print(\"Temperature at the critical point :\", PropsSI(\"Tcrit\", \"P\", 101325, \"T\", 298.15, \"Water\") ,\"\tK\")\n",
        "\n",
        "'''\n",
        "Liquid Phase Model: Advanced Peng-Robinson\n",
        "Vapor Phase Model: Advanced Peng-Robinson\n",
        "Bulk liquid-liquid properties: VMG mixing rules\n",
        "T= 25C\n",
        "Enthalpy= 104.929 kJ/kg\n",
        "Density= 997.063 kg/m3\n",
        "Viscoisty= 0.8901 mN-s/m2\n",
        "Heat Capacity= 4.1819 kJ/kg-C\n",
        "Thermal Conductivity= 0.6075 W/m-C\n",
        "Surface Tension= 71.9722 mN/m\n",
        "Critical Pressure= 22064 kPa\n",
        "Critical Temperature= 373.95 C\n",
        "Mole Weight= 18.02\n",
        "'''"
      ],
      "execution_count": 21,
      "outputs": [
        {
          "output_type": "stream",
          "text": [
            "Mass specific enthalpy : 104920.11980935509 J/kg\n",
            "Mass density : 997.047636760347 kg/m^3\n",
            "Viscosity : 0.0008900224890776964 \tPa s\n",
            "Mass specific constant pressure specific heat : 4181.314990770664 J/kg/K\n",
            "Thermal conductivity : 0.6065160802197994 W/m/K\n",
            "Pressure at the critical point : 22064000.0 Pa\n",
            "Temperature at the critical point : 647.096 \tK\n"
          ],
          "name": "stdout"
        },
        {
          "output_type": "execute_result",
          "data": {
            "text/plain": [
              "'\\nLiquid Phase Model: Advanced Peng-Robinson\\nVapor Phase Model: Advanced Peng-Robinson\\nBulk liquid-liquid properties: VMG mixing rules\\nT= 25C\\nEnthalpy= 104.929 kJ/kg\\nDensity= 997.063 kg/m3\\nViscoisty= 0.8901 mN-s/m2\\nHeat Capacity= 4.1819 kJ/kg-C\\nThermal Conductivity= 0.6075 W/m-C\\nSurface Tension= 71.9722 mN/m\\nCritical Pressure= 22064 kPa\\nCritical Temperature= 373.95 C\\nMole Weight= 18.02\\n'"
            ]
          },
          "metadata": {
            "tags": []
          },
          "execution_count": 21
        }
      ]
    },
    {
      "cell_type": "code",
      "metadata": {
        "id": "r0LDEL_w279f",
        "colab_type": "code",
        "colab": {
          "base_uri": "https://localhost:8080/",
          "height": 173
        },
        "outputId": "16df392e-3e49-41e6-9e5b-57ff543af578"
      },
      "source": [
        "#[Air Properties]\n",
        "print(\"Mass specific enthalpy :\", PropsSI(\"H\", \"P\", 101325, \"T\", 298.15, \"Air\") ,\"J/kg\")\n",
        "print(\"Mass density :\", PropsSI(\"D\", \"P\", 101325, \"T\", 298.15, \"Air\") ,\"kg/m^3\")\n",
        "print(\"Viscosity :\", PropsSI(\"viscosity\", \"P\", 101325, \"T\", 298.15, \"Air\") ,\"\tPa s\")\n",
        "print(\"Mass specific constant pressure specific heat :\", PropsSI(\"Cpmass\", \"P\", 101325, \"T\", 298.15, \"Air\") ,\"J/kg/K\")\n",
        "print(\"Thermal conductivity :\", PropsSI(\"conductivity\", \"P\", 101325, \"T\", 298.15, \"Air\") ,\"W/m/K\")\n",
        "#print(\"Surface tension :\", PropsSI(\"surface_tension\", \"P\", 101325, \"T\", 298.15, \"Air\") ,\"N/m\")\n",
        "print(\"Pressure at the critical point :\", PropsSI(\"Pcrit\", \"P\", 101325, \"T\", 298.15, \"Air\") ,\"Pa\")\n",
        "print(\"Temperature at the critical point :\", PropsSI(\"Tcrit\", \"P\", 101325, \"T\", 298.15, \"Air\") ,\"\tK\")\n",
        "\n",
        "'''\n",
        "[Dry Air Properties]\n",
        "Liquid Phase Model: Advanced Peng-Robinson\n",
        "Vapor Phase Model: Advanced Peng-Robinson\n",
        "Bulk liquid-liquid properties: VMG mixing rules\n",
        "T= 25C\n",
        "Enthalpy= 297.005 kJ/kg\n",
        "Density= 1.1840 kg/m3\n",
        "Viscoisty= 0.0173 mN-s/m2\n",
        "Heat Capacity= 1.0100 kJ/kg-C\n",
        "Thermal Conductivity= 0.0247 W/m-C\n",
        "Mole Weight= 28.95\n",
        "'''"
      ],
      "execution_count": 24,
      "outputs": [
        {
          "output_type": "stream",
          "text": [
            "Mass specific enthalpy : 424436.04391650215 J/kg\n",
            "Mass density : 1.1843184839089664 kg/m^3\n",
            "Viscosity : 1.8448082162002025e-05 \tPa s\n",
            "Mass specific constant pressure specific heat : 1006.308142514125 J/kg/K\n",
            "Thermal conductivity : 0.026246931318905948 W/m/K\n",
            "Pressure at the critical point : 3786000.0 Pa\n",
            "Temperature at the critical point : 132.5306 \tK\n"
          ],
          "name": "stdout"
        },
        {
          "output_type": "execute_result",
          "data": {
            "text/plain": [
              "'\\n[Dry Air Properties]\\nLiquid Phase Model: Advanced Peng-Robinson\\nVapor Phase Model: Advanced Peng-Robinson\\nBulk liquid-liquid properties: VMG mixing rules\\nT= 25C\\nEnthalpy= 297.005 kJ/kg\\nDensity= 1.1840 kg/m3\\nViscoisty= 0.0173 mN-s/m2\\nHeat Capacity= 1.0100 kJ/kg-C\\nThermal Conductivity= 0.0247 W/m-C\\nMole Weight= 28.95\\n'"
            ]
          },
          "metadata": {
            "tags": []
          },
          "execution_count": 24
        }
      ]
    },
    {
      "cell_type": "code",
      "metadata": {
        "id": "BC1NXt6w6cGX",
        "colab_type": "code",
        "colab": {
          "base_uri": "https://localhost:8080/",
          "height": 139
        },
        "outputId": "d1d1e534-44d4-4eff-a68d-6ad5edcd2305"
      },
      "source": [
        "#[Air Properties]\n",
        "print(\"Mass specific enthalpy :\", PropsSI(\"H\", \"P\", 101325, \"T\", 298.15, \"Air.mix\") ,\"J/kg\")\n",
        "print(\"Mass density :\", PropsSI(\"D\", \"P\", 101325, \"T\", 298.15, \"Air.mix\") ,\"kg/m^3\")\n",
        "print(\"Viscosity :\", PropsSI(\"viscosity\", \"P\", 101325, \"T\", 298.15, \"Air.mix\") ,\"\tPa s\")\n",
        "print(\"Mass specific constant pressure specific heat :\", PropsSI(\"Cpmass\", \"P\", 101325, \"T\", 298.15, \"Air.mix\") ,\"J/kg/K\")\n",
        "print(\"Thermal conductivity :\", PropsSI(\"conductivity\", \"P\", 101325, \"T\", 298.15, \"Air.mix\") ,\"W/m/K\")\n",
        "#print(\"Surface tension :\", PropsSI(\"surface_tension\", \"P\", 101325, \"T\", 298.15, \"Air.mix\") ,\"N/m\")\n",
        "#print(\"Pressure at the critical point :\", PropsSI(\"Pcrit\", \"P\", 101325, \"T\", 298.15, \"Air.mix\") ,\"Pa\")\n",
        "#print(\"Temperature at the critical point :\", PropsSI(\"Tcrit\", \"P\", 101325, \"T\", 298.15, \"Air.mix\") ,\"\tK\")\n",
        "\n",
        "'''\n",
        "[Dry Air Properties]\n",
        "Liquid Phase Model: Advanced Peng-Robinson\n",
        "Vapor Phase Model: Advanced Peng-Robinson\n",
        "Bulk liquid-liquid properties: VMG mixing rules\n",
        "T= 25C\n",
        "Enthalpy= 297.005 kJ/kg\n",
        "Density= 1.1840 kg/m3\n",
        "Viscoisty= 0.0173 mN-s/m2\n",
        "Heat Capacity= 1.0100 kJ/kg-C\n",
        "Thermal Conductivity= 0.0247 W/m-C\n",
        "Mole Weight= 28.95\n",
        "'''"
      ],
      "execution_count": 32,
      "outputs": [
        {
          "output_type": "stream",
          "text": [
            "Mass specific enthalpy : 298446.509910863 J/kg\n",
            "Mass density : 1.1840132869164148 kg/m^3\n",
            "Viscosity : 1.8388519215738313e-05 \tPa s\n",
            "Mass specific constant pressure specific heat : 1006.5615224582708 J/kg/K\n",
            "Thermal conductivity : 0.0258666072482297 W/m/K\n"
          ],
          "name": "stdout"
        },
        {
          "output_type": "execute_result",
          "data": {
            "text/plain": [
              "'\\n[Dry Air Properties]\\nLiquid Phase Model: Advanced Peng-Robinson\\nVapor Phase Model: Advanced Peng-Robinson\\nBulk liquid-liquid properties: VMG mixing rules\\nT= 25C\\nEnthalpy= 297.005 kJ/kg\\nDensity= 1.1840 kg/m3\\nViscoisty= 0.0173 mN-s/m2\\nHeat Capacity= 1.0100 kJ/kg-C\\nThermal Conductivity= 0.0247 W/m-C\\nMole Weight= 28.95\\n'"
            ]
          },
          "metadata": {
            "tags": []
          },
          "execution_count": 32
        }
      ]
    },
    {
      "cell_type": "code",
      "metadata": {
        "id": "LHQ41HAU78Mt",
        "colab_type": "code",
        "colab": {}
      },
      "source": [
        ""
      ],
      "execution_count": 0,
      "outputs": []
    }
  ]
}