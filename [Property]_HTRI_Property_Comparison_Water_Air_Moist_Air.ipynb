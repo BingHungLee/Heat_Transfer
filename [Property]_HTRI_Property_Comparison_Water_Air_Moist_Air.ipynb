{
  "nbformat": 4,
  "nbformat_minor": 0,
  "metadata": {
    "colab": {
      "name": "[Property] HTRI Property Comparison-Water_Air_Moist Air.ipynb",
      "provenance": [],
      "include_colab_link": true
    },
    "kernelspec": {
      "name": "python3",
      "display_name": "Python 3"
    }
  },
  "cells": [
    {
      "cell_type": "markdown",
      "metadata": {
        "id": "view-in-github",
        "colab_type": "text"
      },
      "source": [
        "<a href=\"https://colab.research.google.com/github/BingHungLee/Heat_Transfer/blob/master/%5BProperty%5D_HTRI_Property_Comparison_Water_Air_Moist_Air.ipynb\" target=\"_parent\"><img src=\"https://colab.research.google.com/assets/colab-badge.svg\" alt=\"Open In Colab\"/></a>"
      ]
    },
    {
      "cell_type": "code",
      "metadata": {
        "id": "BnYbG1g4Vxvo",
        "colab_type": "code",
        "outputId": "1f335286-19be-40e4-edfb-b6c6ef8a013b",
        "colab": {
          "base_uri": "https://localhost:8080/",
          "height": 54
        }
      },
      "source": [
        "'''\n",
        "[HTRI Air Properties]\n",
        "\n",
        "Liquid Phase Model: Advanced Peng-Robinson\n",
        "Vapor Phase Model: Advanced Peng-Robinson\n",
        "Bulk liquid-liquid properties: VMG mixing rules\n",
        "T= 25C\n",
        "Enthalpy= 297.005 kJ/kg\n",
        "Density= 1.1840 kg/m3\n",
        "Viscoisty= 0.0173 mN-s/m2\n",
        "Heat Capacity= 1.0100 kJ/kg-C\n",
        "Thermal Conductivity= 0.0247 W/m-C\n",
        "Mole Weight= 28.95\n",
        "\n",
        "Liquid Phase Model: APRNGL\n",
        "Vapor Phase Model: APRNGL\n",
        "Bulk liquid-liquid properties: VMG mixing rules\n",
        "T= 25C\n",
        "Enthalpy= 297.005 kJ/kg\n",
        "Density= 1.1840 kg/m3\n",
        "Viscoisty= 0.0173 mN-s/m2\n",
        "Heat Capacity= 1.0100 kJ/kg-C\n",
        "Thermal Conductivity= 0.0247 W/m-C\n",
        "Mole Weight= 28.95\n",
        "\n",
        "Liquid Phase Model: APRNGL\n",
        "Vapor Phase Model: APRNGL\n",
        "Bulk liquid-liquid properties: VMG mixing rules\n",
        "* Nitrogen (78 vol% / 76 wt%) \n",
        "* Oxygen (21 vol% / 23 wt%) \n",
        "* Argon (1 vol% / 1 wt%) \n",
        "T= 25C\n",
        "Enthalpy= 299.119 kJ/kg\n",
        "Density= 1.1830 kg/m3\n",
        "Viscoisty= 0.0182 mN-s/m2\n",
        "Heat Capacity= 1.0084 kJ/kg-C\n",
        "Thermal Conductivity= 0.0250 W/m-C\n",
        "Mole Weight= 28.93\n",
        "'''"
      ],
      "execution_count": 0,
      "outputs": [
        {
          "output_type": "execute_result",
          "data": {
            "text/plain": [
              "'\\n[HTRI Air Properties]\\n\\nLiquid Phase Model: Advanced Peng-Robinson\\nVapor Phase Model: Advanced Peng-Robinson\\nBulk liquid-liquid properties: VMG mixing rules\\nT= 25C\\nEnthalpy= 297.005 kJ/kg\\nDensity= 1.1840 kg/m3\\nViscoisty= 0.0173 mN-s/m2\\nHeat Capacity= 1.0100 kJ/kg-C\\nThermal Conductivity= 0.0247 W/m-C\\nMole Weight= 28.95\\n\\nLiquid Phase Model: APRNGL\\nVapor Phase Model: APRNGL\\nBulk liquid-liquid properties: VMG mixing rules\\nT= 25C\\nEnthalpy= 297.005 kJ/kg\\nDensity= 1.1840 kg/m3\\nViscoisty= 0.0173 mN-s/m2\\nHeat Capacity= 1.0100 kJ/kg-C\\nThermal Conductivity= 0.0247 W/m-C\\nMole Weight= 28.95\\n\\nLiquid Phase Model: APRNGL\\nVapor Phase Model: APRNGL\\nBulk liquid-liquid properties: VMG mixing rules\\n* Nitrogen (78 vol% / 76 wt%) \\n* Oxygen (21 vol% / 23 wt%) \\n* Argon (1 vol% / 1 wt%) \\nT= 25C\\nEnthalpy= 299.119 kJ/kg\\nDensity= 1.1830 kg/m3\\nViscoisty= 0.0182 mN-s/m2\\nHeat Capacity= 1.0084 kJ/kg-C\\nThermal Conductivity= 0.0250 W/m-C\\nMole Weight= 28.93\\n'"
            ]
          },
          "metadata": {
            "tags": []
          },
          "execution_count": 1
        }
      ]
    },
    {
      "cell_type": "code",
      "metadata": {
        "id": "tOEREmYD1Weh",
        "colab_type": "code",
        "outputId": "e224a384-18dd-427b-b9ff-59090f223fe1",
        "colab": {
          "base_uri": "https://localhost:8080/",
          "height": 102
        }
      },
      "source": [
        "W = 0.009882\n",
        "Air_Percentage = 1 / (1+ W)\n",
        "Water_Percentage =  W / (1+W)\n",
        "N2_Percentage = Air_Percentage *0.76\n",
        "O2_Percentage = Air_Percentage * 0.23\n",
        "Ar_Percentage = Air_Percentage * 0.01\n",
        "# N2:O2:Ar = 76:23:1\n",
        "\n",
        "print(\"Water_Percentage :\",Water_Percentage)\n",
        "print(\"N2_Percentage :\",N2_Percentage)\n",
        "print(\"O2_Percentage :\",O2_Percentage)\n",
        "print(\"Ar_Percentage :\",Ar_Percentage)\n",
        "print(\"Percentage ChecK :\",Water_Percentage+N2_Percentage+O2_Percentage+Ar_Percentage)"
      ],
      "execution_count": 0,
      "outputs": [
        {
          "output_type": "stream",
          "text": [
            "Water_Percentage : 0.009785301649103559\n",
            "N2_Percentage : 0.7525631707466813\n",
            "O2_Percentage : 0.2277493806207062\n",
            "Ar_Percentage : 0.009902146983508966\n",
            "Percentage ChecK : 1.0\n"
          ],
          "name": "stdout"
        }
      ]
    },
    {
      "cell_type": "code",
      "metadata": {
        "id": "gSjY9XWA2pqw",
        "colab_type": "code",
        "colab": {}
      },
      "source": [
        "def MoistAirPercentage(W):\n",
        "  Air_Percentage = 1 / (1+ W)\n",
        "  Water_Percentage =  W / (1+W)\n",
        "  N2_Percentage = Air_Percentage *0.76\n",
        "  O2_Percentage = Air_Percentage * 0.23\n",
        "  Ar_Percentage = Air_Percentage * 0.01\n",
        "  print(\"CASE W=\",W)\n",
        "  print(\"Water_Percentage :\",Water_Percentage)\n",
        "  print(\"N2_Percentage :\",N2_Percentage)\n",
        "  print(\"O2_Percentage :\",O2_Percentage)\n",
        "  print(\"Ar_Percentage :\",Ar_Percentage)\n",
        "  print(\"Percentage ChecK :\",Water_Percentage+N2_Percentage+O2_Percentage+Ar_Percentage)\n",
        "  "
      ],
      "execution_count": 0,
      "outputs": []
    },
    {
      "cell_type": "code",
      "metadata": {
        "id": "pW01nmXV26eZ",
        "colab_type": "code",
        "outputId": "8d444e20-3c97-47e0-a8d5-e9fcdba5ea99",
        "colab": {
          "base_uri": "https://localhost:8080/",
          "height": 221
        }
      },
      "source": [
        "MoistAirPercentage(0.009882)\n",
        "MoistAirPercentage(0.0159633)"
      ],
      "execution_count": 0,
      "outputs": [
        {
          "output_type": "stream",
          "text": [
            "CASE W= 0.009882\n",
            "Water_Percentage : 0.009785301649103559\n",
            "N2_Percentage : 0.7525631707466813\n",
            "O2_Percentage : 0.2277493806207062\n",
            "Ar_Percentage : 0.009902146983508966\n",
            "Percentage ChecK : 1.0\n",
            "CASE W= 0.0159633\n",
            "Water_Percentage : 0.01571247701565598\n",
            "N2_Percentage : 0.7480585174681015\n",
            "O2_Percentage : 0.22638613028639915\n",
            "Ar_Percentage : 0.00984287522984344\n",
            "Percentage ChecK : 1.0\n"
          ],
          "name": "stdout"
        }
      ]
    },
    {
      "cell_type": "code",
      "metadata": {
        "id": "f53Uai81WN5P",
        "colab_type": "code",
        "colab": {}
      },
      "source": [
        "'''\n",
        "[Psychrometric Properties]\n",
        "\n",
        "\n",
        "\n",
        "[HTRI Moist Air Properties]\n",
        "\n",
        "Liquid Phase Model: APRNGL\n",
        "Vapor Phase Model: APRNGL\n",
        "Bulk liquid-liquid properties: VMG mixing rules\n",
        "CASE W= 0.009882\n",
        "Water_Percentage : 0.009785301649103559 wt%\n",
        "N2_Percentage : 0.7525631707466813 wt%\n",
        "O2_Percentage : 0.2277493806207062 wt%\n",
        "Ar_Percentage : 0.009902146983508966 wt%\n",
        "T= 25C\n",
        "RH = 50\n",
        "Enthalpy= 301.555  kJ/kg  (PSY SUGAR: 50.298)\n",
        "Density= 1.1762 kg/m3 (PSY SUGAR: 1.16674)\n",
        "Viscoisty= 1.1762 mN-s/m2\n",
        "Heat Capacity= 1.1762 kJ/kg-C\n",
        "Thermal Conductivity= 0.0249 W/m-C\n",
        "Mole Weight= 28.76\n",
        "\n",
        "\n",
        "Liquid Phase Model: APRNGL\n",
        "Vapor Phase Model: APRNGL\n",
        "Bulk liquid-liquid properties: VMG mixing rules\n",
        "CASE W= 0.0159633\n",
        "Water_Percentage : 0.01571247701565598 wt%\n",
        "N2_Percentage : 0.7480585174681015 wt%\n",
        "O2_Percentage : 0.22638613028639915 wt%\n",
        "Ar_Percentage : 0.00984287522984344 wt%\n",
        "T= 25C\n",
        "RH =80\n",
        "Enthalpy= 303.031 kJ/kg (PSY SUGAR: 65.779)\n",
        "Density= 1.1720 kg/m3 (PSY SUGAR: 1.155)\n",
        "Viscoisty= 0.0179 mN-s/m2\n",
        "Heat Capacity= 1.0226 kJ/kg-C\n",
        "Thermal Conductivity= 0.0248 W/m-C\n",
        "Mole Weight= 28.66\n",
        "'''"
      ],
      "execution_count": 0,
      "outputs": []
    }
  ]
}