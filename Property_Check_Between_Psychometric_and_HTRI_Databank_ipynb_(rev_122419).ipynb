{
  "nbformat": 4,
  "nbformat_minor": 0,
  "metadata": {
    "colab": {
      "name": "Property Check Between Psychometric and HTRI Databank.ipynb (rev.122419)",
      "provenance": [],
      "include_colab_link": true
    },
    "kernelspec": {
      "name": "python3",
      "display_name": "Python 3"
    }
  },
  "cells": [
    {
      "cell_type": "markdown",
      "metadata": {
        "id": "view-in-github",
        "colab_type": "text"
      },
      "source": [
        "<a href=\"https://colab.research.google.com/github/BingHungLee/Heat_Transfer/blob/master/Property_Check_Between_Psychometric_and_HTRI_Databank_ipynb_(rev_122419).ipynb\" target=\"_parent\"><img src=\"https://colab.research.google.com/assets/colab-badge.svg\" alt=\"Open In Colab\"/></a>"
      ]
    },
    {
      "cell_type": "code",
      "metadata": {
        "id": "3nUsLeSNRhZt",
        "colab_type": "code",
        "outputId": "3a3a9918-33ee-417b-8067-79c30a6fa1b4",
        "colab": {
          "base_uri": "https://localhost:8080/",
          "height": 54
        }
      },
      "source": [
        "'''\n",
        "[CCWANG TEXTBOOK]\n",
        "  Tdry = 27 C \n",
        "  Twet = 19.5 C\n",
        "  RH = 0.5(50%)\n",
        "  Tdew = 15.64 C\n",
        "  W = 0.0110835 kg/kg-dry-air\n",
        "  rho = 1.176 kg/m3\n",
        "  i = 55260.2 j/kg\n",
        "  Cp = 1007 j/kg.K\n",
        "  Visc = 1.86594*10^-5 N.s/m2\n",
        "  Pr = 0.708\n",
        "\n",
        "[The Sugar Engineers]\n",
        "  Tdw = 25 C\n",
        "  RH = 0.8\n",
        "  Twb = 22.35 C\n",
        "  Tdp = 21.32 C\n",
        "  W = 0.015963 kg/kg-da\n",
        "  h = 65.78 kJ/kg\n",
        "  v = 0.86538 m3/kg\n",
        "\n",
        "  Tdw = 25 C\n",
        "  RH = 0.5\n",
        "  Twb = 17.82 C\n",
        "  Tdp = 13.89 C\n",
        "  W = 0.0098820 kg/kg-da\n",
        "  h = 50.2985 kJ/kg\n",
        "  v = 0.85708 m3/kg\n",
        "\n",
        "  Tdw = 50 C\n",
        "  RH = 0.128\n",
        "  Twb = 24.887 C\n",
        "  Tdp = 13.8597 C\n",
        "  W = 0.009857 kg/kg-da\n",
        "  h = 75.7982 kJ/kg\n",
        "  v = 0.9284 m3/kg\n",
        "\n",
        "[HTRI Databank]\n",
        "  Liquid Phase Model: APR\n",
        "  Vapor Phase Model: APR\n",
        "  Bulk liquid-liquid properties: VMG mixing rules\n",
        "  Composition Based: Mass \n",
        "  \n",
        "  W = 0.015963 kg/kg-da (da:0.984288 ; water:0.015712) @25C/RH80\n",
        "    Enthalpy: 300.967 (kJ/kg)\n",
        "    Density: 1.1730 (kg/m3)\n",
        "  W = 0.0098820 kg/kg-da (da:0.990215 ; water:0.009785) @25C/RH50\n",
        "    Enthalpy: 299.473 (kJ/kg)\n",
        "    Density: 1.1771 (kg/m3)\n",
        "  W = 0.009857 kg/kg-da (da:0.990239 ; water:0.009761) @50C/RH12.8\n",
        "    Enthalpy: 324.960 (kJ/kg)\n",
        "    Density: 1.0858 (kg/m3)\n",
        "'''"
      ],
      "execution_count": 12,
      "outputs": [
        {
          "output_type": "execute_result",
          "data": {
            "text/plain": [
              "'\\n[CCWANG TEXTBOOK]\\n  Tdry = 27 C \\n  Twet = 19.5 C\\n  RH = 0.5(50%)\\n  Tdew = 15.64 C\\n  W = 0.0110835 kg/kg-dry-air\\n  rho = 1.176 kg/m3\\n  i = 55260.2 j/kg\\n  Cp = 1007 j/kg.K\\n  Visc = 1.86594*10^-5 N.s/m2\\n  Pr = 0.708\\n\\n[The Sugar Engineers]\\n  Tdw = 25 C\\n  RH = 0.8\\n  Twb = 22.35 C\\n  Tdp = 21.32 C\\n  W = 0.015963 kg/kg-da\\n  h = 65.78 kJ/kg\\n  v = 0.86538 m3/kg\\n\\n  Tdw = 25 C\\n  RH = 0.5\\n  Twb = 17.82 C\\n  Tdp = 13.89 C\\n  W = 0.0098820 kg/kg-da\\n  h = 50.2985 kJ/kg\\n  v = 0.85708 m3/kg\\n\\n  Tdw = 50 C\\n  RH = 0.128\\n  Twb = 24.887 C\\n  Tdp = 13.8597 C\\n  W = 0.009857 kg/kg-da\\n  h = 75.7982 kJ/kg\\n  v = 0.9284 m3/kg\\n\\n[HTRI Databank]\\n  Liquid Phase Model: APR\\n  Vapor Phase Model: APR\\n  Bulk liquid-liquid properties: VMG mixing rules\\n  Composition Based: Mass \\n  \\n  W = 0.015963 kg/kg-da (da:0.984288 ; water:0.015712) @25C/RH80\\n    Enthalpy: 300.967 (kJ/kg)\\n    Density: 1.1730 (kg/m3)\\n  W = 0.0098820 kg/kg-da (da:0.990215 ; water:0.009785) @25C/RH50\\n    Enthalpy: 299.473 (kJ/kg)\\n    Density: 1.1771 (kg/m3)\\n  W = 0.009857 kg/kg-da (da:0.990239 ; water:0.009761) @50C/RH12.8\\n    Enthalpy: 324.960 (kJ/kg)\\n    Density: 1.0858 (kg/m3)\\n'"
            ]
          },
          "metadata": {
            "tags": []
          },
          "execution_count": 12
        }
      ]
    },
    {
      "cell_type": "code",
      "metadata": {
        "id": "x-eZoQWaTI8N",
        "colab_type": "code",
        "outputId": "0856cf53-37c4-4412-8bcd-a3fbc5b1d607",
        "colab": {
          "base_uri": "https://localhost:8080/",
          "height": 34
        }
      },
      "source": [
        "pip install CoolProp"
      ],
      "execution_count": 13,
      "outputs": [
        {
          "output_type": "stream",
          "text": [
            "Requirement already satisfied: CoolProp in /usr/local/lib/python3.6/dist-packages (6.3.0)\n"
          ],
          "name": "stdout"
        }
      ]
    },
    {
      "cell_type": "code",
      "metadata": {
        "id": "6l_GxfU8TZTa",
        "colab_type": "code",
        "colab": {}
      },
      "source": [
        "from __future__ import print_function\n",
        "from CoolProp import AbstractState\n",
        "from CoolProp.CoolProp import PhaseSI, PropsSI, get_global_param_string\n",
        "import CoolProp.CoolProp as CoolProp\n",
        "from CoolProp.HumidAirProp import HAPropsSI\n",
        "from math import sin"
      ],
      "execution_count": 0,
      "outputs": []
    },
    {
      "cell_type": "code",
      "metadata": {
        "id": "K3lDnmasTghT",
        "colab_type": "code",
        "outputId": "01393733-44ba-4720-ab11-d67dce100b4f",
        "colab": {
          "base_uri": "https://localhost:8080/",
          "height": 187
        }
      },
      "source": [
        "# Humid Air Properties\n",
        "# Reference: http://www.coolprop.org/fluid_properties/HumidAir.html\n",
        "print(\"*********** HUMID AIR PROPERTIES *****************\")\n",
        "print(\"[W] Humidity ratio of 50% rel. hum. air at 300 K, 101325 Pa:\", HAPropsSI(\"W\", \"T\", (27+273.15), \"P\", 101325, \"R\", 0.5), \"kg_w/kg_da\")\n",
        "print(\"[RH] Relative humidity from last calculation:\", HAPropsSI(\"R\", \"T\", (27+273.15), \"P\", 101325, \"W\", HAPropsSI(\"W\", \"T\", 300, \"P\", 101325, \"R\", 0.5)), \"(fractional)\")\n",
        "print(\"[i] Enthalpy of moist air:\", HAPropsSI('H','T',(27+273.15),'P',101325,'R',0.5), \"J/kg dry air\")\n",
        "print(\"[Vha] Mixture volume per unit humid air:\", HAPropsSI('Vha','T',(27+273.15),'P',101325,'R',0.5), \"m 3 /kg humid air\")\n",
        "print(\"[Vda] Mixture volume per unit dry air:\", HAPropsSI('Vda','T',(27+273.15),'P',101325,'R',0.5), \"m 3 /kg dry air\")\n",
        "print(\"[Visc] Mixture viscosity:\", HAPropsSI('Visc','T',(27+273.15),'P',101325,'R',0.5), \"Pa-s\")\n",
        "print(\"[Tdp] Dew-Point Temperature:\", HAPropsSI('Tdp','T',(27+273.15),'P',101325,'R',0.5), \"K\")\n",
        "print(\"[cp] Mixture specific heat per unit dry air:\", HAPropsSI('cp','T',(27+273.15),'P',101325,'R',0.5), \"J/kg dry air/K\")\n",
        "print(\"[Twb] Wet-Bulb Temperature:\", HAPropsSI('Twb','T',(27+273.15),'P',101325,'R',0.5), \"K\")"
      ],
      "execution_count": 15,
      "outputs": [
        {
          "output_type": "stream",
          "text": [
            "*********** HUMID AIR PROPERTIES *****************\n",
            "[W] Humidity ratio of 50% rel. hum. air at 300 K, 101325 Pa: 0.011195553880081298 kg_w/kg_da\n",
            "[RH] Relative humidity from last calculation: 0.49561115885190904 (fractional)\n",
            "[i] Enthalpy of moist air: 55710.86035600604 J/kg dry air\n",
            "[Vha] Mixture volume per unit humid air: 0.8557081988397269 m 3 /kg humid air\n",
            "[Vda] Mixture volume per unit dry air: 0.8652883260854642 m 3 /kg dry air\n",
            "[Visc] Mixture viscosity: 1.8442317457331277e-05 Pa-s\n",
            "[Tdp] Dew-Point Temperature: 288.8514891717283 K\n",
            "[cp] Mixture specific heat per unit dry air: 1027.4809083820514 J/kg dry air/K\n",
            "[Twb] Wet-Bulb Temperature: 292.6784866783496 K\n"
          ],
          "name": "stdout"
        }
      ]
    },
    {
      "cell_type": "code",
      "metadata": {
        "id": "4JDf5yB4VC2p",
        "colab_type": "code",
        "colab": {}
      },
      "source": [
        ""
      ],
      "execution_count": 0,
      "outputs": []
    }
  ]
}