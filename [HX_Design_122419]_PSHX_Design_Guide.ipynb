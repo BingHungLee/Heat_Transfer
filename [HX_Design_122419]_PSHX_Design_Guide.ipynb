{
  "nbformat": 4,
  "nbformat_minor": 0,
  "metadata": {
    "colab": {
      "name": "[HX Design_122419] PSHX Design Guide.ipynb",
      "provenance": [],
      "include_colab_link": true
    },
    "kernelspec": {
      "name": "python3",
      "display_name": "Python 3"
    }
  },
  "cells": [
    {
      "cell_type": "markdown",
      "metadata": {
        "id": "view-in-github",
        "colab_type": "text"
      },
      "source": [
        "<a href=\"https://colab.research.google.com/github/BingHungLee/Heat_Transfer/blob/master/%5BHX_Design_122419%5D_PSHX_Design_Guide.ipynb\" target=\"_parent\"><img src=\"https://colab.research.google.com/assets/colab-badge.svg\" alt=\"Open In Colab\"/></a>"
      ]
    },
    {
      "cell_type": "markdown",
      "metadata": {
        "id": "Fi6sHqIODVFJ",
        "colab_type": "text"
      },
      "source": [
        "\n",
        "Design Guide of Plate and Shell Heat Exchanger\n",
        "*   For SRP40, the plate thickness is 0.8mm, the total extend height on both side is 2.2mm. the plate OD for SRP 40 is 440 mm.\n",
        "\n",
        "[GESMEX] Components of PSHX\n",
        "1.   Flow Director\n",
        "2.   Bottom Plate\n",
        "3.   Bottom Disc\n",
        "4.   Top Disc\n",
        "5.   Jacket\n",
        "6.   Girth Flange\n",
        "7.   Gasket\n",
        "8.   Blind Flange\n",
        "9.   Shell Side Inlet\n",
        "10.  Shell Side Outlet\n",
        "11.  Plate Side Inlet\n",
        "12.  Plate Side Outlet\n",
        "13.  Stud Bolt\n",
        "14.  Plate Pack\n",
        "\n",
        "[GESMEX] Types of PSHX\n",
        "1. Fully Welded (gasket free)\n",
        "2. Accessible from one end (shell side inspection available)\n",
        "3. Accessible from both ends\n",
        "\n",
        "[GESMEX] Plates Circuits\n",
        "1. Inlet and Outlet on both end faces (For large volumetric flows at the plate side)\n",
        "2. Palte side deflection\n",
        "3. Shell and plate side deflection\n",
        "\n",
        "[GESMEX] Flow Directions\n",
        "1. Counter Flow\n",
        "2. Cross Flow\n",
        "3. Parallel Flow \n",
        "\n",
        "[GESMEX] Different Corrugation Patterns (H,L and G)\n",
        "\n",
        "U value among PHE, PSHX and STHX: 100:85:20-30\n",
        "\n",
        "[GESMEX] PSHX Dimensions (L: 150-240mm)\n",
        "* XPS50 (Shell side nozzle: 3/4\"-4\" ; Plate side nozzle: 2\"; Plate OD: 360mm)\n",
        "* XPS100 (Shell side nozzle: 1\"-10\" ; Plate side nozzle: 4\"; Plate OD: 610mm)\n",
        "* XPS150 (Shell side nozzle: 2\"-14\" ; Plate side nozzle: 6\"; Plate OD: 890mm)\n",
        "* XPS200 (Shell side nozzle: 2\"-28\" ; Plate side nozzle: 8\"; Plate OD: 1100mm)\n",
        "* XPS300 (Shell side nozzle: 2\"-24\" ; Plate side nozzle: 12\"; Plate OD: 1400mm)\n",
        "\n",
        "[GESMEX] Operating Parameter from Gesmex:\n",
        "* Operating pressure: -1 ~ 400 bar(g)\n",
        "* Operating temperature: -200 ~ 550C\n",
        "* Dynamically Viscosity: - 8000 mPa.s\n",
        "* The plate thickness from Gesmex can be 0.6-2.5mm (Pressing capabilities)\n",
        "* Gesemx can make sure that the deep welded by laser is more than 3.5 times of plate thickness.\n",
        "\n"
      ]
    },
    {
      "cell_type": "code",
      "metadata": {
        "id": "Zv8PLilXHfiw",
        "colab_type": "code",
        "colab": {}
      },
      "source": [
        ""
      ],
      "execution_count": 0,
      "outputs": []
    }
  ]
}