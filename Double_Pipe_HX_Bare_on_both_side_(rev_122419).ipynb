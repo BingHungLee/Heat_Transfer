{
  "nbformat": 4,
  "nbformat_minor": 0,
  "metadata": {
    "colab": {
      "name": "Double Pipe HX Bare on both side (rev.122419).ipynb",
      "provenance": [],
      "collapsed_sections": [],
      "include_colab_link": true
    },
    "kernelspec": {
      "name": "python3",
      "display_name": "Python 3"
    }
  },
  "cells": [
    {
      "cell_type": "markdown",
      "metadata": {
        "id": "view-in-github",
        "colab_type": "text"
      },
      "source": [
        "<a href=\"https://colab.research.google.com/github/BingHungLee/Heat_Transfer/blob/master/Double_Pipe_HX_Bare_on_both_side_(rev_122419).ipynb\" target=\"_parent\"><img src=\"https://colab.research.google.com/assets/colab-badge.svg\" alt=\"Open In Colab\"/></a>"
      ]
    },
    {
      "cell_type": "code",
      "metadata": {
        "id": "PdLdoaiYkXYF",
        "colab_type": "code",
        "colab": {}
      },
      "source": [
        "'''\n",
        "Pipe_Out\n",
        "  Fluid: Oil\n",
        "  M_dot: 1 kg/s\n",
        "  T_in: 370K\n",
        "  T_out: 340K\n",
        "  do = 0.0483 m\n",
        "  di = 0.0409 m\n",
        "\n",
        "Pipe_In\n",
        "  Fluid: Water\n",
        "  M_dot: 0.767 kg/s\n",
        "  T_in: 303K\n",
        "  Do = 0.089 m\n",
        "  Di = 0.075 m \n",
        "\n",
        "Pipe Material\n",
        "  C ~ 0.5%\n",
        "  kw = 53 W/m.K\n",
        "'''\n",
        "\n",
        "Oil_m_dot = 1\n",
        "Oil_Tin = 370\n",
        "Oil_Tout = 340\n",
        "Oil_Do = 0.089\n",
        "Oil_Di = 0.075\n",
        "Oil_visc = 0.030233\n",
        "Oil_Pr = 472.5\n",
        "Oil_k = 0.1375\n",
        "Cpoil_avg = (2200+2080)/2 #J/kg.K\n",
        "\n",
        "Water_m_dot = 0.767\n",
        "Water_Tin = 303\n",
        "Water_do = 0.0483\n",
        "Water_di = 0.04094\n",
        "Water_visc = 0.000654\n",
        "Water_Pr = 4.33\n",
        "Water_k = 0.618\n",
        "Cpwater_avg = 4180\n",
        "\n",
        "Material_kw = 53"
      ],
      "execution_count": 0,
      "outputs": []
    },
    {
      "cell_type": "code",
      "metadata": {
        "id": "0LcG8d73mV-9",
        "colab_type": "code",
        "colab": {}
      },
      "source": [
        "import math\n",
        "\n",
        "def Reynold(G,di,visc):\n",
        "  return G*di/visc\n",
        "\n",
        "def Across_Solid(di):\n",
        "  return math.pi * math.pow(di,2)/4\n",
        "\n",
        "def Across_Donut(Di,do):\n",
        "  return math.pi/4*(math.pow(Di,2)-math.pow(do,2))  \n",
        "\n",
        "#[Gnielinski]  \n",
        "def hG(Re,Pr,k,di):\n",
        "  f = math.pow(1.58*math.log(Re)-3.28,-2)\n",
        "  Nu = ((f/2)*(Re-1000)*Pr)/(1.07+12.7*math.pow(f/2,0.5)*(math.pow(Pr,2/3)-1))\n",
        "  return k*Nu/di\n",
        "\n",
        "#[Taborek 1998 - 2000<Re<8000]\n",
        "\n",
        "#[Taborek 1998 - Re<2000]\n",
        "\n",
        "def hlam(Di,do,Re,Pr,Dh,L,k):\n",
        "  Nu = 3.66+1.2*math.pow(Di/do,-0.8)+(1+0.14*math.pow(Di/do,-0.5))*((0.19*math.pow(Re*Pr*Dh/L,0.8))/(1.07+0.117*math.pow(Re*Pr*Dh/L,0.467)))\n",
        "  return k*Nu/Dh\n",
        "\n",
        "def LMTD(Thi,Tho,Tci,Tco):\n",
        "  T1 = Tho-Tci\n",
        "  T2 = Thi-Tco\n",
        "  return (T1-T2)/math.log(T1/T2)\n",
        "\n",
        "def Uvalue(ni,hi,di,no,ho,do,kw):\n",
        "  return math.pow(do/(ni*hi*di)+1/(no*ho)+do*math.log(do/di)/(2*kw),-1)\n",
        "  "
      ],
      "execution_count": 0,
      "outputs": []
    },
    {
      "cell_type": "code",
      "metadata": {
        "id": "IyynRs3dyCQ0",
        "colab_type": "code",
        "colab": {
          "base_uri": "https://localhost:8080/",
          "height": 204
        },
        "outputId": "aa2e3bbb-7d17-4f09-88d1-a5a3afc4963a"
      },
      "source": [
        "Qtotal = Oil_m_dot * Cpoil_avg * (Oil_Tin-Oil_Tout)\n",
        "Water_Tout = Water_Tin + Qtotal/(Water_m_dot*Cpwater_avg)\n",
        "\n",
        "#Pipe Inside\n",
        "Aci=Across_Solid(Water_di)\n",
        "Rei=Reynold(Water_m_dot/Aci,Water_di,Water_visc)\n",
        "hi = hG(Rei,Water_Pr,Water_k,Water_di)\n",
        "\n",
        "print(\"Aci :\",Aci)\n",
        "print(\"Rei :\",Rei)\n",
        "print(\"hi :\",hi)\n",
        "\n",
        "#Pipe Outside\n",
        "Aco=Across_Donut(Oil_Di,Water_do)\n",
        "Dh= Oil_Di-Water_do\n",
        "Reo=Reynold(Oil_m_dot/Aco,Dh,Oil_visc)\n",
        "L = 357.27\n",
        "hoil=hlam(Oil_Di,Water_do,Reo,Oil_Pr,Dh,L,Oil_k)\n",
        "LMTD_ = LMTD(Oil_Tin,Oil_Tout,Water_Tin,Water_Tout)\n",
        "U_ = Uvalue(1,hi,Water_di,1,hoil,Water_do,Material_kw)\n",
        "\n",
        "print(\"Aco :\",Aco)\n",
        "print(\"Dh :\",Dh)\n",
        "print(\"Reo :\",Reo)\n",
        "print(\"hoil :\",hoil)\n",
        "print(\"LMTD_ :\",LMTD_)\n",
        "print(\"U_ :\",U_)\n",
        "\n",
        "#Check\n",
        "Acheck = Qtotal/U_/LMTD_\n",
        "Lcheck = Acheck/math.pi/Water_do\n",
        "\n",
        "print(\"Lcheck\",Lcheck)\n",
        "print(\"Lguess\",L)"
      ],
      "execution_count": 39,
      "outputs": [
        {
          "output_type": "stream",
          "text": [
            "Aci : 0.0013163929811405833\n",
            "Rei : 36473.70623721257\n",
            "hi : 2989.005809391422\n",
            "Aco : 0.002585617147702373\n",
            "Dh : 0.026699999999999995\n",
            "Reo : 341.5590508030674\n",
            "hoil : 28.71808388238451\n",
            "LMTD_ : 41.78946571358157\n",
            "U_ : 28.33559450909162\n",
            "Lcheck 357.30482177247467\n",
            "Lguess 357.27\n"
          ],
          "name": "stdout"
        }
      ]
    },
    {
      "cell_type": "code",
      "metadata": {
        "id": "Ri1GtIOc0Clb",
        "colab_type": "code",
        "colab": {}
      },
      "source": [
        ""
      ],
      "execution_count": 0,
      "outputs": []
    }
  ]
}