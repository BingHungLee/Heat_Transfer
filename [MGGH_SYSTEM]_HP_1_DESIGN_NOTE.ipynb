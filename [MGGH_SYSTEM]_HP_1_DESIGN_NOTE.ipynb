{
  "nbformat": 4,
  "nbformat_minor": 0,
  "metadata": {
    "colab": {
      "name": "[MGGH_SYSTEM] HP#1_DESIGN_NOTE.ipynb",
      "provenance": [],
      "collapsed_sections": [],
      "include_colab_link": true
    },
    "kernelspec": {
      "name": "python3",
      "display_name": "Python 3"
    }
  },
  "cells": [
    {
      "cell_type": "markdown",
      "metadata": {
        "id": "view-in-github",
        "colab_type": "text"
      },
      "source": [
        "<a href=\"https://colab.research.google.com/github/BingHungLee/Heat_Transfer/blob/master/%5BMGGH_SYSTEM%5D_HP_1_DESIGN_NOTE.ipynb\" target=\"_parent\"><img src=\"https://colab.research.google.com/assets/colab-badge.svg\" alt=\"Open In Colab\"/></a>"
      ]
    },
    {
      "cell_type": "code",
      "metadata": {
        "id": "-GhD7p-itar3",
        "colab_type": "code",
        "outputId": "edad37ee-5cff-472c-a36e-71eb1b17eb2d",
        "colab": {
          "base_uri": "https://localhost:8080/",
          "height": 102
        }
      },
      "source": [
        "!pip install CoolProp\n",
        "from CoolProp.HumidAirProp import HAPropsSI\n",
        "from CoolProp.CoolProp import PropsSI"
      ],
      "execution_count": 1,
      "outputs": [
        {
          "output_type": "stream",
          "text": [
            "Collecting CoolProp\n",
            "\u001b[?25l  Downloading https://files.pythonhosted.org/packages/03/d8/6cbeeb68464c7811a9d48f800618746d3415bf84d545add04eb4290f83c5/CoolProp-6.3.0-cp36-cp36m-manylinux1_x86_64.whl (4.0MB)\n",
            "\u001b[K     |████████████████████████████████| 4.0MB 2.8MB/s \n",
            "\u001b[?25hInstalling collected packages: CoolProp\n",
            "Successfully installed CoolProp-6.3.0\n"
          ],
          "name": "stdout"
        }
      ]
    },
    {
      "cell_type": "code",
      "metadata": {
        "id": "Jl5yJ5xrteFj",
        "colab_type": "code",
        "colab": {}
      },
      "source": [
        "#[Dry Air and Water Properties]\n",
        "class PROP():\n",
        "\n",
        "  Enthalpy = 0.0        #[J/kg] \n",
        "  Desnity =0.0          #[kg/m^3]\n",
        "  Viscosity = 0.0       #[Pa s]\n",
        "  Heat_Capacity = 0.0   #[J/kg/K]\n",
        "  Thermal_Cond = 0.0    #[W/m/K]\n",
        "\n",
        "  def __init__(self,T,P,Fluid):\n",
        "    self.Tdb = T+273.15\n",
        "    self.P = P \n",
        "    self.Enthalpy = PropsSI(\"H\", \"P\", P, \"T\", self.Tdb, Fluid)/1000\n",
        "    self.Desnity = PropsSI(\"D\", \"P\", P, \"T\", self.Tdb, Fluid)\n",
        "    self.Viscosity = PropsSI(\"viscosity\", \"P\", P, \"T\", self.Tdb, Fluid)*1000\n",
        "    self.Heat_Capacity = PropsSI(\"Cpmass\", \"P\", P, \"T\", self.Tdb, Fluid)/1000\n",
        "    self.Thermal_Cond = PropsSI(\"conductivity\", \"P\", P, \"T\", self.Tdb, Fluid)\n",
        "\n",
        "  def Print_Prop(self):\n",
        "    print('Enthalpy',self.Enthalpy, \"kJ/kg\")\n",
        "    print('Desnity',self.Desnity, \"kg/m^3\")\n",
        "    print(\"Viscosity\",self.Viscosity, \"mN-s/m2\")\n",
        "    print('Heat_Capacity',self.Heat_Capacity, \"kJ/kg-C\")\n",
        "    print('Thermal_Cond',self.Thermal_Cond, \"W/m-C\")\n",
        "    print()"
      ],
      "execution_count": 0,
      "outputs": []
    },
    {
      "cell_type": "markdown",
      "metadata": {
        "id": "DY8kHgAV4zc8",
        "colab_type": "text"
      },
      "source": [
        "# HP#1 原設計條件 取熱器"
      ]
    },
    {
      "cell_type": "code",
      "metadata": {
        "id": "NVJ6tIMf4453",
        "colab_type": "code",
        "colab": {
          "base_uri": "https://localhost:8080/",
          "height": 119
        },
        "outputId": "0ce66c87-db93-4464-aa46-8fda5fe494c8"
      },
      "source": [
        "# 設計HP#1 取熱器煙氣量 534600 Nm3/h 轉 kg/s \n",
        "  # DRY AIR\n",
        "  print(\"---------- Property As Dry Air ----------\")\n",
        "  # Density of dry air(kg/Nm3): 1.29227\n",
        "  FR_da = 534600*1.29227/3600\n",
        "  print(\"FR_da\", FR_da, \"kg/s\")\n",
        "  TA1 = 150\n",
        "  TA2 = 105\n",
        "  StateA1 = PROP(TA1,101325,\"air\")\n",
        "  StateA2 = PROP(TA2,101325,\"air\")\n",
        "  print(\"Design Cooler Dry Air Q\",FR_da*abs(StateA1.Enthalpy-StateA2.Enthalpy),\"kW\")\n",
        "\n",
        "# 設計HP#1 取熱器水量 195 t/h \n",
        "  # WATER\n",
        "  print(\"---------- Property As Water ----------\")\n",
        "  FR_w = 195*1000/3600\n",
        "  print(\"FR_w\", FR_w, \"kg/s\")\n",
        "  TW1 = 75\n",
        "  TW2 = 115\n",
        "  StateW1 = PROP(TW1,300000,\"water\")\n",
        "  StateW2 = PROP(TW2,300000,\"water\")\n",
        "  print(\"Design Cooler Water Q\",FR_w*abs(StateW1.Enthalpy-StateW2.Enthalpy),\"kW\")\n"
      ],
      "execution_count": 22,
      "outputs": [
        {
          "output_type": "stream",
          "text": [
            "---------- Property As Dry Air ----------\n",
            "FR_da 191.902095 kg/s\n",
            "Design Cooler Dry Air Q 8759.006041444009 kW\n",
            "---------- Property As Water ----------\n",
            "FR_w 54.166666666666664 kg/s\n",
            "Design Cooler Water Q 9124.161163971838 kW\n"
          ],
          "name": "stdout"
        }
      ]
    },
    {
      "cell_type": "markdown",
      "metadata": {
        "id": "E6aIzHSs5_-F",
        "colab_type": "text"
      },
      "source": [
        "# HP#1 原設計條件 再熱器"
      ]
    },
    {
      "cell_type": "code",
      "metadata": {
        "id": "qO75gI7i6ENd",
        "colab_type": "code",
        "colab": {
          "base_uri": "https://localhost:8080/",
          "height": 119
        },
        "outputId": "f5207898-06c1-46c6-c488-c7e3082f90a8"
      },
      "source": [
        "# 設計HP#1 再熱器煙氣量 560046 Nm3/h 轉 kg/s\n",
        "  # DRY AIR\n",
        "  print(\"---------- Property As Dry Air ----------\")\n",
        "  # Density of dry air(kg/Nm3): 1.29227\n",
        "  FR_da = 560046*1.29227/3600\n",
        "  print(\"FR_da\", FR_da, \"kg/s\")\n",
        "  TA1 = 55\n",
        "  TA2 = 90\n",
        "  StateA1 = PROP(TA1,101325,\"air\")\n",
        "  StateA2 = PROP(TA2,101325,\"air\")\n",
        "  print(\"Design Cooler Dry Air Q\",FR_da*abs(StateA1.Enthalpy-StateA2.Enthalpy),\"kW\")\n",
        "\n",
        "# 設計HP#1 取熱器水量 195 t/h \n",
        "  # WATER\n",
        "  print(\"---------- Property As Water ----------\")\n",
        "  FR_w = 195*1000/3600\n",
        "  print(\"FR_w\", FR_w, \"kg/s\")\n",
        "  TW1 = 114.5\n",
        "  TW2 = 80.9\n",
        "  StateW1 = PROP(TW1,300000,\"water\")\n",
        "  StateW2 = PROP(TW2,300000,\"water\")\n",
        "  print(\"Design Cooler Water Q\",FR_w*abs(StateW1.Enthalpy-StateW2.Enthalpy),\"kW\")"
      ],
      "execution_count": 23,
      "outputs": [
        {
          "output_type": "stream",
          "text": [
            "---------- Property As Dry Air ----------\n",
            "FR_da 201.03629011666666 kg/s\n",
            "Design Cooler Dry Air Q 7099.062902781411 kW\n",
            "---------- Property As Water ----------\n",
            "FR_w 54.166666666666664 kg/s\n",
            "Design Cooler Water Q 7668.866532796981 kW\n"
          ],
          "name": "stdout"
        }
      ]
    },
    {
      "cell_type": "markdown",
      "metadata": {
        "id": "-pa-xyspzN2W",
        "colab_type": "text"
      },
      "source": [
        "# 操作HP#1 循環水量為 149 m3/h，轉換成 ton/h "
      ]
    },
    {
      "cell_type": "code",
      "metadata": {
        "id": "PhPF4vMdtfUk",
        "colab_type": "code",
        "outputId": "8cd2e29a-74a7-4311-9b7b-36efb536512c",
        "colab": {
          "base_uri": "https://localhost:8080/",
          "height": 136
        }
      },
      "source": [
        "StateW = PROP(85.6,300000,\"water\")\n",
        "StateW.Print_Prop()\n",
        "149.0 * 968.3117055144205 /1000"
      ],
      "execution_count": 3,
      "outputs": [
        {
          "output_type": "stream",
          "text": [
            "Enthalpy 358.72510770610853 kJ/kg\n",
            "Desnity 968.3117055144205 kg/m^3\n",
            "Viscosity 0.33075732660653967 mN-s/m2\n",
            "Heat_Capacity 4.200815017052788 kJ/kg-C\n",
            "Thermal_Cond 0.6705206520130683 W/m-C\n",
            "\n"
          ],
          "name": "stdout"
        },
        {
          "output_type": "execute_result",
          "data": {
            "text/plain": [
              "144.27844412164865"
            ]
          },
          "metadata": {
            "tags": []
          },
          "execution_count": 3
        }
      ]
    },
    {
      "cell_type": "markdown",
      "metadata": {
        "id": "WaviDtMJzt_z",
        "colab_type": "text"
      },
      "source": [
        "# 操作HP#1，取熱器(水側)熱平衡 (kW)"
      ]
    },
    {
      "cell_type": "code",
      "metadata": {
        "id": "lIq0KBr4LXqt",
        "colab_type": "code",
        "outputId": "4631c857-17bd-49f3-e9e9-a57e29bae366",
        "colab": {
          "base_uri": "https://localhost:8080/",
          "height": 34
        }
      },
      "source": [
        "StateW1 = PROP(85.6,300000,\"water\")\n",
        "StateW2 = PROP(117.7,300000,\"water\")\n",
        "\n",
        "print(144.3*1000/3600*abs(StateW1.Enthalpy-StateW2.Enthalpy))"
      ],
      "execution_count": 6,
      "outputs": [
        {
          "output_type": "stream",
          "text": [
            "5427.390400130433\n"
          ],
          "name": "stdout"
        }
      ]
    },
    {
      "cell_type": "markdown",
      "metadata": {
        "id": "KHyHUYYozw52",
        "colab_type": "text"
      },
      "source": [
        "# 操作HP#1，再熱器(水側)熱平衡 (kW)"
      ]
    },
    {
      "cell_type": "code",
      "metadata": {
        "id": "-DKcRj8TLrg3",
        "colab_type": "code",
        "outputId": "43f7503c-4e90-4a6b-fb87-412fe644a972",
        "colab": {
          "base_uri": "https://localhost:8080/",
          "height": 34
        }
      },
      "source": [
        "StateW1 = PROP(85.4,300000,\"water\")\n",
        "StateW2 = PROP(117.5,300000,\"water\")\n",
        "\n",
        "print(144.3*1000/3600*abs(StateW1.Enthalpy-StateW2.Enthalpy))"
      ],
      "execution_count": 7,
      "outputs": [
        {
          "output_type": "stream",
          "text": [
            "5427.0809579748875\n"
          ],
          "name": "stdout"
        }
      ]
    },
    {
      "cell_type": "code",
      "metadata": {
        "id": "Hl3KL5JXLyac",
        "colab_type": "code",
        "colab": {}
      },
      "source": [
        ""
      ],
      "execution_count": 0,
      "outputs": []
    }
  ]
}