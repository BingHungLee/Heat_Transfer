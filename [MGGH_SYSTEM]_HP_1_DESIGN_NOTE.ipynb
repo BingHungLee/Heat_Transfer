{
  "nbformat": 4,
  "nbformat_minor": 0,
  "metadata": {
    "colab": {
      "name": "[MGGH_SYSTEM] HP#1_DESIGN_NOTE.ipynb",
      "provenance": [],
      "collapsed_sections": [],
      "include_colab_link": true
    },
    "kernelspec": {
      "name": "python3",
      "display_name": "Python 3"
    }
  },
  "cells": [
    {
      "cell_type": "markdown",
      "metadata": {
        "id": "view-in-github",
        "colab_type": "text"
      },
      "source": [
        "<a href=\"https://colab.research.google.com/github/BingHungLee/Heat_Transfer/blob/master/%5BMGGH_SYSTEM%5D_HP_1_DESIGN_NOTE.ipynb\" target=\"_parent\"><img src=\"https://colab.research.google.com/assets/colab-badge.svg\" alt=\"Open In Colab\"/></a>"
      ]
    },
    {
      "cell_type": "code",
      "metadata": {
        "id": "-GhD7p-itar3",
        "colab_type": "code",
        "outputId": "d6485a66-492e-4f82-a2dc-33f31d502465",
        "colab": {
          "base_uri": "https://localhost:8080/",
          "height": 34
        }
      },
      "source": [
        "!pip install CoolProp\n",
        "from CoolProp.HumidAirProp import HAPropsSI\n",
        "from CoolProp.CoolProp import PropsSI"
      ],
      "execution_count": 23,
      "outputs": [
        {
          "output_type": "stream",
          "text": [
            "Requirement already satisfied: CoolProp in /usr/local/lib/python3.6/dist-packages (6.3.0)\n"
          ],
          "name": "stdout"
        }
      ]
    },
    {
      "cell_type": "code",
      "metadata": {
        "id": "Jl5yJ5xrteFj",
        "colab_type": "code",
        "colab": {}
      },
      "source": [
        "#[Dry Air and Water Properties]\n",
        "class PROP():\n",
        "\n",
        "  Enthalpy = 0.0        #[J/kg] \n",
        "  Desnity =0.0          #[kg/m^3]\n",
        "  Viscosity = 0.0       #[Pa s]\n",
        "  Heat_Capacity = 0.0   #[J/kg/K]\n",
        "  Thermal_Cond = 0.0    #[W/m/K]\n",
        "\n",
        "  def __init__(self,T,P,Fluid):\n",
        "    self.Tdb = T+273.15\n",
        "    self.P = P \n",
        "    self.Enthalpy = PropsSI(\"H\", \"P\", P, \"T\", self.Tdb, Fluid)/1000\n",
        "    self.Desnity = PropsSI(\"D\", \"P\", P, \"T\", self.Tdb, Fluid)\n",
        "    self.Viscosity = PropsSI(\"viscosity\", \"P\", P, \"T\", self.Tdb, Fluid)*1000\n",
        "    self.Heat_Capacity = PropsSI(\"Cpmass\", \"P\", P, \"T\", self.Tdb, Fluid)/1000\n",
        "    self.Thermal_Cond = PropsSI(\"conductivity\", \"P\", P, \"T\", self.Tdb, Fluid)\n",
        "\n",
        "  def Print_Prop(self):\n",
        "    print('Enthalpy',self.Enthalpy, \"kJ/kg\")\n",
        "    print('Desnity',self.Desnity, \"kg/m^3\")\n",
        "    print(\"Viscosity\",self.Viscosity, \"mN-s/m2\")\n",
        "    print('Heat_Capacity',self.Heat_Capacity, \"kJ/kg-C\")\n",
        "    print('Thermal_Cond',self.Thermal_Cond, \"W/m-C\")\n",
        "    print()"
      ],
      "execution_count": 0,
      "outputs": []
    },
    {
      "cell_type": "code",
      "metadata": {
        "id": "pgD5ns178iZa",
        "colab_type": "code",
        "colab": {}
      },
      "source": [
        "#[Moist Air Properties]\n",
        "class HAP():\n",
        "     \n",
        "    Enthalpy = 0.0\n",
        "    Humidity_Ratio = 0.0                    #kg-water/kg-da\n",
        "    Specific_Volume = 0.0                   #m3/kg\n",
        "    Wet_Bulb_Temperature = 0.0\n",
        "    Dew_Point_Temperature = 0.0\n",
        "    Partial_pressure_of_water_vapor = 0.0\n",
        "     \n",
        "    def __init__(self,T,P,RH):\n",
        "        self.Tdb = T+273.15\n",
        "        self.P = P\n",
        "        self.RH = RH\n",
        "\n",
        "        self.Enthalpy = HAPropsSI('H','T',self.Tdb,'P',self.P,'R',self.RH)/1000\n",
        "        self.Humidity_Ratio = HAPropsSI(\"W\", \"T\", self.Tdb, \"P\", self.P, \"R\",self.RH)\n",
        "        self.Specific_Volume = HAPropsSI(\"V\", \"T\", self.Tdb, \"P\",self.P, \"R\",self.RH)\n",
        "        self.Wet_Bulb_Temperature = HAPropsSI(\"Twb\", \"T\", self.Tdb, \"P\", self.P, \"R\",self.RH)-273.15\n",
        "        self.Dew_Point_Temperature = HAPropsSI(\"Tdp\", \"T\", self.Tdb, \"P\", self.P, \"R\",self.RH)-273.15\n",
        "        self.Partial_pressure_of_water_vapor = HAPropsSI(\"P_w\", \"T\", self.Tdb, \"P\", self.P, \"R\",self.RH)\n",
        "\n",
        "    def Print_Prop(self):\n",
        "        print('Enthalpy',self.Enthalpy, \"kJ/kg\")\n",
        "        print('Humidity_Ratio',self.Humidity_Ratio, \"kg-water/kg-da\")\n",
        "        print(\"Specific_Volume\",self.Specific_Volume, \"m3/kg\")\n",
        "        print('Wet_Bulb_Temperature',self.Wet_Bulb_Temperature, \"C\")\n",
        "        print('Dew_Point_Temperature',self.Dew_Point_Temperature, \"C\")\n",
        "        print('Relative_Humidity',self.RH, \"__\")\n",
        "        print()"
      ],
      "execution_count": 0,
      "outputs": []
    },
    {
      "cell_type": "code",
      "metadata": {
        "id": "-JgpvsfJ8lg1",
        "colab_type": "code",
        "colab": {}
      },
      "source": [
        "#[Nm3/hr to kg/s]\n",
        "def FRma(w,mafr):\n",
        "  # w [kg/kg-da]\n",
        "  # mafr [Nm3/hr]\n",
        "  dwa=1.29227*(1/(1+w))+0.80378*(w/(1+w))\n",
        "  return mafr* dwa /3600 # [kg/s]"
      ],
      "execution_count": 0,
      "outputs": []
    },
    {
      "cell_type": "code",
      "metadata": {
        "id": "KMRCMGLPfg9x",
        "colab_type": "code",
        "colab": {}
      },
      "source": [
        "#[V-water/V-ma to kg-water/kg-da]\n",
        "def VVkg(VV):\n",
        "  # VV [%]\n",
        "  return VV*18.016/((100-VV)*28.965)"
      ],
      "execution_count": 0,
      "outputs": []
    },
    {
      "cell_type": "markdown",
      "metadata": {
        "id": "DY8kHgAV4zc8",
        "colab_type": "text"
      },
      "source": [
        "# HP#1 原設計條件 取熱器"
      ]
    },
    {
      "cell_type": "code",
      "metadata": {
        "id": "NVJ6tIMf4453",
        "colab_type": "code",
        "colab": {
          "base_uri": "https://localhost:8080/",
          "height": 153
        },
        "outputId": "58e812cc-e9ba-4d2a-d6e5-25fc1858adf7"
      },
      "source": [
        "# 設計HP#1 取熱器水量 195 t/h \n",
        "  # WATER\n",
        "  print(\"---------- Property As Water ----------\")\n",
        "  TW1 = 75\n",
        "  TW2 = 115\n",
        "  StateW1 = PROP(TW1,300000,\"water\")\n",
        "  StateW2 = PROP(TW2,300000,\"water\")\n",
        "  FR_w = 195*1000/3600\n",
        "  print(\"FR_w\", FR_w, \"kg/s\")\n",
        "  print(\"Design Cooler Water Q\",FR_w*abs(StateW1.Enthalpy-StateW2.Enthalpy),\"kW\")\n",
        "  # NOTE DESIGN HEAT DUTY ON　WATER SIDE IS 9154 kJ/kg [OK]\n",
        "\n",
        "# 設計HP#1 取熱器煙氣量 534600 Nm3/h 轉 kg/s \n",
        "  # DRY AIR\n",
        "  print(\"---------- Property As Dry Air ----------\")\n",
        "  TA1 = 150\n",
        "  TA2 = 105\n",
        "  StateA1 = PROP(TA1,101325,\"air\")\n",
        "  StateA2 = PROP(TA2,101325,\"air\")\n",
        "  # Density of dry air(kg/Nm3): 1.29227\n",
        "  FR_da = 534600*1.29227/3600\n",
        "  print(\"FR_da\", FR_da, \"kg/s\")\n",
        "  print(\"Design Cooler Dry Air Q\",FR_da*abs(StateA1.Enthalpy-StateA2.Enthalpy),\"kW\")\n",
        "\n",
        "  # MOIST AIR\n",
        "  # Assume Design Condition 8.4% (Water Volume/ Moist Air Volume)\n",
        "  '''\n",
        "  Molar mass of dry air = 28.965(kg/kmol)\n",
        "  Molar mass of water = 18.016(kg/kmol)\n",
        "  Density of moist air = (1.29227*91.6+0.80378*8.4)/100 [kg/Nm3]\n",
        "  '''\n",
        "  FR_ma = 534600*(1.29227*91.6+0.80378*8.4)/100/3600 \n",
        "  print(\"FR_ma\", FR_ma, \"kg/s\")\n",
        "\n",
        "  # Mixed Enthalpy of Mixed Properties - CP.PropsSI('D','T',300,'P',101325,'N2[0.78]&O2[0.21]&Ar[0.01]')\n",
        "  '''\n",
        "  StateA1_h = PropsSI('H','T',TA1+273.15,'P',101325,'N2[0.5051]&O2[0.1359]&Ar[0.006476]&Water[0.3524]')\n",
        "  StateA2_h = PropsSI('H','T',TA2+273.15,'P',101325,'N2[0.5051]&O2[0.1359]&Ar[0.006476]&Water[0.3524]')\n",
        "  '''\n",
        "\n",
        "  #HTRI CHECK\n",
        "  '''\n",
        "  HOT SIDE: FLUE GAS\n",
        "    150-105C\n",
        "    Water content 8.4%\n",
        "  COLD SIDE: WATER\n",
        "    75-115C\n",
        "    195 t/hr\n",
        "  Q = 9124 kW\n",
        "\n",
        "  [RESULT]\n",
        "  Q = 9129 kW\n",
        "  FLue Gas Flow Rate = 189.57 kg/s\n",
        "  '''"
      ],
      "execution_count": 65,
      "outputs": [
        {
          "output_type": "stream",
          "text": [
            "---------- Property As Water ----------\n",
            "FR_w 54.166666666666664 kg/s\n",
            "Design Cooler Water Q 9124.161163971838 kW\n",
            "---------- Property As Dry Air ----------\n",
            "FR_da 191.902095 kg/s\n",
            "Design Cooler Dry Air Q 8759.006041444009 kW\n",
            "FR_ma 185.80867074 kg/s\n"
          ],
          "name": "stdout"
        },
        {
          "output_type": "execute_result",
          "data": {
            "text/plain": [
              "'\\nHOT SIDE: FLUE GAS\\n  150-105C\\n  Water content 8.4%\\nCOLD SIDE: WATER\\n  75-115C\\n  195 t/hr\\nQ = 9124 kW\\n\\n[RESULT]\\nQ = 9129 kE\\nFLue Gas Flow Rate = 189.57 kg/s\\n'"
            ]
          },
          "metadata": {
            "tags": []
          },
          "execution_count": 65
        }
      ]
    },
    {
      "cell_type": "markdown",
      "metadata": {
        "id": "E6aIzHSs5_-F",
        "colab_type": "text"
      },
      "source": [
        "# HP#1 原設計條件 再熱器"
      ]
    },
    {
      "cell_type": "code",
      "metadata": {
        "id": "qO75gI7i6ENd",
        "colab_type": "code",
        "colab": {
          "base_uri": "https://localhost:8080/",
          "height": 272
        },
        "outputId": "16b6aad1-c479-456f-844b-2d82c32304c4"
      },
      "source": [
        "# 設計HP#1 取熱器水量 195 t/h \n",
        "  # WATER\n",
        "  print(\"---------- Property As Water ----------\") \n",
        "  TW1 = 114.5\n",
        "  TW2 = 80.9\n",
        "  StateW1 = PROP(TW1,300000,\"water\")\n",
        "  StateW2 = PROP(TW2,300000,\"water\")\n",
        "  FR_w = 195*1000/3600\n",
        "  print(\"FR_w\", FR_w, \"kg/s\")\n",
        "  Qw = FR_w*abs(StateW1.Enthalpy-StateW2.Enthalpy)\n",
        "  print(\"Design Cooler Water Q\",Qw,\"kW\")\n",
        "  # NOTE DESIGN HEAT DUTY ON　WATER SIDE IS 7637.5 kJ/kg [OK]\n",
        "\n",
        "# 設計HP#1 再熱器煙氣量 560046 Nm3/h 轉 kg/s\n",
        "  # DRY AIR\n",
        "  print(\"---------- Property As Dry Air ----------\")\n",
        "  TA1 = 55\n",
        "  TA2 = 90\n",
        "  StateA1 = PROP(TA1,101325,\"air\")\n",
        "  StateA2 = PROP(TA2,101325,\"air\")\n",
        "  # Density of dry air(kg/Nm3): 1.29227\n",
        "  FR_da = 560046*1.29227/3600\n",
        "  print(\"FR_da\", FR_da, \"kg/s\")\n",
        "  print(\"Design Cooler Dry Air Q\",FR_da*abs(StateA1.Enthalpy-StateA2.Enthalpy),\"kW\")\n",
        "\n",
        "  # MOIST AIR\n",
        "  print(\"---------- Property As MOIST AIR @INLET RH = 100 ----------\") \n",
        "  TMA1 = 55\n",
        "  TMA2 = 90\n",
        "  StateMA1 = HAP(TMA1,101325,1)\n",
        "  StateMA2 = HAP(TMA2,101325,HAPropsSI('RH','T',TMA2+273.15,'P',101325,'W',StateMA1.Humidity_Ratio))\n",
        "  FR_ma = FRma(StateMA1.Humidity_Ratio,560046)\n",
        "  # Use dry air flow rate to calculate heat balanced\n",
        "  FR_da = 560046/3600 * 1/(1+StateMA1.Humidity_Ratio)*1.29227\n",
        "  print(\"StateMA2_RH\", HAPropsSI('RH','T',TMA2+273.15,'P',101325,'W',StateMA1.Humidity_Ratio))\n",
        "  print(\"FR_da\", FR_da, \"kg/s\")\n",
        "  print(\"Design Cooler Moist Air Q\",FR_da*abs(StateMA1.Enthalpy-StateMA2.Enthalpy),\"kW\")\n",
        "\n",
        "  # MOIST AIR\n",
        "  print(\"---------- Property As MOIST AIR @INLET RH != 100 ----------\") \n",
        "  TMA1 = 55\n",
        "  TMA2 = 90\n",
        "  Qma_ideal = Qw\n",
        "  \n",
        "  StateMA1_Up = 1\n",
        "  StateMA1_Down =0.01\n",
        "  StateMA1_Iterate = (StateMA1_Up+StateMA1_Down)/2\n",
        "\n",
        "  while 1:\n",
        "    StateMA1 = HAP(TMA1,101325,StateMA1_Iterate)\n",
        "    StateMA2 = HAP(TMA2,101325,HAPropsSI('RH','T',TMA2+273.15,'P',101325,'W',StateMA1.Humidity_Ratio))\n",
        "    FR_ma = FRma(StateMA1.Humidity_Ratio,560046)\n",
        "    # Use dry air flow rate to calculate heat balanced\n",
        "    FR_da = 560046/3600 * 1/(1+StateMA1.Humidity_Ratio)*1.29227\n",
        "    \n",
        "    Qma = FR_da*abs(StateMA1.Enthalpy-StateMA2.Enthalpy)\n",
        "    \n",
        "    if abs(Qma_ideal-Qma) <0.01:\n",
        "      print(\"StateMA1_RH\", StateMA1_Iterate)\n",
        "      print(\"StateMA2_RH\", HAPropsSI('RH','T',TMA2+273.15,'P',101325,'W',StateMA1.Humidity_Ratio))\n",
        "      print(\"FR_da\", FR_da, \"kg/s\")\n",
        "      print(\"Design Cooler Moist Air Q\",Qma,\"kW\")\n",
        "      break\n",
        "    elif (Qma_ideal-Qma) >0.01:\n",
        "      StateMA1_Down = StateMA1_Iterate\n",
        "      StateMA1_Iterate = (StateMA1_Up+StateMA1_Down)/2\n",
        "    else:\n",
        "      StateMA1_Up = StateMA1_Iterate\n",
        "      StateMA1_Iterate = (StateMA1_Up+StateMA1_Down)/2\n",
        "    \n",
        "  #HTRI CHECK\n",
        "  '''\n",
        "  HOT SIDE: WATER\n",
        "    114.5-80.9C\n",
        "    195 t/hr\n",
        "  COLD SIDE: FLUE GAS\n",
        "    55-90C\n",
        "    RH = 100 (Water content 15.56%)\n",
        "   Q = 7669 kW\n",
        "\n",
        "  [RESULT]\n",
        "  Q = 7.8255 kW\n",
        "  FLue Gas Flow Rate = 200.68 kg/s\n",
        "  '''\n"
      ],
      "execution_count": 29,
      "outputs": [
        {
          "output_type": "stream",
          "text": [
            "---------- Property As Water ----------\n",
            "FR_w 54.166666666666664 kg/s\n",
            "Design Cooler Water Q 7668.866532796981 kW\n",
            "---------- Property As Dry Air ----------\n",
            "FR_da 201.03629011666666 kg/s\n",
            "Design Cooler Dry Air Q 7099.062902781411 kW\n",
            "---------- Property As MOIST AIR @INLET RH = 100 ----------\n",
            "StateMA2_RH 0.22492332464755546\n",
            "FR_da 180.24887338522117 kg/s\n",
            "Design Cooler Moist Air Q 7768.710074859196 kW\n",
            "---------- Property As MOIST AIR @INLET RH != 100 ----------\n",
            "StateMA1_RH 0.8642556762695311\n",
            "StateMA2_RH 0.19439126005206436\n",
            "FR_da 183.22263329591598 kg/s\n",
            "Design Cooler Moist Air Q 7668.866370065676 kW\n"
          ],
          "name": "stdout"
        }
      ]
    },
    {
      "cell_type": "markdown",
      "metadata": {
        "id": "rG2BYvV4i4W6",
        "colab_type": "text"
      },
      "source": [
        "# HP#1 操作條件 取熱器"
      ]
    },
    {
      "cell_type": "code",
      "metadata": {
        "id": "zWT7kyz-jBq5",
        "colab_type": "code",
        "colab": {
          "base_uri": "https://localhost:8080/",
          "height": 51
        },
        "outputId": "a6a6f8a5-f9aa-4280-a855-e0ec36456e6c"
      },
      "source": [
        "# 操作HP#1 循環水量為 149 m3/h，轉換成 ton/h \n",
        "  StateW = PROP(85.6,300000,\"water\")\n",
        "  #StateW.Print_Prop()\n",
        "  FR_w = 149.0 * 968.3117055144205 /1000\n",
        "  print(\"FR_w\",FR_w,\"t/h\")\n",
        "\n",
        "  StateW1 = PROP(85.6,300000,\"water\")\n",
        "  StateW2 = PROP(117.7,300000,\"water\")\n",
        "  print(FR_w*1000/3600*abs(StateW1.Enthalpy-StateW2.Enthalpy))"
      ],
      "execution_count": 30,
      "outputs": [
        {
          "output_type": "stream",
          "text": [
            "FR_w 144.27844412164865 t/h\n",
            "5426.579643600769\n"
          ],
          "name": "stdout"
        }
      ]
    },
    {
      "cell_type": "markdown",
      "metadata": {
        "id": "Q2tHP6U_i9Iu",
        "colab_type": "text"
      },
      "source": [
        "# HP#1 操作條件 再熱器"
      ]
    },
    {
      "cell_type": "code",
      "metadata": {
        "id": "9lxxL5EhjBTN",
        "colab_type": "code",
        "colab": {
          "base_uri": "https://localhost:8080/",
          "height": 136
        },
        "outputId": "590085d1-92dc-446b-a729-a9b2dba527aa"
      },
      "source": [
        "# 操作HP#1 循環水量為 149 m3/h，轉換成 ton/h\n",
        "  StateW = PROP(85.6,300000,\"water\")\n",
        "  #StateW.Print_Prop()\n",
        "  FR_w = 149.0 * 968.3117055144205 /1000\n",
        "  print(\"FR_w\",FR_w,\"t/h\")\n",
        "\n",
        "  StateW1 = PROP(85.4,300000,\"water\")\n",
        "  StateW2 = PROP(117.5,300000,\"water\")\n",
        "  Qw = FR_w*1000/3600*abs(StateW1.Enthalpy-StateW2.Enthalpy)\n",
        "  print(\"Qw\",Qw,\"kW\")\n",
        "\n",
        "# MOIST AIR\n",
        "  print(\"---------- Property As MOIST AIR @INLET RH = 100 ----------\") \n",
        "  TMA1 = 54.35\n",
        "  TMA2 = 88.8\n",
        "  TMA3 = 83.4\n",
        "  StateMA1 = HAP(TMA1,101325,1)\n",
        "  StateMA2 = HAP(TMA2,101325,HAPropsSI('RH','T',TMA2+273.15,'P',101325,'W',StateMA1.Humidity_Ratio))\n",
        "  StateMA3 = HAP(TMA3,101325,HAPropsSI('RH','T',TMA3+273.15,'P',101325,'W',StateMA1.Humidity_Ratio))\n",
        "  FRma3 = 508239 #[Nm3/hr] \n",
        "  FRma3 = FRma3*1/(1+StateMA1.Humidity_Ratio)*1.29227/3600 #[kg/s]\n",
        "  Qma = FRma3*abs(StateMA1.Enthalpy-StateMA2.Enthalpy) #[kW]\n",
        "  print(\"Qma\",Qma,\"kW\")\n",
        "  \n",
        "  print( Qw / FRma3)\n",
        "  print( Qw / abs(StateMA1.Enthalpy-StateMA2.Enthalpy))\n",
        "  print( Qw / abs(StateMA1.Enthalpy-StateMA2.Enthalpy)*3600/1.29227*(1+StateMA1.Humidity_Ratio))\n"
      ],
      "execution_count": 64,
      "outputs": [
        {
          "output_type": "stream",
          "text": [
            "FR_w 144.27844412164865 t/h\n",
            "Qw 5426.270247670432 kW\n",
            "---------- Property As MOIST AIR @INLET RH = 100 ----------\n",
            "Qma 6918.831948184796 kW\n",
            "33.04860742601398\n",
            "128.77065132006183\n",
            "398599.3857141323\n"
          ],
          "name": "stdout"
        }
      ]
    },
    {
      "cell_type": "code",
      "metadata": {
        "id": "8Z4JyRR74eEh",
        "colab_type": "code",
        "colab": {}
      },
      "source": [
        ""
      ],
      "execution_count": 0,
      "outputs": []
    }
  ]
}