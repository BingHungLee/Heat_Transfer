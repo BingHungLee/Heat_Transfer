{
  "nbformat": 4,
  "nbformat_minor": 0,
  "metadata": {
    "colab": {
      "name": "[03082019-1] Reboilers Intro.ipynb",
      "version": "0.3.2",
      "provenance": [],
      "collapsed_sections": [],
      "include_colab_link": true
    },
    "kernelspec": {
      "name": "python3",
      "display_name": "Python 3"
    }
  },
  "cells": [
    {
      "cell_type": "markdown",
      "metadata": {
        "id": "view-in-github",
        "colab_type": "text"
      },
      "source": [
        "<a href=\"https://colab.research.google.com/github/BingHungLee/Heat_Transfer/blob/master/%5B03082019_1%5D_Reboilers_Intro.ipynb\" target=\"_parent\"><img src=\"https://colab.research.google.com/assets/colab-badge.svg\" alt=\"Open In Colab\"/></a>"
      ]
    },
    {
      "metadata": {
        "id": "fOQZiXGhVNPd",
        "colab_type": "text"
      },
      "cell_type": "markdown",
      "source": [
        "## What are reboilers ?\n",
        "* These provide the vapor reflux at the bottom of a dsitillation column.\n",
        "* The energy for distillation is supplied in the form of latent heat of vaporization.\n",
        "\n",
        "## What are the heating mediums used in the reboilers ?\n",
        "1.  Condensed of steam or other vapors.\n",
        "2. Hot water\n",
        "3. Hot oil\n",
        "4. Liquid metals and molten salt\n",
        "5. Flue gases\n",
        "\n",
        "## What are the advantages of using condensing steam ?\n",
        "1. **Small temperature difference** two sides of the evaporator surface is accepted.\n",
        "2. **The mass flow rate of the steam required for a given heat duty is small,** due to the large latent heat released on condensation.\n",
        "3. **The surface area required is low**, since the condensing coefficient is high."
      ]
    },
    {
      "metadata": {
        "id": "RTNLDQFVXVJf",
        "colab_type": "text"
      },
      "cell_type": "markdown",
      "source": [
        "## How are the reboilers classified ?\n",
        "* Circulation - **Natural Circulation / Forced Circulation**\n",
        "* Orientation - Vertical / Horizontal\n",
        "* Where the vaporization occurs - Inside tube / Outside tube\n",
        "* Extent of vaporization - **Partial feed vaporized (Recirculating type) / Total feed vaporized (Once-through type) **\n",
        "\n",
        "### - Natural Circulation\n",
        "* aka **thermosiphone reboilers**\n",
        "* Driving force : the circulation is due to the hydrostatic pressure difference caused by the **density difference** between the liquid in the downcomer from the bottom of the distillation column and the two-phase  mixture in the line leading to the distillation column.\n",
        "* The two-phase mixture is lighter than the pure liquid.\n",
        "* The design of piping is important so that **the pressure drop is minimized**.\n",
        "* Units can be either horizontal or vertical.\n",
        "\n",
        "### - Forced Circulation\n",
        "*  Driving force : **pump** in the downcomer line.\n",
        "* Piping deisng is not so important as natural ciculation.\n",
        "*  The hydrostatic head prevents boiling at the surface .\n",
        "*  These are used where the hydrostatic head is insufficient to provide the required circulation in a thermosiphone reboiler\n",
        "\n",
        "### - Vertical Reboilers\n",
        "* Vaporizing  liquid in the tubes and teh heating medium in the shell. **[Inside tube vaporization]**\n",
        "*  Can be LTV(long tube vertical), STV(short tube vertical) units, and both natural and forced circulation types.\n",
        "\n",
        "### - Horizontal Reboilers\n",
        "* Vaporizing fluid in the shell and the heating medium in the tubes. **[Outside tube vaporization]**\n",
        "* These can be both natural and forced circulation types.\n",
        "* A special type, called the **Kettle reboiler**. - where only the vapor leaves the reboiler instead of the two-phase mixture\n",
        "* Another variation, called the **Internal reboiler**. - where the tube bindle is inserted at the bottom of the distillation column itself.\n",
        "\n",
        "### - Partial feed Reboilers\n",
        "* aka **\"Recirculating type\"**\n",
        "* Only part of the feed (**up to approximately 30 percent**) is vaporized, while the rest is recirculated liquid.\n",
        "* This **reduces the fouling deposit as well as pressure drop ** due to acceleration and flow surges encountered when most of all the liquid is vaporized.\n",
        "* **Thermosiphon and kettle reboilers** are partial feed.\n",
        "\n",
        "### - Total feed Reboilers\n",
        "* aka** \"Once-through type\".**\n",
        "* The total feed entering the unit is vaporized."
      ]
    }
  ]
}