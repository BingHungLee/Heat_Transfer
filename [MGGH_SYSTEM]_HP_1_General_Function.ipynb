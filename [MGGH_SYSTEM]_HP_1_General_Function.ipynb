{
  "nbformat": 4,
  "nbformat_minor": 0,
  "metadata": {
    "colab": {
      "name": "[MGGH SYSTEM] HP#1 General Function.ipynb",
      "provenance": [],
      "include_colab_link": true
    },
    "kernelspec": {
      "name": "python3",
      "display_name": "Python 3"
    }
  },
  "cells": [
    {
      "cell_type": "markdown",
      "metadata": {
        "id": "view-in-github",
        "colab_type": "text"
      },
      "source": [
        "<a href=\"https://colab.research.google.com/github/BingHungLee/Heat_Transfer/blob/master/%5BMGGH_SYSTEM%5D_HP_1_General_Function.ipynb\" target=\"_parent\"><img src=\"https://colab.research.google.com/assets/colab-badge.svg\" alt=\"Open In Colab\"/></a>"
      ]
    },
    {
      "cell_type": "code",
      "metadata": {
        "id": "n7tkgEqolM9V",
        "colab_type": "code",
        "colab": {
          "base_uri": "https://localhost:8080/",
          "height": 102
        },
        "outputId": "c7ed2109-9347-4a28-d54e-a33453daa25b"
      },
      "source": [
        "!pip install CoolProp\n",
        "from CoolProp.HumidAirProp import HAPropsSI\n",
        "from CoolProp.CoolProp import PropsSI"
      ],
      "execution_count": 1,
      "outputs": [
        {
          "output_type": "stream",
          "text": [
            "Collecting CoolProp\n",
            "\u001b[?25l  Downloading https://files.pythonhosted.org/packages/03/d8/6cbeeb68464c7811a9d48f800618746d3415bf84d545add04eb4290f83c5/CoolProp-6.3.0-cp36-cp36m-manylinux1_x86_64.whl (4.0MB)\n",
            "\u001b[K     |████████████████████████████████| 4.0MB 2.9MB/s \n",
            "\u001b[?25hInstalling collected packages: CoolProp\n",
            "Successfully installed CoolProp-6.3.0\n"
          ],
          "name": "stdout"
        }
      ]
    },
    {
      "cell_type": "markdown",
      "metadata": {
        "id": "Ukq7OonGleiL",
        "colab_type": "text"
      },
      "source": [
        "# CoolProp Python Wrapper\n",
        "http://www.coolprop.org/coolprop/wrappers/Python/index.html#python"
      ]
    },
    {
      "cell_type": "code",
      "metadata": {
        "id": "SISRwlyZlRQM",
        "colab_type": "code",
        "colab": {}
      },
      "source": [
        "#[Dry Air and Water Properties]\n",
        "class PROP():\n",
        "\n",
        "  Enthalpy = 0.0        #[J/kg] \n",
        "  Desnity =0.0          #[kg/m^3]\n",
        "  Viscosity = 0.0       #[Pa s]\n",
        "  Heat_Capacity = 0.0   #[J/kg/K]\n",
        "  Thermal_Cond = 0.0    #[W/m/K]\n",
        "\n",
        "  def __init__(self,T,P,Fluid):\n",
        "    self.Tdb = T+273.15\n",
        "    self.P = P \n",
        "    self.Enthalpy = PropsSI(\"H\", \"P\", P, \"T\", self.Tdb, Fluid)/1000\n",
        "    self.Desnity = PropsSI(\"D\", \"P\", P, \"T\", self.Tdb, Fluid)\n",
        "    self.Viscosity = PropsSI(\"viscosity\", \"P\", P, \"T\", self.Tdb, Fluid)*1000\n",
        "    self.Heat_Capacity = PropsSI(\"Cpmass\", \"P\", P, \"T\", self.Tdb, Fluid)/1000\n",
        "    self.Thermal_Cond = PropsSI(\"conductivity\", \"P\", P, \"T\", self.Tdb, Fluid)\n",
        "\n",
        "  def Print_Prop(self):\n",
        "    print('Enthalpy',self.Enthalpy, \"kJ/kg\")\n",
        "    print('Desnity',self.Desnity, \"kg/m^3\")\n",
        "    print(\"Viscosity\",self.Viscosity, \"mN-s/m2\")\n",
        "    print('Heat_Capacity',self.Heat_Capacity, \"kJ/kg-C\")\n",
        "    print('Thermal_Cond',self.Thermal_Cond, \"W/m-C\")\n",
        "    print()"
      ],
      "execution_count": 0,
      "outputs": []
    },
    {
      "cell_type": "markdown",
      "metadata": {
        "id": "W9pM4riVlkv2",
        "colab_type": "text"
      },
      "source": [
        "# CoolProp Humid Air Properties\n",
        "http://www.coolprop.org/fluid_properties/HumidAir.html"
      ]
    },
    {
      "cell_type": "code",
      "metadata": {
        "id": "vIVA2isulT9K",
        "colab_type": "code",
        "colab": {}
      },
      "source": [
        "#[Moist Air Properties]\n",
        "class HAP():\n",
        "     \n",
        "    Enthalpy = 0.0\n",
        "    Humidity_Ratio = 0.0                    #kg-water/kg-da\n",
        "    Specific_Volume = 0.0                   #m3/kg\n",
        "    Wet_Bulb_Temperature = 0.0\n",
        "    Dew_Point_Temperature = 0.0\n",
        "    Partial_pressure_of_water_vapor = 0.0\n",
        "     \n",
        "    def __init__(self,T,P,RH):\n",
        "        self.Tdb = T+273.15\n",
        "        self.P = P\n",
        "        self.RH = RH\n",
        "\n",
        "        self.Enthalpy = HAPropsSI('H','T',self.Tdb,'P',self.P,'R',self.RH)/1000\n",
        "        self.Humidity_Ratio = HAPropsSI(\"W\", \"T\", self.Tdb, \"P\", self.P, \"R\",self.RH)\n",
        "        self.Specific_Volume = HAPropsSI(\"V\", \"T\", self.Tdb, \"P\",self.P, \"R\",self.RH)\n",
        "        self.Wet_Bulb_Temperature = HAPropsSI(\"Twb\", \"T\", self.Tdb, \"P\", self.P, \"R\",self.RH)-273.15\n",
        "        self.Dew_Point_Temperature = HAPropsSI(\"Tdp\", \"T\", self.Tdb, \"P\", self.P, \"R\",self.RH)-273.15\n",
        "        self.Partial_pressure_of_water_vapor = HAPropsSI(\"P_w\", \"T\", self.Tdb, \"P\", self.P, \"R\",self.RH)\n",
        "\n",
        "    def Print_Prop(self):\n",
        "        print('Enthalpy',self.Enthalpy, \"kJ/kg\")\n",
        "        print('Humidity_Ratio',self.Humidity_Ratio, \"kg-water/kg-da\")\n",
        "        print(\"Specific_Volume\",self.Specific_Volume, \"m3/kg\")\n",
        "        print('Wet_Bulb_Temperature',self.Wet_Bulb_Temperature, \"C\")\n",
        "        print('Dew_Point_Temperature',self.Dew_Point_Temperature, \"C\")\n",
        "        print('Relative_Humidity',self.RH, \"__\")\n",
        "        print() "
      ],
      "execution_count": 0,
      "outputs": []
    },
    {
      "cell_type": "markdown",
      "metadata": {
        "id": "30tq35ZSlxkj",
        "colab_type": "text"
      },
      "source": [
        "# HX LMTD Calculation\n",
        "* LMTD = (ΔT1 - ΔT2) / ln(ΔT1/ΔT2)\n",
        "* Counter-current Flow\n",
        "  * ΔT1   = T_Hot_In - T_Cold_Out\n",
        "  * ΔT2   = T_Hot_Out - T_Cold_In\n",
        "* Co-current Flow\n",
        "  * ΔT1   = T_Hot_In - T_Cold_In\n",
        "  * ΔT2   = T_Hot_Out - T_Cold_Out"
      ]
    },
    {
      "cell_type": "code",
      "metadata": {
        "id": "BhMGxesBlWlr",
        "colab_type": "code",
        "colab": {
          "base_uri": "https://localhost:8080/",
          "height": 51
        },
        "outputId": "04555ed9-8b42-434f-c6ef-45b8a1fddf1f"
      },
      "source": [
        "import math\n",
        "def LMTD_CouC(Thin,Thout,Tcin,Tcout):\n",
        "  dT1 = Thin-Tcout\n",
        "  dT2 = Thout-Tcin\n",
        "  return (dT1-dT2)/math.log(dT1/dT2)\n",
        "\n",
        "def LMTD_CoC(Thin,Thout,Tcin,Tcout):\n",
        "  dT1 = Thin-Tcin\n",
        "  dT2 = Thout-Tcout\n",
        "  if dT2<0:\n",
        "    return \"NAN\"\n",
        "  return (dT1-dT2)/math.log(dT1/dT2)\n",
        "\n",
        "print(LMTD_CouC(150,105,75,115))\n",
        "print(LMTD_CoC(150,105,75,115))"
      ],
      "execution_count": 10,
      "outputs": [
        {
          "output_type": "stream",
          "text": [
            "32.4357959731544\n",
            "NAN\n"
          ],
          "name": "stdout"
        }
      ]
    },
    {
      "cell_type": "markdown",
      "metadata": {
        "id": "V0hzuLKAVB4U",
        "colab_type": "text"
      },
      "source": [
        "# Nm3/hr to kg/s\n",
        "* Molar mass and volume\n",
        "  * Molar mass of dry air [kg/kmol] = 28.965 [md]\n",
        "  * Molar mass of water vapor  [kg/kmol] = 18.016 [mw]\n",
        "  * Molar volume of ideal gas at oC [Nm3/kmol] = 22.414 [vmo]\n",
        "* Volume fraction\n",
        "  * Volume fraction (mole ratio) of dry air [%] = [Xd]\n",
        "  * Volume fraction (mole ratio) of water vapor [%] = 100 - Xd [Xw]\n",
        "* Desnity\n",
        "  * Density of dry air [kg/Nm3] = 28.965/22.414 = 1.29227 [dda]\n",
        "  * Density of water vapor [kg/Nm3] = 18.016/22.414 = 0.80378 [dw]\n",
        "  * Density of wet air [kg/Nm3] = (dda*Xd+dw*Xw)/100  [dwa]\n",
        "* Flow rate\n",
        "  * Flow rate of moist air [Nm3/hr] = [FRma]\n",
        "  * Flow rate of dry air [kg/hr] = FRma * Xd/100* dda \n",
        "  * Flow rate of water vapor[kg/hr] = FRma * Xw/100 *dw \n",
        "  * Flow rate of moist air [kg/hr] = FRma *dwa "
      ]
    },
    {
      "cell_type": "code",
      "metadata": {
        "id": "d4tUw4ikmb86",
        "colab_type": "code",
        "colab": {}
      },
      "source": [
        "def FRma(w,moist_air_flow_rate_in_Nm3_hr):\n",
        " return (1.29227*(1/(1+w))+0.80378(w/(1+w)))*moist_air_flow_rate_in_Nm3_hr"
      ],
      "execution_count": 0,
      "outputs": []
    },
    {
      "cell_type": "code",
      "metadata": {
        "id": "TYP6I58IXn-C",
        "colab_type": "code",
        "colab": {}
      },
      "source": [
        ""
      ],
      "execution_count": 0,
      "outputs": []
    }
  ]
}