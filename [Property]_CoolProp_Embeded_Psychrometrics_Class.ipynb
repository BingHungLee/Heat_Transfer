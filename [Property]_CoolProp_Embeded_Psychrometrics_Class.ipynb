{
  "nbformat": 4,
  "nbformat_minor": 0,
  "metadata": {
    "colab": {
      "name": "[Property]  CoolProp Embeded - Psychrometrics Class.ipynb",
      "provenance": [],
      "include_colab_link": true
    },
    "kernelspec": {
      "name": "python3",
      "display_name": "Python 3"
    }
  },
  "cells": [
    {
      "cell_type": "markdown",
      "metadata": {
        "id": "view-in-github",
        "colab_type": "text"
      },
      "source": [
        "<a href=\"https://colab.research.google.com/github/BingHungLee/Heat_Transfer/blob/master/%5BProperty%5D_CoolProp_Embeded_Psychrometrics_Class.ipynb\" target=\"_parent\"><img src=\"https://colab.research.google.com/assets/colab-badge.svg\" alt=\"Open In Colab\"/></a>"
      ]
    },
    {
      "cell_type": "markdown",
      "metadata": {
        "id": "cz6P9Ci5pdIW",
        "colab_type": "text"
      },
      "source": [
        "## Coolprop - Humid Air Properties\n",
        "* http://www.coolprop.org/fluid_properties/HumidAir.html\n",
        "\n"
      ]
    },
    {
      "cell_type": "code",
      "metadata": {
        "id": "aJQSRSdFpday",
        "colab_type": "code",
        "colab": {
          "base_uri": "https://localhost:8080/",
          "height": 102
        },
        "outputId": "2bfc1080-1aef-4b25-845c-2b19e9fc22c3"
      },
      "source": [
        "!pip install CoolProp"
      ],
      "execution_count": 1,
      "outputs": [
        {
          "output_type": "stream",
          "text": [
            "Collecting CoolProp\n",
            "\u001b[?25l  Downloading https://files.pythonhosted.org/packages/03/d8/6cbeeb68464c7811a9d48f800618746d3415bf84d545add04eb4290f83c5/CoolProp-6.3.0-cp36-cp36m-manylinux1_x86_64.whl (4.0MB)\n",
            "\u001b[K     |████████████████████████████████| 4.0MB 4.7MB/s \n",
            "\u001b[?25hInstalling collected packages: CoolProp\n",
            "Successfully installed CoolProp-6.3.0\n"
          ],
          "name": "stdout"
        }
      ]
    },
    {
      "cell_type": "code",
      "metadata": {
        "id": "SHivY2NdpfAz",
        "colab_type": "code",
        "colab": {
          "base_uri": "https://localhost:8080/",
          "height": 119
        },
        "outputId": "bb678077-ec37-496f-c84c-da187b9b8a53"
      },
      "source": [
        "from CoolProp.HumidAirProp import HAPropsSI\n",
        "#from CoolProp.CoolProp import PhaseSI, PropsSI, get_global_param_string\n",
        "\n",
        "T1 = 30+273.15 #K\n",
        "P1 = 101325 #Pa\n",
        "RH1 = 0.8\n",
        "\n",
        "Enthalpy = HAPropsSI('H','T',T1,'P',P1,'R',RH1)/1000; print(Enthalpy) #85.4 kJ/kg\n",
        "#Enthalpy = HAPropsSI('Hha','T',T1,'P',P1,'R',RH1)/1000; print(Enthalpy) #85.4 kJ/kg\n",
        "Humidity_Ratio = HAPropsSI(\"W\", \"T\", T1, \"P\", P1, \"R\",RH1); print(Humidity_Ratio) #0.0216 kg H2O/kg dry air\n",
        "Specific_Volume = HAPropsSI(\"Vha\", \"T\", T1, \"P\", P1, \"R\",RH1); print(Specific_Volume) #m3/kg\n",
        "Wet_Bulb_Temperature = HAPropsSI(\"Twb\", \"T\", T1, \"P\", P1, \"R\",RH1)-273.15; print(Wet_Bulb_Temperature) #C\n",
        "Dew_Point_Temperature = HAPropsSI(\"Tdp\", \"T\", T1, \"P\", P1, \"R\",RH1)-273.15; print(Dew_Point_Temperature) #C\n",
        "Partial_pressure_of_water_vapor = HAPropsSI(\"P_w\", \"T\", T1, \"P\", P1, \"R\",RH1); print(Partial_pressure_of_water_vapor) #Pa"
      ],
      "execution_count": 2,
      "outputs": [
        {
          "output_type": "stream",
          "text": [
            "85.56484884913536\n",
            "0.021675772036644517\n",
            "0.8695227397969099\n",
            "27.0906279714373\n",
            "26.170399766058665\n",
            "3412.4094451817346\n"
          ],
          "name": "stdout"
        }
      ]
    },
    {
      "cell_type": "code",
      "metadata": {
        "id": "w0DyRHlTpgs7",
        "colab_type": "code",
        "colab": {
          "base_uri": "https://localhost:8080/",
          "height": 119
        },
        "outputId": "7fa6f926-b201-410f-8e18-cc18458c243f"
      },
      "source": [
        "class HAP():\n",
        "    \n",
        "    \n",
        "    Enthalpy = 0.0\n",
        "    Humidity_Ratio = 0.0\n",
        "    Specific_Volume = 0.0\n",
        "    Wet_Bulb_Temperature = 0.0\n",
        "    Dew_Point_Temperature = 0.0\n",
        "    Partial_pressure_of_water_vapor = 0.0\n",
        "    \n",
        "    \n",
        "    def __init__(self,T,P,RH):\n",
        "        self.Tdb = T+273.15\n",
        "        self.P = P\n",
        "        self.RH = RH\n",
        "\n",
        "    def Set_Prop(self):\n",
        "        self.Enthalpy = HAPropsSI('H','T',self.Tdb,'P',self.P,'R',self.RH)/1000\n",
        "        self.Humidity_Ratio = HAPropsSI(\"W\", \"T\", self.Tdb, \"P\", self.P, \"R\",self.RH)\n",
        "        self.Specific_Volume = HAPropsSI(\"Vha\", \"T\", self.Tdb, \"P\",self.P, \"R\",self.RH)\n",
        "        self.Wet_Bulb_Temperature = HAPropsSI(\"Twb\", \"T\", self.Tdb, \"P\", self.P, \"R\",self.RH)-273.15\n",
        "        self.Dew_Point_Temperature = HAPropsSI(\"Tdp\", \"T\", self.Tdb, \"P\", self.P, \"R\",self.RH)-273.15\n",
        "        self.Partial_pressure_of_water_vapor = HAPropsSI(\"P_w\", \"T\", self.Tdb, \"P\", self.P, \"R\",self.RH)\n",
        "\n",
        "        \n",
        "#main\n",
        "HAP1 = HAP(30,101325,0.8)\n",
        "HAP1.Tdb\n",
        "HAP1.Set_Prop()\n",
        "print('Enthalpy',HAP1.Enthalpy)\n",
        "print('Humidity_Ratio',HAP1.Humidity_Ratio)\n",
        "print('Specific_Volume',HAP1.Specific_Volume)\n",
        "print('Wet_Bulb_Temperature',HAP1.Wet_Bulb_Temperature)\n",
        "print('Dew_Point_Temperature',HAP1.Dew_Point_Temperature)\n",
        "print('Partial_pressure_of_water_vapor',HAP1.Partial_pressure_of_water_vapor)"
      ],
      "execution_count": 3,
      "outputs": [
        {
          "output_type": "stream",
          "text": [
            "Enthalpy 85.56484884913536\n",
            "Humidity_Ratio 0.021675772036644517\n",
            "Specific_Volume 0.8695227397969099\n",
            "Wet_Bulb_Temperature 27.0906279714373\n",
            "Dew_Point_Temperature 26.170399766058665\n",
            "Partial_pressure_of_water_vapor 3412.4094451817346\n"
          ],
          "name": "stdout"
        }
      ]
    },
    {
      "cell_type": "code",
      "metadata": {
        "id": "3JWSP2G_piLa",
        "colab_type": "code",
        "colab": {
          "base_uri": "https://localhost:8080/",
          "height": 119
        },
        "outputId": "940373da-e0da-4e93-cb79-69727c1db85f"
      },
      "source": [
        "HAP2 = HAP(50,101325,0.5)\n",
        "HAP2.Tdb\n",
        "HAP2.Set_Prop()\n",
        "print('Enthalpy',HAP2.Enthalpy)\n",
        "print('Humidity_Ratio',HAP2.Humidity_Ratio)\n",
        "print('Specific_Volume',HAP2.Specific_Volume)\n",
        "print('Wet_Bulb_Temperature',HAP2.Wet_Bulb_Temperature)\n",
        "print('Dew_Point_Temperature',HAP2.Dew_Point_Temperature)\n",
        "print('Partial_pressure_of_water_vapor',HAP2.Partial_pressure_of_water_vapor)"
      ],
      "execution_count": 4,
      "outputs": [
        {
          "output_type": "stream",
          "text": [
            "Enthalpy 155.55742183514602\n",
            "Humidity_Ratio 0.04059652075044909\n",
            "Specific_Volume 0.9368369186488448\n",
            "Wet_Bulb_Temperature 38.731236421489825\n",
            "Dew_Point_Temperature 36.69924569016251\n",
            "Partial_pressure_of_water_vapor 6208.5806492248685\n"
          ],
          "name": "stdout"
        }
      ]
    },
    {
      "cell_type": "code",
      "metadata": {
        "id": "VczPuZ8Bpkl6",
        "colab_type": "code",
        "colab": {}
      },
      "source": [
        ""
      ],
      "execution_count": 0,
      "outputs": []
    }
  ]
}