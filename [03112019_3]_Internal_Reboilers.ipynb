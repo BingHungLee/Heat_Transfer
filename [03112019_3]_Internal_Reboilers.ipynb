{
  "nbformat": 4,
  "nbformat_minor": 0,
  "metadata": {
    "colab": {
      "name": "[03112019-3] Internal Reboilers.ipynb",
      "version": "0.3.2",
      "provenance": [],
      "include_colab_link": true
    },
    "kernelspec": {
      "name": "python3",
      "display_name": "Python 3"
    }
  },
  "cells": [
    {
      "cell_type": "markdown",
      "metadata": {
        "id": "view-in-github",
        "colab_type": "text"
      },
      "source": [
        "<a href=\"https://colab.research.google.com/github/BingHungLee/Heat_Transfer/blob/master/%5B03112019_3%5D_Internal_Reboilers.ipynb\" target=\"_parent\"><img src=\"https://colab.research.google.com/assets/colab-badge.svg\" alt=\"Open In Colab\"/></a>"
      ]
    },
    {
      "metadata": {
        "id": "r58A45kbMYBk",
        "colab_type": "text"
      },
      "cell_type": "markdown",
      "source": [
        "* aka Bundle-in-Column Reboilers.\n",
        "* **Used when the heat duty required is not very large and the liquid is non-fouling**.\n",
        "* U-tube bundles are inserted at the bottom of the distillation column to provide the necessary boil-off rate.\n",
        "* Due to lots of advatages that shown below, the internal reboilers are not used very often.\n",
        "\n",
        "### Advantages\n",
        "1. No separate shell is needed.\n",
        "2. No piping is needed.\n",
        "\n",
        "### Disadvantages\n",
        "1. Use is possible only in low or non-fouling cases.\n",
        "  *   Every time the reboiler has to be cleaned, the distilaltion column has to be shut down and drained.\n",
        "  * Before starting, the column has to be tested for leakage.\n",
        "  * If an outside reboiler is used, a stand-by unit can be used while the main reboiler is being cleaned without shutting down the column.\n",
        "2. Tube bundle has to be short and thick and can be used for only small heat duties.\n",
        "3. The U-tubes overhang from one side. In order to accommodate the resulting bending moments, the lower portion of the distillation column has to be made thicker and a special flange is needed.\n",
        "4. The height of the column increases due to the tube bundle at the base and due to the need to provide disengagement space above the bundle.\n",
        "\n"
      ]
    }
  ]
}