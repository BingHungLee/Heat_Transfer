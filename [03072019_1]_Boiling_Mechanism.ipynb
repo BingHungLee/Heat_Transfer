{
  "nbformat": 4,
  "nbformat_minor": 0,
  "metadata": {
    "colab": {
      "name": "[03072019-1] Boiling Mechanism.ipynb",
      "version": "0.3.2",
      "provenance": [],
      "collapsed_sections": [],
      "include_colab_link": true
    },
    "kernelspec": {
      "name": "python3",
      "display_name": "Python 3"
    }
  },
  "cells": [
    {
      "cell_type": "markdown",
      "metadata": {
        "id": "view-in-github",
        "colab_type": "text"
      },
      "source": [
        "<a href=\"https://colab.research.google.com/github/BingHungLee/Heat_Transfer/blob/master/%5B03072019_1%5D_Boiling_Mechanism.ipynb\" target=\"_parent\"><img src=\"https://colab.research.google.com/assets/colab-badge.svg\" alt=\"Open In Colab\"/></a>"
      ]
    },
    {
      "metadata": {
        "id": "ca5OsIbifleI",
        "colab_type": "text"
      },
      "cell_type": "markdown",
      "source": [
        "# How does a bubble form, grow, and detach from a surface ?\n",
        "\n",
        "* Bubbles form at nucleation sites on hot surfaces.\n",
        "* Nucleation site might be any crevice or indentation.\n",
        "* Liquids flow inside the nuckeation site and gets superheated to form a vapor nucleus.\n",
        "* Both wettability of the surface (contact angle) and the geometrical shape of the cavity influence the formation of the bubbles.\n",
        "  *  If the cavity is large,  it will get completely filled with liquid and no bubbles will form.\n",
        "    *  water - 5μm for an actuve nuckeation site on a smooth metallic surface\n",
        "    *  organics and refrigerants - 0.5μm ..\n",
        "    *  cryogenic - 0.1~0.3μm ..\n",
        "* The growth rate is faster for a bubble formed from a small cavity than from a large one.\n",
        "* The frequency of bubble formation and release varies with the nucleation site.\n",
        "* There are four forces acting on the bubbles.\n",
        "   * Force try to detach the bubble from the surface - buoyancy and hydrodynamic drag force.\n",
        "   * Force try to prevent bubble from detaching - surface tension and liquid inertia forces.\n",
        "      *  Surface tension dominate - departing bubbles tend to be 'spherical'\n",
        "      *  Inertial forces dominate - departing bubbles tend to be 'hemispherical'\n",
        "      *  Both significant - departing bubbles tend to be 'oblate shape'\n"
      ]
    },
    {
      "metadata": {
        "id": "SllD5vGTobNT",
        "colab_type": "text"
      },
      "cell_type": "markdown",
      "source": [
        "# Pool Boiling\n",
        "\n",
        "## What is Pool Boiling\n",
        "* It is the boiling of a stagnant liquid contacting a hot surface.\n",
        "* The heat transfer to the liquid is by \"natural convection\" and by agitation produced by the release and movement of the vapor bubbles through it.\n",
        "* The driving potential (the heat flux q), is the difference in the temperature of the heated surface(Tw) and the bulk liquid boiling temperature (Tsat).\n",
        "\n",
        "## What is Driving Potential \n",
        "* Tw - Tsat\n",
        "\n",
        "## What is Saturated Pool Boiling\n",
        "* The liquid is already at its boiling point.\n",
        "* It requires only the latent heat to produce vapors.\n",
        "\n",
        "## What is Subcooled Pool Boiling\n",
        "* The liquid is below its boiling point.\n",
        "* It has to be heated (sensible heat) to its boiling point and then the latent heat is required to produce the vapor.\n",
        "\n",
        "## What are the different regions in the pool boiling curve\n",
        "* There are four regions - Natural Convection / Nucleate Boiling - Critical Heat Flux - Transition Boiling / Film Boiling\n",
        "\n",
        " ### - Natural Convection Region\n",
        "* Sensible heat transfer occurs from the hot surface to the liquid (Temperature Gradient).\n",
        "* Liquid loses its heat by evaporation at the free surface.\n",
        "* Even though the hot surface temperature is greater than the boiling point of liquid, no boiling occurs since the heat flux and hence the driving potential is not great enough to produce vapor bubbles (That is why high flux tube perfromce well than bare tube, with porous surface, bubble can easily formed and the driving potential can be much smaller)\n",
        "\n",
        " ### - Nucleate Boiling Region\n",
        "* Vapor bubbles are formed at the hot surface at specific sites (nucleation sites).\n",
        "* As driving potential increases,the number of active nucleation sites increases and more bubbles are formed and released.\n",
        "* The surface temperature increases slowly for relatively large changes in the heat flux becasue a large fraction of the heat goes as the latent heat of vaporization.\n",
        "* This is a vary important region for the design of reboilers and evaporators.\n",
        "* The factors would influence the heat transfer :\n",
        "  *  the system pressure\n",
        "  *  the surface condition\n",
        "  *  the size and orientation of the surface\n",
        "  *  the wettability of the surface\n",
        "  *  the subcooling of the liquid\n",
        "  *  the hysteresis in the boiling curve\n",
        "  *  the presence of noncondensable gases\n",
        "  *  the gravitational acceleration\n",
        "   \n",
        " ### - Critical Heat Flux Region\n",
        "* As vapor forms on the hot surface during the nucleate boiling, liquid rushes to replenish the surface. However, as the heat flux is increased, the rate of vaporization keeps increasing until a point is reached when the liquid cannot keep the whole surface wet.\n",
        "* CHF is the highest heat flux that can be supplied to the liquid.\n",
        "* Patches of vapor form on the surface, and heat transfer at these locations occurs through the vapor film.\n",
        "* It is no more nucleate boiling and, this pt is also known as \"Departure from the Nucleate Boiling(DNB)\" or \"Burnout\".\n",
        "* The factors would influence the CHF :\n",
        "  *  the subcooling of the liquid\n",
        "  *  the liquid viscosity\n",
        "  *  the surface condition\n",
        "  *  the geometry and orientation of the surface\n",
        "* Please avoid to design your HX in this region.  \n",
        " \n",
        " ### - Transition Boiling Region\n",
        "* aka Partial Film Boiling Region.\n",
        "* The heat transfer through the vapor surrounding the surface in patches is primarily by radiation.\n",
        "* The net heat flux reduces while the surface temperature,Tw, increases.\n",
        "* Vapor is released in spurts, which also causes instabilities in boiling.\n",
        "* Gradually, more and more of the surface is covered by the vapor and less and less in contact with liquid, resulting in a continuous fall in the heat flux as (Tw-Tsat) increases.\n",
        "* Some of the factors which affect the transition boiling are:\n",
        "  *  the surface condition (density of nucleation sites)\n",
        "  *  the temperature difference (Tw-Tsat)\n",
        "  *  the thermalphysical properties of the liquid\n",
        "  *  the thermalphysical properties of the heat transfer surface\n",
        "  * the frequency of contact between the liwuid and tube wall at any given location\n",
        "\n",
        " ### - Film Boiling Region\n",
        "* Vapor film covers the entire hot surface.\n",
        "* Heat transfer is primarily by radiationat high surface temperature.(There is also some conduction and convection through the vapor film )\n",
        "* The vapor bubbles are released from the top of the film rather than from the hot surface.\n",
        "* The heat flux in the early regions of the film boiling is less than that in the nucleate boiling, although thedriving potential is higher.\n",
        "* This is not a desired region for operating the process equipment.\n",
        "* The point at which the film boiling starts is called \"Leidenforst Point\".\n",
        "* Some of the factors that affect the film boiling are :\n",
        "  *  the surface condition\n",
        "  *  the surface geometry and orientation\n",
        "  *  the subcooling of the liquid\n",
        "  *  the properties of the vapor\n",
        "  *  the driving potential"
      ]
    },
    {
      "metadata": {
        "id": "O4CvKmXCTySv",
        "colab_type": "text"
      },
      "cell_type": "markdown",
      "source": [
        "# Convective of Flow Boiling\n",
        "\n",
        "## What is convective or flow boiling ?\n",
        "* It is the boiling of a flowing liquid over a heated surface. Pumps are used to make  the liquid flow.\n",
        "* The heat transfer is by forced convection.\n",
        "\n",
        "## Different regions in convective or flow boiling inside - vertical tube\n",
        "* Single phase liquid - Bubbly Flow - Slug Flow - Annular Flow - Drop Flow - Single phase vapor\n",
        "* Convective heat transfer to liquid - Subcooled boiling - Saturated nucleate boiling - Forced convective heat transfer through liquid film - Liquid dificient region - Convective heat transfer to vapor\n",
        "* The four heat transfer regions are explained below :\n",
        "<br>\n",
        "### - Convective heat transfer to liquid\n",
        "* Single phase heat transfer process.\n",
        "<br>\n",
        "### - Subcooling boiling region\n",
        "* Heat transfer coefficient is greater than that in the earlier region.\n",
        "* Vapor bubbles are formed on the surface,since the liquid temperature there exceeds the saturation temperature while the bulk is still subcooled.\n",
        "* Most of these bubbles condense in the bulk subcooled liquid.\n",
        "<br>\n",
        "### - Saturated nucleate boiling region\n",
        "* The bulk of the liquid is at the saturation temperature.\n",
        "* Liquid and vapor flow together giving rise to the various flow regime.\n",
        "* The liquid film moves along the wall giving rise to forced convective heat transfer region.\n",
        "<br>\n",
        "### - Liquid-deficient region\n",
        "* After a CHF is reached, the liquid film at the surface bvreaks down and the wall becomes dry.\n",
        "* This pt is known as DNB - the region is also known as dry-wall (dry-out).\n",
        "*  The heat transfer coefficient is low.\n",
        "* Liquid droplets are present.\n",
        "* As the heat flux uncreases, even these droplets evaporate, and only dry vapor is obtained.\n",
        "* The HT in this region is by convection and raditation andd by the impacting of the liquid droplets on the hot surface.\n",
        "\n",
        "## Different regions in convective or flow boiling inside - horizontal tube\n",
        "* single phase liquid - Bubbly Flow - Plug Flow - Slug Flow - Wavy Flow - Annular Flow \n",
        "* Most of the regimes are similar with vertical tube, the differences lie in the effect of \"gravity\" \n",
        "    *   gravity in the horizontal tubes (stratification) - may lead to a significant temperature difference between the bottom and the top of a horizontal tube.\n",
        "    *   gravity impact of boiling suppresion due to the hydrostatic headin vertical tubes.\n",
        "\n",
        "## Others\n",
        "* Low lquid surface tension - high boiling coefficient.\n",
        "* High vapor fraction - low boiling coefficient.\n",
        "* Sonic fluid velocity- low boiling coefficient."
      ]
    },
    {
      "metadata": {
        "id": "iisx8px_bC2m",
        "colab_type": "code",
        "colab": {}
      },
      "cell_type": "code",
      "source": [
        ""
      ],
      "execution_count": 0,
      "outputs": []
    }
  ]
}