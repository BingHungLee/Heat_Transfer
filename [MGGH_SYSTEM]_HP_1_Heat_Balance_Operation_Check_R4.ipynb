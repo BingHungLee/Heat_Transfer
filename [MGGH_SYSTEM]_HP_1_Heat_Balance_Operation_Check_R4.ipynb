{
  "nbformat": 4,
  "nbformat_minor": 0,
  "metadata": {
    "colab": {
      "name": "[MGGH SYSTEM] HP#1 Heat Balance Operation Check R4.ipynb",
      "provenance": [],
      "collapsed_sections": [],
      "include_colab_link": true
    },
    "kernelspec": {
      "name": "python3",
      "display_name": "Python 3"
    }
  },
  "cells": [
    {
      "cell_type": "markdown",
      "metadata": {
        "id": "view-in-github",
        "colab_type": "text"
      },
      "source": [
        "<a href=\"https://colab.research.google.com/github/BingHungLee/Heat_Transfer/blob/master/%5BMGGH_SYSTEM%5D_HP_1_Heat_Balance_Operation_Check_R4.ipynb\" target=\"_parent\"><img src=\"https://colab.research.google.com/assets/colab-badge.svg\" alt=\"Open In Colab\"/></a>"
      ]
    },
    {
      "cell_type": "code",
      "metadata": {
        "id": "WKsL7ljla5zH",
        "colab_type": "code",
        "outputId": "20ae5901-d243-4a63-b98d-7e64747cadcc",
        "colab": {
          "base_uri": "https://localhost:8080/",
          "height": 54
        }
      },
      "source": [
        "'''\n",
        "Cooler\n",
        "Tma_in = (154.6+142.7)/2 [C]\n",
        "Tma_out = (117.6+111.3)/2 [C]\n",
        "Tw_in = 85.6 [C]\n",
        "Tw_out = 117.7 [C]\n",
        "Mw = 149 [m3/h] \n",
        "\n",
        "Reheater\n",
        "Tma_in = (54.5+54.2)/2 [C]\n",
        "Tma_out = (88.5+89.1)/2 [C]\n",
        "Mma = 508239 Nm3/hr @83.4C\n",
        "Tw_in = 117.7 [C]\n",
        "Tw_out = 85.4 [C]\n",
        "'''"
      ],
      "execution_count": 2,
      "outputs": [
        {
          "output_type": "execute_result",
          "data": {
            "text/plain": [
              "'\\nCooler\\nTma_in = (154.6+142.7)/2 [C]\\nTma_out = (117.6+111.3)/2 [C]\\nTw_in = 85.6 [C]\\nTw_out = 117.7 [C]\\nMw = 149 [m3/h] \\n\\nReheater\\nTma_in = (54.5+54.2)/2 [C]\\nTma_out = (88.5+89.1)/2 [C]\\nMma = 508239 Nm3/hr @83.4C\\nTw_in = 117.7 [C]\\nTw_out = 85.4 [C]\\n'"
            ]
          },
          "metadata": {
            "tags": []
          },
          "execution_count": 2
        }
      ]
    },
    {
      "cell_type": "code",
      "metadata": {
        "id": "66ggjC5yc8cQ",
        "colab_type": "code",
        "outputId": "366714d5-6774-4069-d182-2ccac546f6a7",
        "colab": {
          "base_uri": "https://localhost:8080/",
          "height": 102
        }
      },
      "source": [
        "!pip install CoolProp\n",
        "from CoolProp.HumidAirProp import HAPropsSI\n",
        "from CoolProp.CoolProp import PropsSI"
      ],
      "execution_count": 3,
      "outputs": [
        {
          "output_type": "stream",
          "text": [
            "Collecting CoolProp\n",
            "\u001b[?25l  Downloading https://files.pythonhosted.org/packages/03/d8/6cbeeb68464c7811a9d48f800618746d3415bf84d545add04eb4290f83c5/CoolProp-6.3.0-cp36-cp36m-manylinux1_x86_64.whl (4.0MB)\n",
            "\u001b[K     |████████████████████████████████| 4.0MB 2.8MB/s \n",
            "\u001b[?25hInstalling collected packages: CoolProp\n",
            "Successfully installed CoolProp-6.3.0\n"
          ],
          "name": "stdout"
        }
      ]
    },
    {
      "cell_type": "code",
      "metadata": {
        "id": "QApEsoplcgmm",
        "colab_type": "code",
        "colab": {}
      },
      "source": [
        "#[Dry Air and Water Properties]\n",
        "class PROP():\n",
        "\n",
        "  Enthalpy = 0.0        #[J/kg] \n",
        "  Desnity =0.0          #[kg/m^3]\n",
        "  Viscosity = 0.0       #[Pa s]\n",
        "  Heat_Capacity = 0.0   #[J/kg/K]\n",
        "  Thermal_Cond = 0.0    #[W/m/K]\n",
        "\n",
        "  def __init__(self,T,P,Fluid):\n",
        "    self.Tdb = T+273.15\n",
        "    self.P = P \n",
        "    self.Enthalpy = PropsSI(\"H\", \"P\", P, \"T\", self.Tdb, Fluid)/1000\n",
        "    self.Desnity = PropsSI(\"D\", \"P\", P, \"T\", self.Tdb, Fluid)\n",
        "    self.Viscosity = PropsSI(\"viscosity\", \"P\", P, \"T\", self.Tdb, Fluid)*1000\n",
        "    self.Heat_Capacity = PropsSI(\"Cpmass\", \"P\", P, \"T\", self.Tdb, Fluid)/1000\n",
        "    self.Thermal_Cond = PropsSI(\"conductivity\", \"P\", P, \"T\", self.Tdb, Fluid)\n",
        "\n",
        "  def Print_Prop(self):\n",
        "    print('Enthalpy',self.Enthalpy, \"kJ/kg\")\n",
        "    print('Desnity',self.Desnity, \"kg/m^3\")\n",
        "    print(\"Viscosity\",self.Viscosity, \"mN-s/m2\")\n",
        "    print('Heat_Capacity',self.Heat_Capacity, \"kJ/kg-C\")\n",
        "    print('Thermal_Cond',self.Thermal_Cond, \"W/m-C\")\n"
      ],
      "execution_count": 0,
      "outputs": []
    },
    {
      "cell_type": "code",
      "metadata": {
        "id": "ZQWi6rwWxo_i",
        "colab_type": "code",
        "outputId": "a155d97b-016b-470d-93a3-642edd3030f4",
        "colab": {
          "base_uri": "https://localhost:8080/",
          "height": 394
        }
      },
      "source": [
        "\n",
        "State = PROP(25,101325,\"Water\")\n",
        "print(\"---------WATER PROPERTY---------\")\n",
        "print('Enthalpy',State.Enthalpy, \"kJ/kg\")\n",
        "print('Desnity',State.Desnity, \"kg/m^3\")\n",
        "print(\"Viscosity\",State.Viscosity, \"mN-s/m2\")\n",
        "print('Heat_Capacity',State.Heat_Capacity, \"kJ/kg-C\")\n",
        "print('Thermal_Cond',State.Thermal_Cond, \"W/m-C\")\n",
        "\n",
        "'''\n",
        "[Water Properties from HTRI]\n",
        "Liquid Phase Model: Steam97\n",
        "Vapor Phase Model: Steam97\n",
        "Bulk liquid-liquid properties: VMG mixing rules\n",
        "T= 25C\n",
        "Enthalpy= 104.929 kJ/kg\n",
        "Density= 997.063 kg/m3\n",
        "Viscoisty= 0.8901 mN-s/m2\n",
        "Heat Capacity= 4.1819 kJ/kg-C\n",
        "Thermal Conductivity= 0.6075 W/m-C\n",
        "Surface Tension= 71.9722 mN/m\n",
        "Critical Pressure= 22064 kPa\n",
        "Critical Temperature= 373.95 C\n",
        "Mole Weight= 18.02\n",
        "'''\n",
        "\n",
        "print()\n",
        "\n",
        "State = PROP(25,101325,\"Air.mix\")\n",
        "print(\"---------DRY AIR.mix PROPERTY---------\")\n",
        "print('Enthalpy',State.Enthalpy, \"kJ/kg\")\n",
        "print('Desnity',State.Desnity, \"kg/m^3\")\n",
        "print(\"Viscosity\",State.Viscosity, \"mN-s/m2\")\n",
        "print('Heat_Capacity',State.Heat_Capacity, \"kJ/kg-C\")\n",
        "print('Thermal_Cond',State.Thermal_Cond, \"W/m-C\")\n",
        "\n",
        "print()\n",
        "\n",
        "State = PROP(25,101325,\"Air\")\n",
        "print(\"---------DRY AIR PROPERTY---------\")\n",
        "print('Enthalpy',State.Enthalpy, \"kJ/kg\")\n",
        "print('Desnity',State.Desnity, \"kg/m^3\")\n",
        "print(\"Viscosity\",State.Viscosity, \"mN-s/m2\")\n",
        "print('Heat_Capacity',State.Heat_Capacity, \"kJ/kg-C\")\n",
        "print('Thermal_Cond',State.Thermal_Cond, \"W/m-C\")\n",
        "\n",
        "'''\n",
        "[Dry Air Properties from HTRI]\n",
        "Liquid Phase Model: Advanced Peng-Robinson\n",
        "Vapor Phase Model: Advanced Peng-Robinson\n",
        "Bulk liquid-liquid properties: VMG mixing rules\n",
        "T= 25C\n",
        "Enthalpy= 297.005 kJ/kg\n",
        "Density= 1.1840 kg/m3\n",
        "Viscoisty= 0.0173 mN-s/m2\n",
        "Heat Capacity= 1.0100 kJ/kg-C\n",
        "Thermal Conductivity= 0.0247 W/m-C\n",
        "Mole Weight= 28.95\n",
        "'''"
      ],
      "execution_count": 5,
      "outputs": [
        {
          "output_type": "stream",
          "text": [
            "---------WATER PROPERTY---------\n",
            "Enthalpy 104.92011980935509 kJ/kg\n",
            "Desnity 997.047636760347 kg/m^3\n",
            "Viscosity 0.8900224890776964 mN-s/m2\n",
            "Heat_Capacity 4.181314990770664 kJ/kg-C\n",
            "Thermal_Cond 0.6065160802197994 W/m-C\n",
            "\n",
            "---------DRY AIR.mix PROPERTY---------\n",
            "Enthalpy 298.446509910863 kJ/kg\n",
            "Desnity 1.1840132869164148 kg/m^3\n",
            "Viscosity 0.01838851921573831 mN-s/m2\n",
            "Heat_Capacity 1.006561522458271 kJ/kg-C\n",
            "Thermal_Cond 0.0258666072482297 W/m-C\n",
            "\n",
            "---------DRY AIR PROPERTY---------\n",
            "Enthalpy 424.4360439165022 kJ/kg\n",
            "Desnity 1.1843184839089664 kg/m^3\n",
            "Viscosity 0.018448082162002024 mN-s/m2\n",
            "Heat_Capacity 1.0063081425141251 kJ/kg-C\n",
            "Thermal_Cond 0.026246931318905948 W/m-C\n"
          ],
          "name": "stdout"
        },
        {
          "output_type": "execute_result",
          "data": {
            "text/plain": [
              "'\\n[Dry Air Properties from HTRI]\\nLiquid Phase Model: Advanced Peng-Robinson\\nVapor Phase Model: Advanced Peng-Robinson\\nBulk liquid-liquid properties: VMG mixing rules\\nT= 25C\\nEnthalpy= 297.005 kJ/kg\\nDensity= 1.1840 kg/m3\\nViscoisty= 0.0173 mN-s/m2\\nHeat Capacity= 1.0100 kJ/kg-C\\nThermal Conductivity= 0.0247 W/m-C\\nMole Weight= 28.95\\n'"
            ]
          },
          "metadata": {
            "tags": []
          },
          "execution_count": 5
        }
      ]
    },
    {
      "cell_type": "code",
      "metadata": {
        "id": "k12ltyOzcotk",
        "colab_type": "code",
        "colab": {}
      },
      "source": [
        "#[Moist Air Properties]\n",
        "class HAP():\n",
        "     \n",
        "    Enthalpy = 0.0\n",
        "    Humidity_Ratio = 0.0                    #kg-water/kg-da\n",
        "    Specific_Volume = 0.0                   #m3/kg\n",
        "    Wet_Bulb_Temperature = 0.0\n",
        "    Dew_Point_Temperature = 0.0\n",
        "    Partial_pressure_of_water_vapor = 0.0\n",
        "     \n",
        "    def __init__(self,T,P,RH):\n",
        "        self.Tdb = T+273.15\n",
        "        self.P = P\n",
        "        self.RH = RH\n",
        "\n",
        "        self.Enthalpy = HAPropsSI('H','T',self.Tdb,'P',self.P,'R',self.RH)/1000\n",
        "        self.Humidity_Ratio = HAPropsSI(\"W\", \"T\", self.Tdb, \"P\", self.P, \"R\",self.RH)\n",
        "        self.Specific_Volume = HAPropsSI(\"V\", \"T\", self.Tdb, \"P\",self.P, \"R\",self.RH)\n",
        "        self.Wet_Bulb_Temperature = HAPropsSI(\"Twb\", \"T\", self.Tdb, \"P\", self.P, \"R\",self.RH)-273.15\n",
        "        self.Dew_Point_Temperature = HAPropsSI(\"Tdp\", \"T\", self.Tdb, \"P\", self.P, \"R\",self.RH)-273.15\n",
        "        self.Partial_pressure_of_water_vapor = HAPropsSI(\"P_w\", \"T\", self.Tdb, \"P\", self.P, \"R\",self.RH)\n",
        "\n",
        "    def Print_Prop(self):\n",
        "        print('Enthalpy',self.Enthalpy, \"kJ/kg\")\n",
        "        print('Humidity_Ratio',self.Humidity_Ratio, \"kg-water/kg-da\")\n",
        "        print(\"Specific_Volume\",self.Specific_Volume, \"m3/kg\")\n",
        "        print('Wet_Bulb_Temperature',self.Wet_Bulb_Temperature, \"C\")\n",
        "        print('Dew_Point_Temperature',self.Dew_Point_Temperature, \"C\")\n",
        "        print('Relative_Humidity',self.RH, \"__\")\n",
        "        print()      "
      ],
      "execution_count": 0,
      "outputs": []
    },
    {
      "cell_type": "code",
      "metadata": {
        "id": "SJ8hZPiwwL-I",
        "colab_type": "code",
        "outputId": "82a0febc-19d5-4011-a81e-ecbef720a895",
        "colab": {
          "base_uri": "https://localhost:8080/",
          "height": 102
        }
      },
      "source": [
        "State = HAP(80,101325,1)\n",
        "print('Enthalpy',State.Enthalpy, \"kJ/kg\")\n",
        "print('Humidity_Ratio',State.Humidity_Ratio, \"kg-water/kg-da\")\n",
        "print(\"Specific_Volume\",State.Specific_Volume, \"m3/kg\")\n",
        "print('Wet_Bulb_Temperature',State.Wet_Bulb_Temperature, \"C\")\n",
        "print('Dew_Point_Temperature',State.Dew_Point_Temperature, \"C\")"
      ],
      "execution_count": 7,
      "outputs": [
        {
          "output_type": "stream",
          "text": [
            "Enthalpy 1541.7945329114111 kJ/kg\n",
            "Humidity_Ratio 0.5529259271424659 kg-water/kg-da\n",
            "Specific_Volume 1.880912206506531 m3/kg\n",
            "Wet_Bulb_Temperature 79.9999999999996 C\n",
            "Dew_Point_Temperature 80.0000000000689 C\n"
          ],
          "name": "stdout"
        }
      ]
    },
    {
      "cell_type": "code",
      "metadata": {
        "id": "VWEPxTlz9SVZ",
        "colab_type": "code",
        "outputId": "fe8c8eec-3b2b-427a-b781-f20c8d3a183d",
        "colab": {
          "base_uri": "https://localhost:8080/",
          "height": 612
        }
      },
      "source": [
        "#[LATEST VERSION_12302019_R4] - QA = QW - DA*(dH), Circulation Water Density Reference\n",
        "'''\n",
        "1. Calulate Humid Air by using CoolProp HAPropsSI Calculate Water by using CoolProp PropsSI\n",
        "  from CoolProp.HumidAirProp import HAPropsSI\n",
        "  from CoolProp.CoolProp import PropsSI\n",
        "2. Transfer flue gas outlet flow rate from Nm3/hr to dry air kg/s (using dry air flow rate to calculate heat balanced)  \n",
        "3. Check energy balance (QA=QW)\n",
        "4. Check humidity constant (StateA1.Humidity_Ratio = StateA2.Humidity_Ratio) \n",
        "5. Guess inlet and outlet relative humidity. (use it to derive flue gas flow rate)\n",
        "'''\n",
        "\n",
        "# [Circulation Water Side - As Water]\n",
        "print(\"--------------Circulation Water Side - As Water--------------\")\n",
        "StateW1 = PROP(117.5,304325,\"Water\")\n",
        "print(StateW1.Enthalpy, \"Water inlet Enthalpy, kJ/kg\")\n",
        "StateW2 = PROP(85.4,172300,\"Water\")\n",
        "print(StateW2.Enthalpy, \"Water outlet Enthalpy, kJ/kg\")\n",
        "StateW_Ref = PROP(85.6,395167,\"Water\")\n",
        "\n",
        "MW = 149 * StateW_Ref.Desnity/3600 #kg/s\n",
        "print(MW,\"Water Flow Rate, kg/s\")\n",
        "QW = (StateW1.Enthalpy-StateW2.Enthalpy) * MW # kg/s*kJ/kg [kW]\n",
        "print(QW, \"Water Side Heat Duty, kW\")\n",
        "\n",
        "print()\n",
        "\n",
        "#[Flue Gas Side - As Moist Air]\n",
        "TFin = (54.5+54.2)/2\n",
        "TFout = (88.5+89.1)/2\n",
        "TFstalk = 83.4\n",
        "print(\"--------------Flue Gas Side - As Moist Air--------------\")\n",
        "dda = 1.29227 #kg/Nm3\n",
        "dw = 0.80378 #kg/Nm3\n",
        "StateA1_RH = 1\n",
        "StateA1Up = StateA1_RH\n",
        "StateA1Down = 0.01\n",
        "StateA1Iterate =  (StateA1Up+StateA1Down)/2\n",
        "QA = QW\n",
        "\n",
        "DA = 0\n",
        "dwa = 0\n",
        "\n",
        "while 1:\n",
        "  StateA1 = HAP(TFin,101325,StateA1_RH)\n",
        "\n",
        "  StateA2Up = 1\n",
        "  StateA2Down = 0.01\n",
        "  StateA2Iterate =  (StateA2Up+StateA2Down)/2\n",
        "\n",
        "  while 1:\n",
        "    StateA2 = HAP(TFout,101325,StateA2Iterate)\n",
        "    StateA3 = HAP(TFstalk,101325,HAPropsSI('RH','T',TFstalk+273.15,'P',101325,'W',StateA2.Humidity_Ratio))\n",
        "\n",
        "    wmf = StateA3.Humidity_Ratio/(1+StateA3.Humidity_Ratio)\n",
        "    damf = 1 - wmf\n",
        "    dwa = dda*damf+dw*wmf #kg/Nm3\n",
        "    MA = 508239 #Nm3/hr\n",
        "    DA = MA* damf/3600 * dda\n",
        "\n",
        "    StateA2_Enthalpy = QA/DA + StateA1.Enthalpy\n",
        "\n",
        "    if abs(StateA2.Enthalpy-StateA2_Enthalpy)<0.01:\n",
        "      #print(\"StateA2_Enthalpy\",StateA2_Enthalpy,\"kJ/kg\") \n",
        "      #print(\"StateA2.Enthalpy\",StateA2.Enthalpy,\"kJ/kg\")\n",
        "      break\n",
        "    elif (StateA2.Enthalpy-StateA2_Enthalpy)>0.01:\n",
        "      StateA2Up = StateA2Iterate\n",
        "      StateA2Iterate =  (StateA2Up+StateA2Down)/2\n",
        "    else:\n",
        "      StateA2Down = StateA2Iterate\n",
        "      StateA2Iterate =  (StateA2Up+StateA2Down)/2\n",
        "\n",
        "  StateA1 = HAP(TFin,101325,StateA1Iterate) \n",
        "  StateA2 = HAP(TFout,101325,StateA2Iterate)\n",
        "  \n",
        "  if abs(StateA1.Humidity_Ratio-StateA2.Humidity_Ratio)<0.001:\n",
        "    #print(\"StateA1.Humidity_Ratio\",StateA1.Humidity_Ratio,\"kg/kg-da\") \n",
        "    #print(\"StateA2.Humidity_Ratio\",StateA2.Humidity_Ratio,\"kg/kg-da\")\n",
        "    break\n",
        "  elif (StateA1.Humidity_Ratio-StateA2.Humidity_Ratio)>0.001:\n",
        "    StateA1Up = StateA1Iterate\n",
        "    StateA1Iterate =  (StateA1Up+StateA1Down)/2\n",
        "  else:\n",
        "    StateA1Down = StateA1Iterate\n",
        "    StateA1Iterate =  (StateA1Up+StateA1Down)/2\n",
        "\n",
        "# THE HEAT BALANCE NEED TO SATISFY BOTH CONDITIONS W AND ENTHALPY EQUIVALENT\n",
        "StateA1 = HAP(TFin,101325,StateA1Iterate) \n",
        "print(\"---------StateA1---------\")\n",
        "StateA1.Print_Prop()\n",
        "StateA2 = HAP(TFout,101325,StateA2Iterate)\n",
        "print(\"---------StateA2---------\")\n",
        "StateA2.Print_Prop()\n",
        "StateA3 = HAP(TFstalk,101325,HAPropsSI('RH','T',TFstalk+273.15,'P',101325,'W',StateA2.Humidity_Ratio))\n",
        "print(\"---------StateA3---------\")\n",
        "StateA3.Print_Prop()\n",
        "\n",
        "print(dwa)\n",
        "print(DA)\n",
        "print(QW)\n",
        "print(QA)"
      ],
      "execution_count": 8,
      "outputs": [
        {
          "output_type": "stream",
          "text": [
            "--------------Circulation Water Side - As Water--------------\n",
            "493.28298007084925 Water inlet Enthalpy, kJ/kg\n",
            "357.7848324271168 Water outlet Enthalpy, kJ/kg\n",
            "40.07913046192248 Water Flow Rate, kg/s\n",
            "5430.647936761988 Water Side Heat Duty, kW\n",
            "\n",
            "--------------Flue Gas Side - As Moist Air--------------\n",
            "---------StateA1---------\n",
            "Enthalpy 333.03622444198623 kJ/kg\n",
            "Humidity_Ratio 0.10711365519902781 kg-water/kg-da\n",
            "Specific_Volume 1.0865424660732057 m3/kg\n",
            "Wet_Bulb_Temperature 53.74983094801934 C\n",
            "Dew_Point_Temperature 53.699225379256006 C\n",
            "Relative_Humidity 0.9690624999999999 __\n",
            "\n",
            "---------StateA2---------\n",
            "Enthalpy 376.4748090581649 kJ/kg\n",
            "Humidity_Ratio 0.10770421780762485 kg-water/kg-da\n",
            "Specific_Volume 1.202369125817892 m3/kg\n",
            "Wet_Bulb_Temperature 56.33266586882729 C\n",
            "Dew_Point_Temperature 53.79612861713724 C\n",
            "Relative_Humidity 0.22212127685546879 __\n",
            "\n",
            "---------StateA3---------\n",
            "Enthalpy 369.904987642492 kJ/kg\n",
            "Humidity_Ratio 0.10770421780762482 kg-water/kg-da\n",
            "Specific_Volume 1.1843636067516823 m3/kg\n",
            "Wet_Bulb_Temperature 55.962864256802675 C\n",
            "Dew_Point_Temperature 53.79612861713724 C\n",
            "Relative_Humidity 0.27382193875998234 __\n",
            "\n",
            "1.2447731750253896\n",
            "164.70050848599755\n",
            "5430.647936761988\n",
            "5430.647936761988\n"
          ],
          "name": "stdout"
        }
      ]
    },
    {
      "cell_type": "code",
      "metadata": {
        "id": "UQxMmLrkNJaB",
        "colab_type": "code",
        "outputId": "9262270d-0d75-426c-93ab-09255af0b148",
        "colab": {
          "base_uri": "https://localhost:8080/",
          "height": 255
        }
      },
      "source": [
        "# Heat Balanced Check CTS - Cooler\n",
        "\n",
        "# [Circulation Water Side - As Water]\n",
        "print(\"--------------Circulation Water Side - As Water--------------\")\n",
        "StateW1 = PROP(85.6,395167,\"Water\")\n",
        "print(StateW1.Enthalpy, \"Water inlet Enthalpy, kJ/kg\")\n",
        "StateW2 = PROP(117.7,314107,\"Water\")\n",
        "print(StateW2.Enthalpy, \"Water outlet Enthalpy, kJ/kg\")\n",
        "MW = 149 * StateW1.Desnity/3600 #kg/s\n",
        "print(MW,\"Water Flow Rate, kg/s\")\n",
        "QW = abs(StateW1.Enthalpy-StateW2.Enthalpy) * MW # kg/s*kJ/kg [kW]\n",
        "print(QW, \"Water Side Heat Duty, kW\")\n",
        "\n",
        "#[Flue Gas Side - As Moist Air]\n",
        "#TFin = (154.6+142.7)/2\n",
        "TFin = 147\n",
        "TFout = (117.6+111.3)/2\n",
        "QA = QW\n",
        "Da = 164.70050848599755 # FROM REHEAT CALCULATION RESULT\n",
        "MA = 508239 * 1.2447731750253896/3600 # FROM REHEAT CALCULATION RESULT\n",
        "\n",
        "dH_DA = QA / Da \n",
        "dH_MA = QA / MA\n",
        "\n",
        "#[DRY AIR CHECK]\n",
        "print(\"-----------DRY AIR CHECK-----------\")\n",
        "print(DA,\"DA, kg/s\")\n",
        "print(dH_DA, \"dH_DA, kJ/kg\")\n",
        "StateA1 = PROP(TFin,101325,\"Air\")\n",
        "StateA2 = PROP(TFout,101325,\"Air\")\n",
        "print(StateA1.Enthalpy-StateA2.Enthalpy,\"kJ/kg\")\n",
        "\n",
        "print(dH_DA*DA, \"dH_DA Heat Duty, kJ/kg\")\n",
        "print((StateA1.Enthalpy-StateA2.Enthalpy)*DA, \"DA Heat Duty, kJ/kg\")\n",
        "\n",
        "#[MOIST AIR CHECK]\n",
        "print(\"-----------MOIST AIR CHECK-----------\")\n",
        "print(MA,\"MA, kg/s\")\n",
        "print(dH_MA, \"dH_MA, kJ/kg\")"
      ],
      "execution_count": 25,
      "outputs": [
        {
          "output_type": "stream",
          "text": [
            "--------------Circulation Water Side - As Water--------------\n",
            "358.79968719006627 Water inlet Enthalpy, kJ/kg\n",
            "494.13777601072746 Water outlet Enthalpy, kJ/kg\n",
            "40.07913046192248 Water Flow Rate, kg/s\n",
            "5424.232918310533 Water Side Heat Duty, kW\n",
            "-----------DRY AIR CHECK-----------\n",
            "164.70050848599755 DA, kg/s\n",
            "32.933917254855885 dH_DA, kJ/kg\n",
            "33.02684117930619 kJ/kg\n",
            "5424.232918310533 dH_DA Heat Duty, kJ/kg\n",
            "5439.5375359180125 DA Heat Duty, kJ/kg\n",
            "-----------MOIST AIR CHECK-----------\n",
            "175.73396491714695 MA, kg/s\n",
            "30.866161364241048 dH_MA, kJ/kg\n"
          ],
          "name": "stdout"
        }
      ]
    },
    {
      "cell_type": "code",
      "metadata": {
        "id": "9wDRwwOcPddx",
        "colab_type": "code",
        "colab": {
          "base_uri": "https://localhost:8080/",
          "height": 102
        },
        "outputId": "ce28f946-8356-4256-abc5-f812762bd433"
      },
      "source": [
        "# CHECK WATER MIXED DRY AIR PROPERTIES COMPARISON WITH HTRI ?\n",
        "def MoistAirPercentage(W):\n",
        "  Air_Percentage = 1 / (1+ W)\n",
        "  Water_Percentage =  W / (1+W)\n",
        "  N2_Percentage = Air_Percentage *0.76\n",
        "  O2_Percentage = Air_Percentage * 0.23\n",
        "  Ar_Percentage = Air_Percentage * 0.01\n",
        "  print(\"CASE W=\",W)\n",
        "  print(\"Water_Percentage :\",Water_Percentage)\n",
        "  print(\"N2_Percentage :\",N2_Percentage)\n",
        "  print(\"O2_Percentage :\",O2_Percentage)\n",
        "  print(\"Ar_Percentage :\",Ar_Percentage)\n",
        "  print(\"Percentage ChecK :\",Water_Percentage+N2_Percentage+O2_Percentage+Ar_Percentage)\n",
        "\n",
        "print(\"AIR\",PropsSI('D','P',101325,'T',300,'Air'))\n",
        "print(\"N2[0.78]&O2[0.21]&Ar[0.01]\",PropsSI('D','T',300,'P',101325,'N2[0.78]&O2[0.21]&Ar[0.01]'))\n",
        "\n",
        "#CHECK WATER MIXED DRY AIR & WATRE MIXED N2[0.78]&O2[0.21]&Ar[0.01]\n",
        "Water_Content = 8 #%\n",
        "TFin = (154.6+142.7)/2 +273.15\n",
        "TFout = (117.6+111.3)/2 +273.15\n",
        "\n",
        "N2_P = (1-Water_Content/100)*0.78\n",
        "O2_P = (1-Water_Content/100)*0.21\n",
        "Ar_P = (1-Water_Content/100)*0.01\n",
        "\n",
        "print(N2_P)\n",
        "print(O2_P)\n",
        "print(Ar_P)\n",
        "\n",
        "#print(PropsSI('H','T',TFin,'P',101325,'N2[0.7176]&O2[0.1932]&Ar[0.0092]&Water[0.08]'))\n",
        "#print(PropsSI('H','T',TFout,'P',101325,'N2[0.7176]&O2[0.1932]&Ar[0.0092]&Water[0.08]'))"
      ],
      "execution_count": 18,
      "outputs": [
        {
          "output_type": "stream",
          "text": [
            "AIR 1.1769955883877592\n",
            "N2[0.78]&O2[0.21]&Ar[0.01] 1.1771456308137072\n",
            "0.7176\n",
            "0.1932\n",
            "0.0092\n"
          ],
          "name": "stdout"
        }
      ]
    },
    {
      "cell_type": "code",
      "metadata": {
        "id": "HuwIhBArZRFV",
        "colab_type": "code",
        "colab": {}
      },
      "source": [
        "# CHECK HTRI MOIST AIR AND DRY AIR ENTHALPY DIFFENCE ONCE THE W = SAME\n"
      ],
      "execution_count": 0,
      "outputs": []
    }
  ]
}