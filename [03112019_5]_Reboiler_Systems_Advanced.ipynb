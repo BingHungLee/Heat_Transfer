{
  "nbformat": 4,
  "nbformat_minor": 0,
  "metadata": {
    "colab": {
      "name": "[03112019-5] Reboiler Systems Advanced.ipynb",
      "version": "0.3.2",
      "provenance": [],
      "collapsed_sections": [],
      "include_colab_link": true
    },
    "kernelspec": {
      "name": "python3",
      "display_name": "Python 3"
    }
  },
  "cells": [
    {
      "cell_type": "markdown",
      "metadata": {
        "id": "view-in-github",
        "colab_type": "text"
      },
      "source": [
        "<a href=\"https://colab.research.google.com/github/BingHungLee/Heat_Transfer/blob/master/%5B03112019_5%5D_Reboiler_Systems_Advanced.ipynb\" target=\"_parent\"><img src=\"https://colab.research.google.com/assets/colab-badge.svg\" alt=\"Open In Colab\"/></a>"
      ]
    },
    {
      "metadata": {
        "id": "G8tw4_I8qbbJ",
        "colab_type": "text"
      },
      "cell_type": "markdown",
      "source": [
        "## Pressure drop in the two-phase system\n",
        "1. Frictional Losses\n",
        "2. Gravitational Losses\n",
        "3. Acceleration Losses (Single-phase without this term) \n",
        "  *  These relate to the fact that the pressure drop, both for the liquid and the vapor, has to be the same in a system.\n",
        "  * Since the vapor density is very low compared to the liquid density, the vapor velocity has to be very high to obtain the same pressure drop as for the liquid stream.\n",
        "  * This results in a shear exerted by the vapor on the liquid surfacem which accelerates the liquid layer. The pressure drop associated with it is caleed the acceleration losses.\n",
        "  \n",
        "## In a distillation column, the condenser is usually the cleanest part and the reboiler the dirtiest. Why?\n",
        "\n",
        "### Reboiler\n",
        "* The reboiler accumulates dirt from the liquid stream.\n",
        "\n",
        "### Condenser\n",
        "* Receives only vapor from the distillation column, and any fouling is confined only to the cooling water side.\n",
        "\n",
        "## What are the specially prepared surfaces ?\n",
        "* The plain tubes with a specially prepared, porous, thin layer bonded onto the tubular surface.\n",
        "* The layer has small pors that provide a large number of nucleation sites.\n",
        "* For the same heat flux, the driving potential (Tw-Tsat) for high flux surface is much smaller than smooth surface.\n",
        "*  On vertical fluted tubes, up to 300 percent increase in overall heat transfer coefficients has been observed in simultaneous evaporation and condensation.\n",
        "*  It is reported that (typical groove in enhanced surface)\n",
        "  *   Straight, square-edged grooves are most advantages for Re >500\n",
        "  *   Circular bottom square-groove for 250 < Re <500\n",
        "  *   Triangular groove for Re <500\n",
        "*  The heat transfer rates increase as the contact angle between the liquid and the surface decreases.\n",
        "* The tubes material does affect the heat transfer rate in enhanced tubes.\n",
        "\n",
        "## What are the effects of the manufacturing clearances and bypass lanes on the performance of a unit ?\n",
        "\n",
        "*  Liquid vaporization is reduced since a large fraction of the liquid does not contact the tubes. Some of the tubes may not be completely wet.\n",
        "*  The vapor formed passes through the tube bundle and results in vapor binding of the tubes.\n",
        "\n",
        "## What does a reboiler operation become unstable ?\n",
        "\n",
        "* Condition 1 : If the heat flux is high while the liquid distribution is nonuniform and inadequate to keep the tubes covered, local hot spots develop, and vapor is formed in a spurt as soon as any liquid reaches those hot spots.\n",
        "\n",
        "* Condition 2 : Wavy and slug flow patterns in the two-phase flow regimes are inherently unstable and should be avoided.\n",
        "\n",
        "* Condition 3 :  Changes in the inlet flow rates , compositions, etc make a system departure from its current steady operation and try to seek another steady state.\n",
        "\n",
        "* Condition 4 : If the circulatino rate is low, the boil-off of the available volatile components will result in an increase in the boiling temperature of the remaininig liquid, thus reducing the vaporization rate. Some liquid from the trays will be dumped on the base, which will replenish the volatile components in the circulating stream, and the rate of vaporization will increase until the volatile components decrease again. thus,surges in the vaporization rate will occur periodically resulting in an unsteady operation."
      ]
    },
    {
      "metadata": {
        "id": "cSVH0hTCE_uI",
        "colab_type": "code",
        "colab": {}
      },
      "cell_type": "code",
      "source": [
        ""
      ],
      "execution_count": 0,
      "outputs": []
    }
  ]
}