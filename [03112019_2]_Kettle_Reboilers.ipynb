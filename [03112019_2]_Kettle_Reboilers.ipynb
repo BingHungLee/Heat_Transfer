{
  "nbformat": 4,
  "nbformat_minor": 0,
  "metadata": {
    "colab": {
      "name": "[03112019-2] Kettle Reboilers.ipynb",
      "version": "0.3.2",
      "provenance": [],
      "collapsed_sections": [],
      "include_colab_link": true
    },
    "kernelspec": {
      "name": "python3",
      "display_name": "Python 3"
    }
  },
  "cells": [
    {
      "cell_type": "markdown",
      "metadata": {
        "id": "view-in-github",
        "colab_type": "text"
      },
      "source": [
        "<a href=\"https://colab.research.google.com/github/BingHungLee/Heat_Transfer/blob/master/%5B03112019_2%5D_Kettle_Reboilers.ipynb\" target=\"_parent\"><img src=\"https://colab.research.google.com/assets/colab-badge.svg\" alt=\"Open In Colab\"/></a>"
      ]
    },
    {
      "metadata": {
        "id": "iPx5RWWR0F74",
        "colab_type": "text"
      },
      "cell_type": "markdown",
      "source": [
        "### General guideline of designing Kettle reboilers.\n",
        "\n",
        "* It has a **U-tube bundle** in the lower half protion leaving the remainder of the shell space for the disengagement of the entrained liquid droplets from the vapor.\n",
        "* The tubesheet diameter is shorter than the main shell diameter.\n",
        "* [**VAPOR BINDING**]The vapor produced in the lower portion blankets some of the tubes in the upper portion thus reducing the heat flux there. However, the movement of the vapor also results in circulation within the liquid phase. **The net effect is a variable heat flux**. This variation is both from bottom to top, and from the edge of the bundle to inside. I**n order that the vapor can move up easily, the tube pitch-to-tube diameter ratio is generally larger (1.5-2) than in a single phase heat exchanger (1.1-1.5)**. **If vapor blanketing occurs, nucleate boiling will give away to film boiling and the heat transfer will come down. A long,thic bundle is preferable to a short ,fat one to avoid vapor blanketing**.\n",
        "* The tubes are kept immersed in the liquid by means of a wier. Excess liquid drains out.\n",
        "* The pressure drop in these uints is low.\n",
        "*  Multiple inlet design may be used for better liquid distribution.\n",
        "*  Mesh pads are generally used below the exit nozzle to remove the entrained droplets.\n",
        "*  This reboiler **is not suitable for liquids that foam**, since the two-phase level rises very high.\n",
        "*  Ease to clean and maintain\n",
        "* ** Not used for high-pressure**, since the shell size is larger than tube bundle, it will require a rather thick shell.\n",
        "* Only a part of the feed is vaporized. The concentration bottom products are withdrawn from the osther side of the weir.\n",
        "\n",
        "### Natural circulation or Forced circulation\n",
        "* For Natural Circulation\n",
        "  *  High residence time - Not suitable for heat-sensitive materials.\n",
        "  *  Low flow velocity - Higher fouling deposits\n",
        "  \n",
        "\n",
        "### Ｗhat is the relation between the liquid level and the disengagement space ?\n",
        "* The amount of disengagement space in terms of the ratio of the shell diameter to the tube bundle diameter increases with increasing heat flux.\n",
        "\n",
        "* The heat transfer coefficient and the maximm heat flux for various liquids to avoid film boiling are shown in the tabulation below :\n",
        "  *  Organic 200-400(Btu/hr.ft2oF), 800-1500(Btu/hr.ft2)\n",
        "  *  Aqueous 20,000(Btu/hr.ft2oF), 28,000-35,000(Btu/hr.ft2)\n",
        "\n"
      ]
    }
  ]
}